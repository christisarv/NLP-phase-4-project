{
 "cells": [
  {
   "cell_type": "markdown",
   "metadata": {},
   "source": [
    "# NLP for Sentiment Analysis with Twitter Data"
   ]
  },
  {
   "cell_type": "markdown",
   "metadata": {},
   "source": [
    "## Introduction\n",
    "\n",
    "The goal of this project is to build a model that can classify the sentiment of a tweet based on its contents. \n",
    "\n",
    "The data used is sourced from Twitter from SXSW 2013, and contains tweets about the SXSW tech events and product announcements. Most of the tweets are about Apple and Google, and many mention specific products. The raw data can be found in the data folder in this repository.\n",
    "\n",
    "The data was manually labeled for classification, and contains the tweet text, the product or brand mentioned, and the sentiment as interpreted by the labeler.\n"
   ]
  },
  {
   "cell_type": "markdown",
   "metadata": {},
   "source": [
    "## Business Objective\n",
    "\n",
    "The resulting model will be used to classify tweets from future tech conferences from Google and Apple, and analyze how sentiment for the brands has changed over time. \n",
    "\n",
    "I'll be evaluating my model based on accuracy score to understand how the model is performing holistically. "
   ]
  },
  {
   "cell_type": "markdown",
   "metadata": {},
   "source": [
    "## Data Exploration and Cleaning\n",
    "\n",
    "After running all the relevant imports and the csv file, I can preview the dataset below.There are three columns, where the column describing the brand/product is mostly null. There is only one null in the tweet text column so I will drop that. "
   ]
  },
  {
   "cell_type": "code",
   "execution_count": 1,
   "metadata": {},
   "outputs": [],
   "source": [
    "import pandas as pd\n",
    "import numpy as np\n",
    "\n",
    "#visualization\n",
    "import matplotlib.pyplot as plt\n",
    "from wordcloud import WordCloud\n",
    "\n",
    "#text processing\n",
    "from sklearn.feature_extraction.text import CountVectorizer\n",
    "from sklearn.feature_extraction.text import TfidfVectorizer\n",
    "from sklearn.model_selection import train_test_split\n",
    "import re\n",
    "import nltk\n",
    "import string\n",
    "from nltk import word_tokenize, FreqDist\n",
    "from nltk.corpus import stopwords\n",
    "\n",
    "#modeling\n",
    "from sklearn.svm import SVC\n",
    "from sklearn.naive_bayes import MultinomialNB\n",
    "from sklearn.ensemble import RandomForestClassifier\n",
    "from sklearn.metrics import accuracy_score, plot_confusion_matrix\n",
    "from sklearn.naive_bayes import ComplementNB\n",
    "\n",
    "import warnings\n",
    "warnings.filterwarnings('ignore')"
   ]
  },
  {
   "cell_type": "code",
   "execution_count": 2,
   "metadata": {
    "scrolled": true
   },
   "outputs": [
    {
     "name": "stdout",
     "output_type": "stream",
     "text": [
      "<class 'pandas.core.frame.DataFrame'>\n",
      "RangeIndex: 9093 entries, 0 to 9092\n",
      "Data columns (total 3 columns):\n",
      "tweet_text                                            9092 non-null object\n",
      "emotion_in_tweet_is_directed_at                       3291 non-null object\n",
      "is_there_an_emotion_directed_at_a_brand_or_product    9093 non-null object\n",
      "dtypes: object(3)\n",
      "memory usage: 213.2+ KB\n"
     ]
    }
   ],
   "source": [
    "raw_data = pd.read_csv('data/judge-1377884607_tweet_product_company.csv', encoding = 'latin1')\n",
    "raw_data.info()"
   ]
  },
  {
   "cell_type": "code",
   "execution_count": 3,
   "metadata": {},
   "outputs": [
    {
     "data": {
      "text/html": [
       "<div>\n",
       "<style scoped>\n",
       "    .dataframe tbody tr th:only-of-type {\n",
       "        vertical-align: middle;\n",
       "    }\n",
       "\n",
       "    .dataframe tbody tr th {\n",
       "        vertical-align: top;\n",
       "    }\n",
       "\n",
       "    .dataframe thead th {\n",
       "        text-align: right;\n",
       "    }\n",
       "</style>\n",
       "<table border=\"1\" class=\"dataframe\">\n",
       "  <thead>\n",
       "    <tr style=\"text-align: right;\">\n",
       "      <th></th>\n",
       "      <th>tweet_text</th>\n",
       "      <th>emotion_in_tweet_is_directed_at</th>\n",
       "      <th>is_there_an_emotion_directed_at_a_brand_or_product</th>\n",
       "    </tr>\n",
       "  </thead>\n",
       "  <tbody>\n",
       "    <tr>\n",
       "      <th>0</th>\n",
       "      <td>.@wesley83 I have a 3G iPhone. After 3 hrs twe...</td>\n",
       "      <td>iPhone</td>\n",
       "      <td>Negative emotion</td>\n",
       "    </tr>\n",
       "    <tr>\n",
       "      <th>1</th>\n",
       "      <td>@jessedee Know about @fludapp ? Awesome iPad/i...</td>\n",
       "      <td>iPad or iPhone App</td>\n",
       "      <td>Positive emotion</td>\n",
       "    </tr>\n",
       "    <tr>\n",
       "      <th>2</th>\n",
       "      <td>@swonderlin Can not wait for #iPad 2 also. The...</td>\n",
       "      <td>iPad</td>\n",
       "      <td>Positive emotion</td>\n",
       "    </tr>\n",
       "    <tr>\n",
       "      <th>3</th>\n",
       "      <td>@sxsw I hope this year's festival isn't as cra...</td>\n",
       "      <td>iPad or iPhone App</td>\n",
       "      <td>Negative emotion</td>\n",
       "    </tr>\n",
       "    <tr>\n",
       "      <th>4</th>\n",
       "      <td>@sxtxstate great stuff on Fri #SXSW: Marissa M...</td>\n",
       "      <td>Google</td>\n",
       "      <td>Positive emotion</td>\n",
       "    </tr>\n",
       "  </tbody>\n",
       "</table>\n",
       "</div>"
      ],
      "text/plain": [
       "                                          tweet_text  \\\n",
       "0  .@wesley83 I have a 3G iPhone. After 3 hrs twe...   \n",
       "1  @jessedee Know about @fludapp ? Awesome iPad/i...   \n",
       "2  @swonderlin Can not wait for #iPad 2 also. The...   \n",
       "3  @sxsw I hope this year's festival isn't as cra...   \n",
       "4  @sxtxstate great stuff on Fri #SXSW: Marissa M...   \n",
       "\n",
       "  emotion_in_tweet_is_directed_at  \\\n",
       "0                          iPhone   \n",
       "1              iPad or iPhone App   \n",
       "2                            iPad   \n",
       "3              iPad or iPhone App   \n",
       "4                          Google   \n",
       "\n",
       "  is_there_an_emotion_directed_at_a_brand_or_product  \n",
       "0                                   Negative emotion  \n",
       "1                                   Positive emotion  \n",
       "2                                   Positive emotion  \n",
       "3                                   Negative emotion  \n",
       "4                                   Positive emotion  "
      ]
     },
     "execution_count": 3,
     "metadata": {},
     "output_type": "execute_result"
    }
   ],
   "source": [
    "# theres's only one null in the tweet text column so I'm dropping it here\n",
    "raw_data = raw_data.drop(index=6, axis=0)\n",
    "raw_data.head()"
   ]
  },
  {
   "cell_type": "markdown",
   "metadata": {},
   "source": [
    "Taking a look at the subjects of the tweets, I can see they are labeled with several subcategories of Google and Apple products. However, most of this column is null values.  "
   ]
  },
  {
   "cell_type": "code",
   "execution_count": 4,
   "metadata": {
    "scrolled": true
   },
   "outputs": [
    {
     "data": {
      "text/plain": [
       "iPad                               946\n",
       "Apple                              661\n",
       "iPad or iPhone App                 470\n",
       "Google                             430\n",
       "iPhone                             297\n",
       "Other Google product or service    293\n",
       "Android App                         81\n",
       "Android                             78\n",
       "Other Apple product or service      35\n",
       "Name: emotion_in_tweet_is_directed_at, dtype: int64"
      ]
     },
     "execution_count": 4,
     "metadata": {},
     "output_type": "execute_result"
    }
   ],
   "source": [
    "raw_data['emotion_in_tweet_is_directed_at'].value_counts()"
   ]
  },
  {
   "cell_type": "markdown",
   "metadata": {},
   "source": [
    "And looking at the sentiment, it looks like most of these are labeled as neutral and there are actually very few negative tweets. I assume this is because the tweets are from product announcements at SXSW, so the atmosphere is focused on excitement or news around new product launches. "
   ]
  },
  {
   "cell_type": "code",
   "execution_count": 6,
   "metadata": {
    "scrolled": true
   },
   "outputs": [
    {
     "data": {
      "text/plain": [
       "No emotion toward brand or product    5388\n",
       "Positive emotion                      2978\n",
       "Negative emotion                       570\n",
       "I can't tell                           156\n",
       "Name: is_there_an_emotion_directed_at_a_brand_or_product, dtype: int64"
      ]
     },
     "execution_count": 6,
     "metadata": {},
     "output_type": "execute_result"
    }
   ],
   "source": [
    "raw_data['is_there_an_emotion_directed_at_a_brand_or_product'].value_counts()"
   ]
  },
  {
   "cell_type": "markdown",
   "metadata": {},
   "source": [
    "I want to take a closer look at the 'I can't tell' category to see if I can group it in with neutral or if I should disregard. "
   ]
  },
  {
   "cell_type": "code",
   "execution_count": 7,
   "metadata": {
    "scrolled": true
   },
   "outputs": [
    {
     "data": {
      "text/html": [
       "<div>\n",
       "<style scoped>\n",
       "    .dataframe tbody tr th:only-of-type {\n",
       "        vertical-align: middle;\n",
       "    }\n",
       "\n",
       "    .dataframe tbody tr th {\n",
       "        vertical-align: top;\n",
       "    }\n",
       "\n",
       "    .dataframe thead th {\n",
       "        text-align: right;\n",
       "    }\n",
       "</style>\n",
       "<table border=\"1\" class=\"dataframe\">\n",
       "  <thead>\n",
       "    <tr style=\"text-align: right;\">\n",
       "      <th></th>\n",
       "      <th>tweet_text</th>\n",
       "      <th>emotion_in_tweet_is_directed_at</th>\n",
       "      <th>is_there_an_emotion_directed_at_a_brand_or_product</th>\n",
       "    </tr>\n",
       "  </thead>\n",
       "  <tbody>\n",
       "    <tr>\n",
       "      <th>90</th>\n",
       "      <td>Thanks to @mention for publishing the news of ...</td>\n",
       "      <td>NaN</td>\n",
       "      <td>I can't tell</td>\n",
       "    </tr>\n",
       "    <tr>\n",
       "      <th>102</th>\n",
       "      <td>ÛÏ@mention &amp;quot;Apple has opened a pop-up st...</td>\n",
       "      <td>NaN</td>\n",
       "      <td>I can't tell</td>\n",
       "    </tr>\n",
       "    <tr>\n",
       "      <th>237</th>\n",
       "      <td>Just what America needs. RT @mention Google to...</td>\n",
       "      <td>NaN</td>\n",
       "      <td>I can't tell</td>\n",
       "    </tr>\n",
       "    <tr>\n",
       "      <th>341</th>\n",
       "      <td>The queue at the Apple Store in Austin is FOUR...</td>\n",
       "      <td>NaN</td>\n",
       "      <td>I can't tell</td>\n",
       "    </tr>\n",
       "    <tr>\n",
       "      <th>368</th>\n",
       "      <td>Hope it's better than wave RT @mention Buzz is...</td>\n",
       "      <td>NaN</td>\n",
       "      <td>I can't tell</td>\n",
       "    </tr>\n",
       "  </tbody>\n",
       "</table>\n",
       "</div>"
      ],
      "text/plain": [
       "                                            tweet_text  \\\n",
       "90   Thanks to @mention for publishing the news of ...   \n",
       "102  ÛÏ@mention &quot;Apple has opened a pop-up st...   \n",
       "237  Just what America needs. RT @mention Google to...   \n",
       "341  The queue at the Apple Store in Austin is FOUR...   \n",
       "368  Hope it's better than wave RT @mention Buzz is...   \n",
       "\n",
       "    emotion_in_tweet_is_directed_at  \\\n",
       "90                              NaN   \n",
       "102                             NaN   \n",
       "237                             NaN   \n",
       "341                             NaN   \n",
       "368                             NaN   \n",
       "\n",
       "    is_there_an_emotion_directed_at_a_brand_or_product  \n",
       "90                                        I can't tell  \n",
       "102                                       I can't tell  \n",
       "237                                       I can't tell  \n",
       "341                                       I can't tell  \n",
       "368                                       I can't tell  "
      ]
     },
     "execution_count": 7,
     "metadata": {},
     "output_type": "execute_result"
    }
   ],
   "source": [
    "ct_df = raw_data[raw_data['is_there_an_emotion_directed_at_a_brand_or_product'] == 'I can\\'t tell']\n",
    "ct_df.head()"
   ]
  },
  {
   "cell_type": "markdown",
   "metadata": {},
   "source": [
    "Seems like a mixed bag. I'm going to drop these since there are already so many more neutrals and it would just contribute to the class imbalance. "
   ]
  },
  {
   "cell_type": "code",
   "execution_count": 8,
   "metadata": {
    "scrolled": true
   },
   "outputs": [],
   "source": [
    "raw_data = raw_data.drop([row for row in ct_df.index])"
   ]
  },
  {
   "cell_type": "markdown",
   "metadata": {},
   "source": [
    "I also want to preview the neutral tweets... and they look pretty neutral. So I'm going to create a new classifier column to sort these into: -1 for negative and 1 for positive. The neutrals will be the default 0."
   ]
  },
  {
   "cell_type": "code",
   "execution_count": 9,
   "metadata": {},
   "outputs": [
    {
     "data": {
      "text/html": [
       "<div>\n",
       "<style scoped>\n",
       "    .dataframe tbody tr th:only-of-type {\n",
       "        vertical-align: middle;\n",
       "    }\n",
       "\n",
       "    .dataframe tbody tr th {\n",
       "        vertical-align: top;\n",
       "    }\n",
       "\n",
       "    .dataframe thead th {\n",
       "        text-align: right;\n",
       "    }\n",
       "</style>\n",
       "<table border=\"1\" class=\"dataframe\">\n",
       "  <thead>\n",
       "    <tr style=\"text-align: right;\">\n",
       "      <th></th>\n",
       "      <th>tweet_text</th>\n",
       "      <th>emotion_in_tweet_is_directed_at</th>\n",
       "      <th>is_there_an_emotion_directed_at_a_brand_or_product</th>\n",
       "    </tr>\n",
       "  </thead>\n",
       "  <tbody>\n",
       "    <tr>\n",
       "      <th>5</th>\n",
       "      <td>@teachntech00 New iPad Apps For #SpeechTherapy...</td>\n",
       "      <td>NaN</td>\n",
       "      <td>No emotion toward brand or product</td>\n",
       "    </tr>\n",
       "    <tr>\n",
       "      <th>16</th>\n",
       "      <td>Holler Gram for iPad on the iTunes App Store -...</td>\n",
       "      <td>NaN</td>\n",
       "      <td>No emotion toward brand or product</td>\n",
       "    </tr>\n",
       "    <tr>\n",
       "      <th>32</th>\n",
       "      <td>Attn: All  #SXSW frineds, @mention Register fo...</td>\n",
       "      <td>NaN</td>\n",
       "      <td>No emotion toward brand or product</td>\n",
       "    </tr>\n",
       "    <tr>\n",
       "      <th>33</th>\n",
       "      <td>Anyone at  #sxsw want to sell their old iPad?</td>\n",
       "      <td>NaN</td>\n",
       "      <td>No emotion toward brand or product</td>\n",
       "    </tr>\n",
       "    <tr>\n",
       "      <th>34</th>\n",
       "      <td>Anyone at  #SXSW who bought the new iPad want ...</td>\n",
       "      <td>NaN</td>\n",
       "      <td>No emotion toward brand or product</td>\n",
       "    </tr>\n",
       "  </tbody>\n",
       "</table>\n",
       "</div>"
      ],
      "text/plain": [
       "                                           tweet_text  \\\n",
       "5   @teachntech00 New iPad Apps For #SpeechTherapy...   \n",
       "16  Holler Gram for iPad on the iTunes App Store -...   \n",
       "32  Attn: All  #SXSW frineds, @mention Register fo...   \n",
       "33      Anyone at  #sxsw want to sell their old iPad?   \n",
       "34  Anyone at  #SXSW who bought the new iPad want ...   \n",
       "\n",
       "   emotion_in_tweet_is_directed_at  \\\n",
       "5                              NaN   \n",
       "16                             NaN   \n",
       "32                             NaN   \n",
       "33                             NaN   \n",
       "34                             NaN   \n",
       "\n",
       "   is_there_an_emotion_directed_at_a_brand_or_product  \n",
       "5                  No emotion toward brand or product  \n",
       "16                 No emotion toward brand or product  \n",
       "32                 No emotion toward brand or product  \n",
       "33                 No emotion toward brand or product  \n",
       "34                 No emotion toward brand or product  "
      ]
     },
     "execution_count": 9,
     "metadata": {},
     "output_type": "execute_result"
    }
   ],
   "source": [
    "ne_df = raw_data[raw_data['is_there_an_emotion_directed_at_a_brand_or_product'] == 'No emotion toward brand or product']\n",
    "ne_df.head()"
   ]
  },
  {
   "cell_type": "code",
   "execution_count": 10,
   "metadata": {
    "scrolled": true
   },
   "outputs": [
    {
     "name": "stderr",
     "output_type": "stream",
     "text": [
      "C:\\Users\\christina.sarver\\Anaconda3\\envs\\learn-env\\lib\\site-packages\\ipykernel_launcher.py:7: SettingWithCopyWarning: \n",
      "A value is trying to be set on a copy of a slice from a DataFrame\n",
      "\n",
      "See the caveats in the documentation: http://pandas.pydata.org/pandas-docs/stable/user_guide/indexing.html#returning-a-view-versus-a-copy\n",
      "  import sys\n",
      "C:\\Users\\christina.sarver\\Anaconda3\\envs\\learn-env\\lib\\site-packages\\ipykernel_launcher.py:5: SettingWithCopyWarning: \n",
      "A value is trying to be set on a copy of a slice from a DataFrame\n",
      "\n",
      "See the caveats in the documentation: http://pandas.pydata.org/pandas-docs/stable/user_guide/indexing.html#returning-a-view-versus-a-copy\n",
      "  \"\"\"\n"
     ]
    },
    {
     "data": {
      "text/html": [
       "<div>\n",
       "<style scoped>\n",
       "    .dataframe tbody tr th:only-of-type {\n",
       "        vertical-align: middle;\n",
       "    }\n",
       "\n",
       "    .dataframe tbody tr th {\n",
       "        vertical-align: top;\n",
       "    }\n",
       "\n",
       "    .dataframe thead th {\n",
       "        text-align: right;\n",
       "    }\n",
       "</style>\n",
       "<table border=\"1\" class=\"dataframe\">\n",
       "  <thead>\n",
       "    <tr style=\"text-align: right;\">\n",
       "      <th></th>\n",
       "      <th>tweet_text</th>\n",
       "      <th>emotion_in_tweet_is_directed_at</th>\n",
       "      <th>is_there_an_emotion_directed_at_a_brand_or_product</th>\n",
       "      <th>class</th>\n",
       "    </tr>\n",
       "  </thead>\n",
       "  <tbody>\n",
       "    <tr>\n",
       "      <th>0</th>\n",
       "      <td>.@wesley83 I have a 3G iPhone. After 3 hrs twe...</td>\n",
       "      <td>iPhone</td>\n",
       "      <td>Negative emotion</td>\n",
       "      <td>-1</td>\n",
       "    </tr>\n",
       "    <tr>\n",
       "      <th>1</th>\n",
       "      <td>@jessedee Know about @fludapp ? Awesome iPad/i...</td>\n",
       "      <td>iPad or iPhone App</td>\n",
       "      <td>Positive emotion</td>\n",
       "      <td>1</td>\n",
       "    </tr>\n",
       "    <tr>\n",
       "      <th>2</th>\n",
       "      <td>@swonderlin Can not wait for #iPad 2 also. The...</td>\n",
       "      <td>iPad</td>\n",
       "      <td>Positive emotion</td>\n",
       "      <td>1</td>\n",
       "    </tr>\n",
       "    <tr>\n",
       "      <th>3</th>\n",
       "      <td>@sxsw I hope this year's festival isn't as cra...</td>\n",
       "      <td>iPad or iPhone App</td>\n",
       "      <td>Negative emotion</td>\n",
       "      <td>-1</td>\n",
       "    </tr>\n",
       "    <tr>\n",
       "      <th>4</th>\n",
       "      <td>@sxtxstate great stuff on Fri #SXSW: Marissa M...</td>\n",
       "      <td>Google</td>\n",
       "      <td>Positive emotion</td>\n",
       "      <td>1</td>\n",
       "    </tr>\n",
       "    <tr>\n",
       "      <th>5</th>\n",
       "      <td>@teachntech00 New iPad Apps For #SpeechTherapy...</td>\n",
       "      <td>NaN</td>\n",
       "      <td>No emotion toward brand or product</td>\n",
       "      <td>0</td>\n",
       "    </tr>\n",
       "    <tr>\n",
       "      <th>7</th>\n",
       "      <td>#SXSW is just starting, #CTIA is around the co...</td>\n",
       "      <td>Android</td>\n",
       "      <td>Positive emotion</td>\n",
       "      <td>1</td>\n",
       "    </tr>\n",
       "    <tr>\n",
       "      <th>8</th>\n",
       "      <td>Beautifully smart and simple idea RT @madebyma...</td>\n",
       "      <td>iPad or iPhone App</td>\n",
       "      <td>Positive emotion</td>\n",
       "      <td>1</td>\n",
       "    </tr>\n",
       "    <tr>\n",
       "      <th>9</th>\n",
       "      <td>Counting down the days to #sxsw plus strong Ca...</td>\n",
       "      <td>Apple</td>\n",
       "      <td>Positive emotion</td>\n",
       "      <td>1</td>\n",
       "    </tr>\n",
       "    <tr>\n",
       "      <th>10</th>\n",
       "      <td>Excited to meet the @samsungmobileus at #sxsw ...</td>\n",
       "      <td>Android</td>\n",
       "      <td>Positive emotion</td>\n",
       "      <td>1</td>\n",
       "    </tr>\n",
       "  </tbody>\n",
       "</table>\n",
       "</div>"
      ],
      "text/plain": [
       "                                           tweet_text  \\\n",
       "0   .@wesley83 I have a 3G iPhone. After 3 hrs twe...   \n",
       "1   @jessedee Know about @fludapp ? Awesome iPad/i...   \n",
       "2   @swonderlin Can not wait for #iPad 2 also. The...   \n",
       "3   @sxsw I hope this year's festival isn't as cra...   \n",
       "4   @sxtxstate great stuff on Fri #SXSW: Marissa M...   \n",
       "5   @teachntech00 New iPad Apps For #SpeechTherapy...   \n",
       "7   #SXSW is just starting, #CTIA is around the co...   \n",
       "8   Beautifully smart and simple idea RT @madebyma...   \n",
       "9   Counting down the days to #sxsw plus strong Ca...   \n",
       "10  Excited to meet the @samsungmobileus at #sxsw ...   \n",
       "\n",
       "   emotion_in_tweet_is_directed_at  \\\n",
       "0                           iPhone   \n",
       "1               iPad or iPhone App   \n",
       "2                             iPad   \n",
       "3               iPad or iPhone App   \n",
       "4                           Google   \n",
       "5                              NaN   \n",
       "7                          Android   \n",
       "8               iPad or iPhone App   \n",
       "9                            Apple   \n",
       "10                         Android   \n",
       "\n",
       "   is_there_an_emotion_directed_at_a_brand_or_product  class  \n",
       "0                                    Negative emotion     -1  \n",
       "1                                    Positive emotion      1  \n",
       "2                                    Positive emotion      1  \n",
       "3                                    Negative emotion     -1  \n",
       "4                                    Positive emotion      1  \n",
       "5                  No emotion toward brand or product      0  \n",
       "7                                    Positive emotion      1  \n",
       "8                                    Positive emotion      1  \n",
       "9                                    Positive emotion      1  \n",
       "10                                   Positive emotion      1  "
      ]
     },
     "execution_count": 10,
     "metadata": {},
     "output_type": "execute_result"
    }
   ],
   "source": [
    "#creating a new column for multiclass problem\n",
    "raw_data['class'] = 0\n",
    "for row in raw_data.index:\n",
    "    if raw_data['is_there_an_emotion_directed_at_a_brand_or_product'][row] == 'Positive emotion':\n",
    "        raw_data['class'][row] = 1\n",
    "    elif raw_data['is_there_an_emotion_directed_at_a_brand_or_product'][row] == 'Negative emotion':\n",
    "        raw_data['class'][row] = -1\n",
    "        \n",
    "raw_data.head(6)"
   ]
  },
  {
   "cell_type": "markdown",
   "metadata": {},
   "source": [
    "As noted, the classes are pretty imbalanced. This could become a problem when working through the modeling so I will keep this in mind. \n",
    "\n",
    "I can also see that most of the neutral tweets also don't have product labels associated so they really aren't contributing much information. Ultimately, I want to keep the neutral tweets in the data that I use because without them the data set would be really small."
   ]
  },
  {
   "cell_type": "code",
   "execution_count": 171,
   "metadata": {
    "scrolled": false
   },
   "outputs": [
    {
     "data": {
      "text/html": [
       "<div>\n",
       "<style scoped>\n",
       "    .dataframe tbody tr th:only-of-type {\n",
       "        vertical-align: middle;\n",
       "    }\n",
       "\n",
       "    .dataframe tbody tr th {\n",
       "        vertical-align: top;\n",
       "    }\n",
       "\n",
       "    .dataframe thead th {\n",
       "        text-align: right;\n",
       "    }\n",
       "</style>\n",
       "<table border=\"1\" class=\"dataframe\">\n",
       "  <thead>\n",
       "    <tr style=\"text-align: right;\">\n",
       "      <th></th>\n",
       "      <th>tweet_text</th>\n",
       "      <th>emotion_in_tweet_is_directed_at</th>\n",
       "      <th>is_there_an_emotion_directed_at_a_brand_or_product</th>\n",
       "      <th>class</th>\n",
       "      <th>clean_tweet</th>\n",
       "      <th>Brand Mentioned</th>\n",
       "    </tr>\n",
       "  </thead>\n",
       "  <tbody>\n",
       "  </tbody>\n",
       "</table>\n",
       "</div>"
      ],
      "text/plain": [
       "Empty DataFrame\n",
       "Columns: [tweet_text, emotion_in_tweet_is_directed_at, is_there_an_emotion_directed_at_a_brand_or_product, class, clean_tweet, Brand Mentioned]\n",
       "Index: []"
      ]
     },
     "execution_count": 171,
     "metadata": {},
     "output_type": "execute_result"
    }
   ],
   "source": [
    "nulls_df = raw_data[raw_data['emotion_in_tweet_is_directed_at'].isna()]\n",
    "nulls_df.head()"
   ]
  },
  {
   "cell_type": "markdown",
   "metadata": {},
   "source": [
    "In order to visualize how sentiment differs by the brands in this data set, I'll put together a visual. First, I need to fill NAs. Then to make it look cleaner, I'm going to sort all the sub products into just Google or Apple."
   ]
  },
  {
   "cell_type": "code",
   "execution_count": 116,
   "metadata": {},
   "outputs": [],
   "source": [
    "#creating a new clean column\n",
    "raw_data['Brand Mentioned'] = raw_data['emotion_in_tweet_is_directed_at'].fillna('unspecified')"
   ]
  },
  {
   "cell_type": "code",
   "execution_count": 161,
   "metadata": {},
   "outputs": [],
   "source": [
    "# using lambda function to sort all the subcategories into their respective brand\n",
    "\n",
    "raw_data['Brand Mentioned'] = raw_data['emotion_in_tweet_is_directed_at'].map(\n",
    "    lambda x: x.replace(\"Other Apple product or service\" and \"iPad\" and \"Apple or iPhone App\" and \"Apple or Apple App\" and \"iPhone\", \"Apple\"))\n",
    "raw_data['Brand Mentioned'] = raw_data['emotion_in_tweet_is_directed_at'].map(\n",
    "    lambda x: x.replace(\"Apple or Apple App\", \"Apple\"))\n",
    "raw_data['Brand Mentioned'] = raw_data['emotion_in_tweet_is_directed_at'].map(\n",
    "    lambda x: x.replace(\"Android\", \"Google\"))\n",
    "raw_data['Brand Mentioned'] = raw_data['emotion_in_tweet_is_directed_at'].map(\n",
    "    lambda x: x.replace(\"Other Google product or service\" and \"Android\" and \"Android App\", \"Google\"))"
   ]
  },
  {
   "cell_type": "code",
   "execution_count": 162,
   "metadata": {
    "scrolled": false
   },
   "outputs": [],
   "source": [
    "#using a groupby to grab the product and sentiment\n",
    "grouped = raw_data.groupby(['class', 'Brand Mentioned', ]).count()[\n",
    "    'is_there_an_emotion_directed_at_a_brand_or_product']"
   ]
  },
  {
   "cell_type": "code",
   "execution_count": 163,
   "metadata": {
    "scrolled": true
   },
   "outputs": [
    {
     "data": {
      "text/plain": [
       "<Figure size 1800x1080 with 0 Axes>"
      ]
     },
     "metadata": {},
     "output_type": "display_data"
    },
    {
     "data": {
      "image/png": "[encoded data removed]",
      "text/plain": [
       "<Figure size 432x288 with 1 Axes>"
      ]
     },
     "metadata": {
      "needs_background": "light"
     },
     "output_type": "display_data"
    }
   ],
   "source": [
    "plt.figure(figsize=(25, 15))\n",
    "fig = test.unstack().plot(kind='bar', stacked=True, align=\"center\")\n",
    "\n",
    "fig.set_title('Sentiment by Product')\n",
    "\n",
    "fig.set_xlabel('Sentiment')\n",
    "fig.set_ylabel('Occurrences by Brand')\n",
    "\n",
    "plt.savefig('Images/sentiment_bars')"
   ]
  },
  {
   "cell_type": "markdown",
   "metadata": {},
   "source": [
    "As we can see, a majority of the neutral tweets arent labeled by product. Of the negatives and positives, the majority are about Apple products. The chart suggests that sentiment doesn't necessarily differ for each brand, but overall conversation tends to be more about Apple. "
   ]
  },
  {
   "cell_type": "markdown",
   "metadata": {},
   "source": [
    "## Preprocessing"
   ]
  },
  {
   "cell_type": "markdown",
   "metadata": {},
   "source": [
    "I'm going to start a new column for processed text. The first step I am going to take is to remove handles, since they aren't actual content and shouldn't convey tone. \n",
    "\n",
    "I'm using regex to grab these as well as URLs replace them with nothing. The example below shows they have been removed!"
   ]
  },
  {
   "cell_type": "code",
   "execution_count": 25,
   "metadata": {},
   "outputs": [],
   "source": [
    "raw_data['clean_tweet'] = [re.sub(r'(http://[^\"\\s]+)|(@\\w+)', '', tweet) for tweet in raw_data['tweet_text']]"
   ]
  },
  {
   "cell_type": "code",
   "execution_count": 26,
   "metadata": {},
   "outputs": [
    {
     "name": "stdout",
     "output_type": "stream",
     "text": [
      "haha, awesomely rad iPad app by @madebymany http://bit.ly/hTdFim #hollergram #sxsw\n",
      "haha, awesomely rad iPad app by   #hollergram #sxsw\n"
     ]
    }
   ],
   "source": [
    "print(raw_data.iloc[14][0])\n",
    "print(raw_data.iloc[14][4])"
   ]
  },
  {
   "cell_type": "markdown",
   "metadata": {},
   "source": [
    "Now, I can compile a list of stopwords from NLTK so I can remove all the filler words in the text that don't actually contain any information. This will also remove punctuation for when the tweets are tokenized, so the hashtags can be read as words. "
   ]
  },
  {
   "cell_type": "code",
   "execution_count": 27,
   "metadata": {},
   "outputs": [],
   "source": [
    "stopwords_list = stopwords.words('english')\n",
    "stopwords_list += string.punctuation\n",
    "punct_list = [\"''\", '\"\"', '...', '``']\n",
    "stopwords_list += punct_list"
   ]
  },
  {
   "cell_type": "markdown",
   "metadata": {},
   "source": [
    "Before I move into modeling, I am going to take a look at what my data will contain when tokenized. I can see that punctuation has been removed and each tweet has transformed into a list of its most meaningful words."
   ]
  },
  {
   "cell_type": "code",
   "execution_count": 28,
   "metadata": {
    "scrolled": true
   },
   "outputs": [],
   "source": [
    "# this function will lowercase everything and remove stopwords and punctuation\n",
    "\n",
    "def process_tweet(tweet):\n",
    "    tokens = nltk.word_tokenize(tweet)\n",
    "    words_lower = [token.lower() for token in tokens]\n",
    "    words_stopped = [word for word in words_lower if word not in stopwords_list]\n",
    "    return words_stopped\n",
    "\n",
    "#previewing the results\n",
    "processed_data = list(map(process_tweet, raw_data['clean_tweet']))\n",
    "\n",
    "processed_data[0]"
   ]
  },
  {
   "cell_type": "code",
   "execution_count": 30,
   "metadata": {},
   "outputs": [
    {
     "name": "stdout",
     "output_type": "stream",
     "text": [
      "10444\n"
     ]
    }
   ],
   "source": [
    "#creating a list of unique words in the data set\n",
    "\n",
    "total_vocab = set()\n",
    "for token in processed_data:\n",
    "    total_vocab.update(token)\n",
    "    \n",
    "print(len(total_vocab))"
   ]
  },
  {
   "cell_type": "markdown",
   "metadata": {},
   "source": [
    "In this set with stop words removed there are 10,444 unique words.\n",
    "\n",
    "I'll compile a frequency dictionary to take a look at the most common words. Some of the most frequent are general Twitter words - 'rt', 'link'. Many however are referring to products and events."
   ]
  },
  {
   "cell_type": "code",
   "execution_count": 31,
   "metadata": {},
   "outputs": [
    {
     "data": {
      "text/plain": [
       "[('sxsw', 9352),\n",
       " ('link', 4265),\n",
       " ('rt', 2926),\n",
       " ('google', 2543),\n",
       " ('ipad', 2402),\n",
       " ('apple', 2267),\n",
       " ('quot', 1657),\n",
       " ('iphone', 1497),\n",
       " ('store', 1455),\n",
       " (\"'s\", 1218),\n",
       " ('2', 1104),\n",
       " ('new', 1078),\n",
       " ('austin', 948),\n",
       " ('amp', 834),\n",
       " ('app', 811),\n",
       " ('launch', 647),\n",
       " ('social', 636),\n",
       " ('circles', 634),\n",
       " ('android', 572),\n",
       " ('today', 572),\n",
       " (\"n't\", 467),\n",
       " ('network', 458),\n",
       " ('ipad2', 455),\n",
       " ('pop-up', 411),\n",
       " ('via', 405),\n",
       " ('line', 393),\n",
       " ('free', 387),\n",
       " ('get', 383),\n",
       " ('called', 354),\n",
       " ('party', 345),\n",
       " ('mobile', 337),\n",
       " ('sxswi', 337),\n",
       " ('one', 305),\n",
       " ('major', 300),\n",
       " ('like', 280),\n",
       " ('time', 270),\n",
       " (\"'re\", 262),\n",
       " ('temporary', 262),\n",
       " ('opening', 256),\n",
       " (\"'m\", 252),\n",
       " ('possibly', 236),\n",
       " ('downtown', 225),\n",
       " ('people', 223),\n",
       " ('apps', 222),\n",
       " ('great', 221),\n",
       " ('see', 218),\n",
       " ('maps', 216),\n",
       " ('day', 216),\n",
       " ('check', 215),\n",
       " ('mayer', 214),\n",
       " ('going', 213),\n",
       " ('open', 209),\n",
       " ('popup', 208),\n",
       " ('need', 202),\n",
       " ('go', 197),\n",
       " ('marissa', 189),\n",
       " ('got', 182),\n",
       " ('know', 181),\n",
       " ('w/', 181),\n",
       " ('come', 176),\n",
       " ('win', 169),\n",
       " ('\\x89ûï', 167),\n",
       " ('first', 166),\n",
       " ('good', 165),\n",
       " ('us', 160),\n",
       " ('pop', 155),\n",
       " ('news', 151),\n",
       " ('think', 149),\n",
       " ('want', 148),\n",
       " ('cool', 148),\n",
       " ('music', 147),\n",
       " ('love', 145),\n",
       " ('next', 145),\n",
       " ('tech', 144),\n",
       " ('panel', 142),\n",
       " ('best', 141),\n",
       " ('thanks', 140),\n",
       " ('shop', 140),\n",
       " (\"'ll\", 138),\n",
       " ('design', 138),\n",
       " ('make', 134),\n",
       " ('awesome', 132),\n",
       " ('big', 131),\n",
       " ('game', 130),\n",
       " ('would', 129),\n",
       " ('set', 127),\n",
       " ('search', 127),\n",
       " ('use', 127),\n",
       " ('around', 125),\n",
       " ('video', 124),\n",
       " ('4', 123),\n",
       " ('last', 122),\n",
       " ('year', 121),\n",
       " ('users', 121),\n",
       " ('talk', 120),\n",
       " ('show', 118),\n",
       " ('anyone', 116),\n",
       " ('gt', 115),\n",
       " ('right', 114),\n",
       " (\"'ve\", 113),\n",
       " ('download', 113),\n",
       " ('using', 112),\n",
       " ('guy', 111),\n",
       " ('japan', 111),\n",
       " ('rumor', 111),\n",
       " ('says', 110),\n",
       " ('--', 110),\n",
       " ('really', 108),\n",
       " ('even', 108),\n",
       " ('session', 107),\n",
       " ('still', 106),\n",
       " ('launching', 106),\n",
       " ('coming', 103),\n",
       " ('location', 103),\n",
       " ('future', 101),\n",
       " ('hey', 100),\n",
       " ('twitter', 100),\n",
       " ('congress', 99),\n",
       " ('booth', 99),\n",
       " ('case', 98),\n",
       " ('u', 98),\n",
       " ('itunes', 97),\n",
       " ('buy', 97),\n",
       " ('blackberry', 96),\n",
       " ('1', 96),\n",
       " ('team', 95),\n",
       " ('6th', 95),\n",
       " ('week', 95),\n",
       " ('could', 94),\n",
       " ('bing', 94),\n",
       " ('digital', 93),\n",
       " ('heard', 93),\n",
       " ('way', 93),\n",
       " ('products', 92),\n",
       " ('tonight', 88),\n",
       " ('ipads', 87),\n",
       " ('technology', 87),\n",
       " ('find', 86),\n",
       " ('may', 86),\n",
       " ('everyone', 86),\n",
       " ('fun', 84),\n",
       " ('phone', 84),\n",
       " ('back', 83),\n",
       " ('thing', 82),\n",
       " ('look', 82),\n",
       " ('nice', 81),\n",
       " ('facebook', 81),\n",
       " ('designing', 81),\n",
       " ('looking', 80),\n",
       " ('getting', 80),\n",
       " ('tweet', 80),\n",
       " ('away', 80),\n",
       " ('tv', 79),\n",
       " ('ca', 78),\n",
       " ('many', 78),\n",
       " ('web', 78),\n",
       " ('3', 77),\n",
       " ('also', 77),\n",
       " ('ever', 77),\n",
       " ('wait', 76),\n",
       " ('temp', 74),\n",
       " ('yes', 73),\n",
       " ('let', 73),\n",
       " ('fb', 73),\n",
       " ('please', 73),\n",
       " ('wins', 72),\n",
       " ('5', 72),\n",
       " ('giving', 71),\n",
       " ('sxsw\\x89û\\x9d', 71),\n",
       " ('already', 71),\n",
       " ('tomorrow', 71),\n",
       " ('long', 70),\n",
       " ('live', 70),\n",
       " ('ubersocial', 69),\n",
       " ('includes', 69),\n",
       " ('uberguide', 69),\n",
       " ('interesting', 69),\n",
       " ('interactive', 68),\n",
       " ('friends', 68),\n",
       " ('gsdm', 67),\n",
       " ('ready', 67),\n",
       " ('much', 67),\n",
       " ('looks', 66),\n",
       " ('marketing', 66),\n",
       " ('night', 66),\n",
       " ('available', 66),\n",
       " ('every', 66),\n",
       " ('better', 66),\n",
       " ('platform', 65),\n",
       " ('work', 65),\n",
       " ('made', 64),\n",
       " ('product', 64),\n",
       " ('well', 64),\n",
       " ('sure', 63),\n",
       " ('action', 63),\n",
       " ('smart', 62),\n",
       " ('someone', 62),\n",
       " ('sell', 62),\n",
       " ('art', 62),\n",
       " ('fast', 62),\n",
       " ('take', 61),\n",
       " ('10', 61),\n",
       " ('details', 61),\n",
       " ('oh', 60),\n",
       " ('flipboard', 60),\n",
       " ('gets', 60),\n",
       " ('street', 60),\n",
       " ('others', 60),\n",
       " ('keep', 60),\n",
       " ('2011', 60),\n",
       " ('media', 58),\n",
       " ('lt', 58),\n",
       " ('winning', 58),\n",
       " ('wow', 58),\n",
       " ('meet', 57),\n",
       " ('else', 57),\n",
       " ('two', 57),\n",
       " ('yet', 57),\n",
       " ('help', 56),\n",
       " ('post', 56),\n",
       " ('white', 56),\n",
       " ('battery', 56),\n",
       " ('relief', 56),\n",
       " ('hotpot', 56),\n",
       " ('join', 55),\n",
       " ('room', 55),\n",
       " ('saw', 55),\n",
       " ('updates', 54),\n",
       " ('laptop', 54),\n",
       " ('world', 54),\n",
       " ('geek', 54),\n",
       " ('connect', 53),\n",
       " ('photos', 53),\n",
       " ('data', 53),\n",
       " ('tapworthy', 53),\n",
       " ('begins', 53),\n",
       " ('comes', 52),\n",
       " ('far', 52),\n",
       " ('q', 52),\n",
       " ('stop', 52),\n",
       " ('na', 52),\n",
       " ('service', 52),\n",
       " ('seen', 52),\n",
       " ('waiting', 52),\n",
       " ('heading', 52),\n",
       " ('sampler', 52),\n",
       " ('days', 51),\n",
       " ('person', 51),\n",
       " ('left', 51),\n",
       " ('say', 51),\n",
       " ('working', 51),\n",
       " ('might', 51),\n",
       " ('codes', 51),\n",
       " ('events', 50),\n",
       " ('event', 50),\n",
       " ('sponsored', 50),\n",
       " ('physical', 50),\n",
       " ('guide', 50),\n",
       " ('give', 50),\n",
       " ('navigation', 50),\n",
       " ('40', 50),\n",
       " ('taking', 50),\n",
       " ('content', 49),\n",
       " ('info', 49),\n",
       " ('block', 49),\n",
       " ('cc', 49),\n",
       " ('making', 49),\n",
       " ('hope', 48),\n",
       " ('photo', 48),\n",
       " ('release', 48),\n",
       " ('core', 48),\n",
       " ('qagb', 48),\n",
       " ('valid', 48),\n",
       " ('infektd', 48),\n",
       " ('foursquare', 47),\n",
       " ('mashable', 47),\n",
       " ('lot', 47),\n",
       " ('another', 47),\n",
       " ('map', 47),\n",
       " ('convention', 47),\n",
       " ('presentation', 47),\n",
       " ('money', 47),\n",
       " ('charger', 47),\n",
       " ('hootsuite', 46),\n",
       " ('follow', 46),\n",
       " ('demo', 46),\n",
       " ('attendees', 46),\n",
       " ('front', 46),\n",
       " ('wonder', 45),\n",
       " ('happy', 45),\n",
       " ('business', 45),\n",
       " ('gave', 45),\n",
       " ('building', 45),\n",
       " ('excited', 44),\n",
       " ('morning', 44),\n",
       " ('hours', 44),\n",
       " (\"'d\", 44),\n",
       " ('texas', 44),\n",
       " ('saving', 44),\n",
       " ('parties', 43),\n",
       " ('amazing', 43),\n",
       " ('sold', 43),\n",
       " ('something', 43),\n",
       " ('guys', 43),\n",
       " ('weekend', 42),\n",
       " ('takes', 42),\n",
       " ('makes', 42),\n",
       " ('share', 42),\n",
       " ('plenty', 42),\n",
       " ('worlds', 41),\n",
       " ('1st', 41),\n",
       " ('pic', 41),\n",
       " ('traffic', 41),\n",
       " ('trying', 41),\n",
       " ('center', 41),\n",
       " ('used', 41),\n",
       " ('without', 41),\n",
       " ('life', 41),\n",
       " ('must', 40),\n",
       " ('opens', 40),\n",
       " ('company', 40),\n",
       " ('cont', 40),\n",
       " ('found', 40),\n",
       " ('screen', 40),\n",
       " ('years', 40),\n",
       " ('outside', 40),\n",
       " ('things', 40),\n",
       " ('cnn', 40),\n",
       " ('tell', 40),\n",
       " ('showing', 40),\n",
       " ('featured', 40),\n",
       " ('edchat', 39),\n",
       " ('idea', 39),\n",
       " ('website', 39),\n",
       " ('gowalla', 39),\n",
       " ('talking', 39),\n",
       " ('food', 39),\n",
       " ('stores', 39),\n",
       " ('launched', 39),\n",
       " ('million', 39),\n",
       " ('crowd', 39),\n",
       " ('watch', 39),\n",
       " ('hear', 39),\n",
       " ('bring', 39),\n",
       " ('launches', 38),\n",
       " ('industry', 38),\n",
       " ('uxdes', 38),\n",
       " ('lines', 38),\n",
       " ('true', 38),\n",
       " ('interfaces', 38),\n",
       " ('ranking', 38),\n",
       " ('usage', 38),\n",
       " ('group', 37),\n",
       " ('version', 37),\n",
       " ('blog', 37),\n",
       " ('lost', 37),\n",
       " ('ios', 37),\n",
       " ('preview', 37),\n",
       " ('playing', 37),\n",
       " ('vs', 37),\n",
       " ('lol', 37),\n",
       " ('artists', 37),\n",
       " ('musedchat', 36),\n",
       " ('buzz', 36),\n",
       " ('experts', 36),\n",
       " ('experience', 36),\n",
       " ('places', 36),\n",
       " ('wish', 36),\n",
       " ('instead', 36),\n",
       " ('hot', 36),\n",
       " ('full', 36),\n",
       " ('able', 36),\n",
       " ('developers', 36),\n",
       " ('stuff', 35),\n",
       " ('fail', 35),\n",
       " ('update', 35),\n",
       " ('bought', 35),\n",
       " ('play', 35),\n",
       " ('ppl', 35),\n",
       " ('\\x89÷_', 35),\n",
       " ('newtwitter', 35),\n",
       " ('schools', 35),\n",
       " ('seo', 35),\n",
       " ('wifi', 35),\n",
       " ('man', 35),\n",
       " ('giveaway', 35),\n",
       " ('phones', 35),\n",
       " ('pretty', 35),\n",
       " ('conferences', 35),\n",
       " ('bad', 35),\n",
       " ('meetup', 35),\n",
       " ('daily', 35),\n",
       " ('friday', 35),\n",
       " ('starting', 34),\n",
       " ('rock', 34),\n",
       " ('probably', 34),\n",
       " ('access', 34),\n",
       " ('needs', 34),\n",
       " ('site', 34),\n",
       " ('nerds', 34),\n",
       " ('place', 34),\n",
       " ('folks', 34),\n",
       " ('huge', 34),\n",
       " ('march', 34),\n",
       " ('microsoft', 34),\n",
       " ('user', 34),\n",
       " ('\\x89÷¼', 33),\n",
       " ('classical', 33),\n",
       " ('put', 33),\n",
       " ('power', 33),\n",
       " ('mac', 33),\n",
       " ('brain', 33),\n",
       " ('real', 33),\n",
       " ('listening', 33),\n",
       " ('hand', 33),\n",
       " ('brilliant', 33),\n",
       " ('sets', 33),\n",
       " ('hilton', 33),\n",
       " ('code', 33),\n",
       " ('seems', 33),\n",
       " ('never', 33),\n",
       " ('sign', 33),\n",
       " ('said', 33),\n",
       " ('festival', 32),\n",
       " ('conference', 32),\n",
       " ('hollergram', 32),\n",
       " ('hour', 32),\n",
       " ('forward', 32),\n",
       " ('old', 32),\n",
       " ('pics', 32),\n",
       " ('book', 32),\n",
       " ('everything', 32),\n",
       " ('selling', 32),\n",
       " ('diller', 32),\n",
       " ('2s', 32),\n",
       " ('ballroom', 32),\n",
       " ('everywhere', 32),\n",
       " ('rewards', 32),\n",
       " ('call', 32),\n",
       " ('socialmedia', 32),\n",
       " ('feel', 32),\n",
       " ('checking', 32),\n",
       " ('late', 31),\n",
       " ('home', 31),\n",
       " ('headaches', 31),\n",
       " ('report', 31),\n",
       " ('thank', 31),\n",
       " ('touchingstories', 31),\n",
       " ('local', 31),\n",
       " ('read', 31),\n",
       " ('tweets', 31),\n",
       " ('trade', 31),\n",
       " ('built', 31),\n",
       " ('setting', 31),\n",
       " ('maybe', 31),\n",
       " ('lots', 31),\n",
       " ('walking', 31),\n",
       " ('dev', 31),\n",
       " ('view', 31),\n",
       " ('3g', 30),\n",
       " ('sale', 30),\n",
       " ('start', 30),\n",
       " ('attending', 30),\n",
       " ('checkins', 30),\n",
       " ('strategy', 30),\n",
       " ('7', 30),\n",
       " ('forget', 30),\n",
       " ('devices', 30),\n",
       " ('updated', 30),\n",
       " ('analytics', 30),\n",
       " ('newsapps', 30),\n",
       " ('market', 30),\n",
       " ('including', 30),\n",
       " ('boomers', 30),\n",
       " ('camera', 30),\n",
       " ('seeing', 29),\n",
       " ('location-based', 29),\n",
       " ('times', 29),\n",
       " ('w', 29),\n",
       " ('queue', 29),\n",
       " ('lounge', 29),\n",
       " ('macbook', 29),\n",
       " ('startups', 29),\n",
       " ('dude', 29),\n",
       " ('soon', 29),\n",
       " ('tablet', 29),\n",
       " ('top', 28),\n",
       " ('\\x89ã_', 28),\n",
       " ('south', 28),\n",
       " ('behind', 28),\n",
       " ('genius', 28),\n",
       " ('wants', 28),\n",
       " ('scheduled', 28),\n",
       " ('brand', 28),\n",
       " ('contextual', 28),\n",
       " ('route', 28),\n",
       " ('choice', 28),\n",
       " ('official', 28),\n",
       " ('head', 28),\n",
       " ('mom', 28),\n",
       " ('marissagoogle', 28),\n",
       " ('discovery', 27),\n",
       " ('chance', 27),\n",
       " ('internet', 27),\n",
       " ('town', 27),\n",
       " ('based', 27),\n",
       " ('space', 27),\n",
       " ('atx', 27),\n",
       " ('card', 27),\n",
       " ('house', 27),\n",
       " ('security', 27),\n",
       " ('developer', 27),\n",
       " ('packed', 27),\n",
       " ('schedule', 27),\n",
       " ('living', 27),\n",
       " ('schemas', 27),\n",
       " ('crazy', 27),\n",
       " ('since', 27),\n",
       " ('nothing', 27),\n",
       " ('bar', 27),\n",
       " ('enter', 27),\n",
       " ('belinsky', 26),\n",
       " ('actually', 26),\n",
       " ('wan', 26),\n",
       " ('bands', 26),\n",
       " ('yesterday', 26),\n",
       " ('turn', 26),\n",
       " ('lp', 26),\n",
       " ('aclu', 26),\n",
       " ('150', 26),\n",
       " ('keynote', 26),\n",
       " ('sweet', 26),\n",
       " ('track', 26),\n",
       " ('tablets', 26),\n",
       " ('anything', 26),\n",
       " ('tx', 26),\n",
       " ('interrupt', 26),\n",
       " ('programming', 26),\n",
       " ('gon', 26),\n",
       " ('red', 26),\n",
       " ('try', 26),\n",
       " ('thought', 26),\n",
       " ('interview', 26),\n",
       " ('congrats', 26),\n",
       " ('tweeting', 25),\n",
       " ('started', 25),\n",
       " ('job', 25),\n",
       " ('zazzlesxsw', 25),\n",
       " ('enchantment', 25),\n",
       " ('earthquake', 25),\n",
       " ('cnet', 25),\n",
       " ('beta', 25),\n",
       " ('city', 25),\n",
       " ('retail', 25),\n",
       " ('special', 25),\n",
       " ('verizon', 25),\n",
       " ('regularly', 25),\n",
       " ('apparently', 25),\n",
       " ('maggie', 25),\n",
       " ('windows', 25),\n",
       " ('wo', 25),\n",
       " ('//', 25),\n",
       " ('information', 25),\n",
       " ('important', 25),\n",
       " ('ask', 25),\n",
       " ('check-in', 24),\n",
       " ('gsd', 24),\n",
       " ('grab', 24),\n",
       " ('per', 24),\n",
       " ('pm', 24),\n",
       " ('standing', 24),\n",
       " ('early', 24),\n",
       " ('sharing', 24),\n",
       " ('stream', 24),\n",
       " ('list', 24),\n",
       " ('6', 24),\n",
       " ('almost', 24),\n",
       " ('move', 24),\n",
       " ('tip', 24),\n",
       " ('america', 24),\n",
       " ('register', 23),\n",
       " ('drink', 23),\n",
       " ('stay', 23),\n",
       " ('funny', 23),\n",
       " ('ux', 23),\n",
       " ('audience', 23),\n",
       " ('/via', 23),\n",
       " ('juice', 23),\n",
       " ('etc', 23),\n",
       " ('took', 23),\n",
       " ('catch', 23),\n",
       " ('opened', 23),\n",
       " ('nfc', 23),\n",
       " ('results', 23),\n",
       " ('guess', 23),\n",
       " ('attend', 23),\n",
       " ('notes', 23),\n",
       " ('privacy', 23),\n",
       " ('searches', 23),\n",
       " ('little', 23),\n",
       " ('charge', 23),\n",
       " ('device', 23),\n",
       " ('awards', 23),\n",
       " ('page', 23),\n",
       " ('20', 23),\n",
       " ('geeks', 23),\n",
       " ('project', 23),\n",
       " ('cases', 22),\n",
       " ('haha', 22),\n",
       " ('god', 22),\n",
       " ('mark', 22),\n",
       " ('911tweets', 22),\n",
       " ('droid', 22),\n",
       " ('h4ckers', 22),\n",
       " ('enjoy', 22),\n",
       " ('minutes', 22),\n",
       " ('least', 22),\n",
       " ('samsung', 22),\n",
       " ('hit', 22),\n",
       " ('goes', 22),\n",
       " ('doodles', 22),\n",
       " ('beyond', 22),\n",
       " ('buying', 22),\n",
       " ('miss', 22),\n",
       " ('hall', 22),\n",
       " ('league', 22),\n",
       " ('r', 22),\n",
       " ('always', 22),\n",
       " ('jealous', 22),\n",
       " ('killer', 22),\n",
       " ('end', 22),\n",
       " ('watching', 22),\n",
       " ('visit', 22),\n",
       " ('plus', 21),\n",
       " ('stock', 21),\n",
       " ('holler', 21),\n",
       " ('gram', 21),\n",
       " ('done', 21),\n",
       " ('speak.', 21),\n",
       " ('kawasaki', 21),\n",
       " ('talks', 21),\n",
       " ('ok', 21),\n",
       " ('point', 21),\n",
       " ('barry', 21),\n",
       " ('went', 21),\n",
       " ('learn', 21),\n",
       " ('picture', 21),\n",
       " ('less', 21),\n",
       " ('dj', 21),\n",
       " ('song', 21),\n",
       " ('saves', 21),\n",
       " ('2.', 21),\n",
       " ('shot', 21),\n",
       " ('send', 21),\n",
       " ('later', 21),\n",
       " ('extraordinary', 21),\n",
       " ('tracks', 21),\n",
       " ('ride', 21),\n",
       " ('features', 21),\n",
       " ('tattoo', 21),\n",
       " ('released', 21),\n",
       " ('v', 21),\n",
       " ('hard', 21),\n",
       " ('finally', 21),\n",
       " ('pack', 21),\n",
       " ('\\x89ûó', 21),\n",
       " ('communication', 20),\n",
       " ('showcased', 20),\n",
       " ('groupon', 20),\n",
       " ('speech', 20),\n",
       " ('month', 20),\n",
       " ('wondering', 20),\n",
       " ('except', 20),\n",
       " ('pick', 20),\n",
       " ('pay', 20),\n",
       " ('ad', 20),\n",
       " ('rumored', 20),\n",
       " ('course', 20),\n",
       " ('\\x89ûò', 20),\n",
       " ('picked', 20),\n",
       " ('stupid', 20),\n",
       " ('heads', 20),\n",
       " ('sitting', 20),\n",
       " ('question', 20),\n",
       " ('exhibit', 20),\n",
       " ('speak', 20),\n",
       " ('netflix', 20),\n",
       " ('drinks', 20),\n",
       " ('latest', 20),\n",
       " ('80s', 20),\n",
       " ('cab', 20),\n",
       " ('mike', 20),\n",
       " ('useful', 20),\n",
       " ('online', 20),\n",
       " ('tyson', 20),\n",
       " ('tim', 19),\n",
       " ('fan', 19),\n",
       " ('review', 19),\n",
       " ('enjoying', 19),\n",
       " ('flash', 19),\n",
       " ('blogger', 19),\n",
       " ('x', 19),\n",
       " ('film', 19),\n",
       " ('ur', 19),\n",
       " ('development', 19),\n",
       " ('believe', 19),\n",
       " ('sounds', 19),\n",
       " ('rumors', 19),\n",
       " ('near', 19),\n",
       " ('html5', 19),\n",
       " ('companies', 19),\n",
       " ('success', 19),\n",
       " ('hello', 19),\n",
       " ('across', 19),\n",
       " ('acc', 19),\n",
       " ('bigger', 19),\n",
       " ('anywhere', 19),\n",
       " ('charging', 19),\n",
       " ('interface', 19),\n",
       " ('air', 19),\n",
       " ('super', 19),\n",
       " ('rankings', 19),\n",
       " ('magazines', 19),\n",
       " ('b', 19),\n",
       " ('consider', 19),\n",
       " ('peeps', 19),\n",
       " ('reality', 19),\n",
       " ('asked', 19),\n",
       " ('reading', 19),\n",
       " ('flight', 19),\n",
       " ('hands', 19),\n",
       " ('dead', 18),\n",
       " ('means', 18),\n",
       " ('ta', 18),\n",
       " ('calendar', 18),\n",
       " ('added', 18),\n",
       " ('friend', 18),\n",
       " ('pnid', 18),\n",
       " ('saved', 18),\n",
       " ('together', 18),\n",
       " ('worth', 18),\n",
       " ('travel', 18),\n",
       " ('tools', 18),\n",
       " ('cards', 18),\n",
       " ('miles', 18),\n",
       " ('busy', 18),\n",
       " ('5pm', 18),\n",
       " ('holding', 18),\n",
       " ('run', 18),\n",
       " ('enough', 18),\n",
       " ('bringing', 18),\n",
       " ('engine', 18),\n",
       " ('past', 18),\n",
       " ('employees', 18),\n",
       " ('create', 18),\n",
       " ('ipod', 18),\n",
       " ('works', 18),\n",
       " ('story', 18),\n",
       " ('cloud', 18),\n",
       " ('trip', 18),\n",
       " ('feature', 18),\n",
       " ('name', 17),\n",
       " ('sxswh', 17),\n",
       " ('hipsters', 17),\n",
       " ('part', 17),\n",
       " ('learning', 17),\n",
       " ('spent', 17),\n",
       " ('blocks', 17),\n",
       " ('credit', 17),\n",
       " ('southwest', 17),\n",
       " ('plan', 17),\n",
       " ('missed', 17),\n",
       " ('shows', 17),\n",
       " ('..', 17),\n",
       " ('surprise', 17),\n",
       " ('control', 17),\n",
       " ('ago', 17),\n",
       " ('games', 17),\n",
       " ('test', 17),\n",
       " ('deal', 17),\n",
       " ('secret', 17),\n",
       " ('thinks', 17),\n",
       " ('owners', 17),\n",
       " ('coffee', 17),\n",
       " ('vp', 17),\n",
       " ('different', 17),\n",
       " ('stories', 17),\n",
       " ('mistakes', 17),\n",
       " ('favorite', 17),\n",
       " ('killing', 17),\n",
       " ('crowley', 17),\n",
       " ('fight', 17),\n",
       " ('running', 16),\n",
       " ('gadgets', 16),\n",
       " ('value', 16),\n",
       " ('easy', 16),\n",
       " ('earth', 16),\n",
       " ('black', 16),\n",
       " ('band', 16),\n",
       " ('mophie', 16),\n",
       " ('15', 16),\n",
       " ('sales', 16),\n",
       " ('improve', 16),\n",
       " ('social-type', 16),\n",
       " ('1pm', 16),\n",
       " ('among', 16),\n",
       " ('offers', 16),\n",
       " ('20+', 16),\n",
       " ('groundlink', 16),\n",
       " ('437', 16),\n",
       " ('bit', 16),\n",
       " ('vip', 16),\n",
       " ('mae', 16),\n",
       " ('source', 16),\n",
       " ('omg', 16),\n",
       " ('30', 16),\n",
       " ('saying', 16),\n",
       " ('totally', 16),\n",
       " ('small', 16),\n",
       " ('afford', 16),\n",
       " ('therapy', 16),\n",
       " ('tool', 16),\n",
       " ('bag', 16),\n",
       " ('podcast', 16),\n",
       " ('whole', 16),\n",
       " ('3d', 16),\n",
       " ('4:00-7:59:59p', 16),\n",
       " ('bbq', 16),\n",
       " ('browser', 16),\n",
       " ('zlf', 16),\n",
       " ('drive', 16),\n",
       " ('blue', 16),\n",
       " ('thinking', 16),\n",
       " ('recommendations', 16),\n",
       " ('ha', 15),\n",
       " ('album', 15),\n",
       " ('fans', 15),\n",
       " ('support', 15),\n",
       " ('headed', 15),\n",
       " ('hotel', 15),\n",
       " ('model', 15),\n",
       " ('chrome', 15),\n",
       " ('announces', 15),\n",
       " ('chat', 15),\n",
       " ('technews', 15),\n",
       " ('hi', 15),\n",
       " ('12:30pm', 15),\n",
       " ('plane', 15),\n",
       " ('badge', 15),\n",
       " ('airport', 15),\n",
       " ('yelp', 15),\n",
       " ('100', 15),\n",
       " ('giant', 15),\n",
       " ('hackers', 15),\n",
       " ('leaving', 15),\n",
       " ('article', 15),\n",
       " ('4sq', 15),\n",
       " ('1986', 15),\n",
       " ('plans', 15),\n",
       " ('light', 15),\n",
       " ('fam', 15),\n",
       " ('startupbus', 15),\n",
       " ('interested', 15),\n",
       " ('augmented', 15),\n",
       " ('12:00-3:59:59p', 15),\n",
       " ('loving', 15),\n",
       " ('biz', 15),\n",
       " ('exclusive', 15),\n",
       " ('floor', 15),\n",
       " ('sxflip', 15),\n",
       " ('tried', 15),\n",
       " ('4g', 15),\n",
       " ('fascist', 15),\n",
       " ('kind', 15),\n",
       " ('dear', 15),\n",
       " ('pearl', 15),\n",
       " ('double', 15),\n",
       " ('chris', 15),\n",
       " ('lonely', 15),\n",
       " ('uses', 15),\n",
       " ('sessions', 15),\n",
       " ('11', 14),\n",
       " ('push', 14),\n",
       " ('leave', 14),\n",
       " ('concept', 14),\n",
       " ('publishing', 14),\n",
       " ('knows', 14),\n",
       " ('agree', 14),\n",
       " ('stand', 14),\n",
       " ('ice', 14),\n",
       " ('cream', 14),\n",
       " ('weird', 14),\n",
       " ('contact', 14),\n",
       " ('mention', 14),\n",
       " ('bizzy', 14),\n",
       " ('bettersearch', 14),\n",
       " ('hp', 14),\n",
       " ('change', 14),\n",
       " ('lunch', 14),\n",
       " ('ipad2s', 14),\n",
       " ('sixth', 14),\n",
       " ('biggest', 14),\n",
       " ('inside', 14),\n",
       " ('came', 14),\n",
       " ('random', 14),\n",
       " ('salon', 14),\n",
       " ('tech_news', 14),\n",
       " ('circle', 14),\n",
       " ('arrived', 14),\n",
       " ('computer', 14),\n",
       " ('80', 14),\n",
       " ('qr', 14),\n",
       " ('lego', 14),\n",
       " ('yeah', 14),\n",
       " ('met', 14),\n",
       " ('vs.', 14),\n",
       " ('present', 14),\n",
       " ('pro', 14),\n",
       " ('customer', 14),\n",
       " ('3:30', 14),\n",
       " ('mon', 14),\n",
       " ('explorer', 14),\n",
       " ('public', 14),\n",
       " ('touch', 14),\n",
       " ('word', 14),\n",
       " ('walked', 14),\n",
       " ('connected', 14),\n",
       " ('pc', 14),\n",
       " ('glad', 14),\n",
       " ('door', 14),\n",
       " ('n', 14),\n",
       " ('meeting', 14),\n",
       " ('bet', 14),\n",
       " ('google/bing', 14),\n",
       " ('finding', 14),\n",
       " ('yep', 14),\n",
       " ('japanese', 14),\n",
       " ('quake', 14),\n",
       " ('expect', 14),\n",
       " ('brought', 14),\n",
       " ('starts', 14),\n",
       " ('survive', 14),\n",
       " ('original', 14),\n",
       " ('welcome', 14),\n",
       " ('kid', 14),\n",
       " ('car', 14),\n",
       " ('steve', 14),\n",
       " ('planet', 14),\n",
       " ('startup', 14),\n",
       " ('appears', 14),\n",
       " ('abt', 14),\n",
       " ('streaming', 14),\n",
       " ('upgrade', 13),\n",
       " ('likely', 13),\n",
       " ('til', 13),\n",
       " ('alarm', 13),\n",
       " ('putting', 13),\n",
       " ('midnight', 13),\n",
       " ('mind', 13),\n",
       " ('hmm', 13),\n",
       " ('focus', 13),\n",
       " ('testing', 13),\n",
       " ('tradeshow', 13),\n",
       " ('2nd', 13),\n",
       " ('longer', 13),\n",
       " ('70', 13),\n",
       " ('questions', 13),\n",
       " ('issue', 13),\n",
       " ('missing', 13),\n",
       " ('shit', 13),\n",
       " ('sat', 13),\n",
       " ('hoot', 13),\n",
       " ('lose', 13),\n",
       " ('sxsw2011', 13),\n",
       " ('hashable', 13),\n",
       " ('techcrunch', 13),\n",
       " ('disc', 13),\n",
       " ('speakeasy', 13),\n",
       " ('coverage', 13),\n",
       " ('valuable', 13),\n",
       " ('gearing', 13),\n",
       " ('networking', 13),\n",
       " ('officially', 13),\n",
       " ('spending', 13),\n",
       " ('doodle', 13),\n",
       " ('disaster', 13),\n",
       " ('hanging', 13),\n",
       " ('though', 13),\n",
       " ('dancing', 13),\n",
       " ('necro', 13),\n",
       " ('concert', 13),\n",
       " ('friendly', 13),\n",
       " ('03/12/11', 13),\n",
       " ('spot', 13),\n",
       " ('12', 13),\n",
       " ('yr', 13),\n",
       " ('unofficial', 13),\n",
       " ('hipster', 13),\n",
       " ('deals', 13),\n",
       " ('envy', 13),\n",
       " ...]"
      ]
     },
     "execution_count": 31,
     "metadata": {},
     "output_type": "execute_result"
    }
   ],
   "source": [
    "tweet_concat = []\n",
    "for tweet in processed_data:\n",
    "    tweet_concat += tweet\n",
    "    \n",
    "tweet_freqdist = FreqDist(tweet_concat)\n",
    "tweet_freqdist.most_common(2000)"
   ]
  },
  {
   "cell_type": "markdown",
   "metadata": {},
   "source": [
    "To get a better visual, I'll generate a word cloud so we can see what everyone's talking about:"
   ]
  },
  {
   "cell_type": "code",
   "execution_count": 176,
   "metadata": {
    "scrolled": false
   },
   "outputs": [
    {
     "data": {
      "image/png": "[encoded data removed]",
      "text/plain": [
       "<Figure size 576x576 with 1 Axes>"
      ]
     },
     "metadata": {
      "needs_background": "light"
     },
     "output_type": "display_data"
    },
    {
     "data": {
      "text/plain": [
       "<wordcloud.wordcloud.WordCloud at 0x175c415c400>"
      ]
     },
     "execution_count": 176,
     "metadata": {},
     "output_type": "execute_result"
    }
   ],
   "source": [
    "#instantiating word cloud and using my frequency dictionary to fill it in\n",
    "wc = WordCloud(background_color=\"white\", max_words=2000)\n",
    "wc.generate_from_frequencies(tweet_freqdist)\n",
    "\n",
    "plt.figure(figsize=(8,8))\n",
    "plt.imshow(wc, interpolation='bilinear')\n",
    "plt.axis(\"off\")\n",
    "plt.margins(x=1, y=1)\n",
    "plt.show()\n",
    "\n",
    "# wc.to_file('Images/word_cloud.png')"
   ]
  },
  {
   "cell_type": "markdown",
   "metadata": {},
   "source": [
    "## Modeling with Classifiers\n",
    "\n",
    "Now that I have a thorough understanding of the data, I'm going to test out different classifiers to see how effective they are. I'll start with Multinomial Naive Bayes as my baseline model, as this is commonly used for NLP."
   ]
  },
  {
   "cell_type": "markdown",
   "metadata": {},
   "source": [
    "### Baseline Model: Multinomial Naive Bayes with Count Vectorizer\n",
    "\n",
    "I'll also use a count vectorizer with this baseline model since it's one of the more simple techniques. Count Vectorizer converts text into a vector based on the count of each word occuring in the text. \n",
    "\n",
    "I'll pull in my cleaned text that I defined above and fit to train and test variables. "
   ]
  },
  {
   "cell_type": "code",
   "execution_count": 34,
   "metadata": {},
   "outputs": [],
   "source": [
    "X = raw_data['clean_tweet']\n",
    "y = raw_data['class']\n",
    "\n",
    "X_train, X_test, y_train, y_test = train_test_split(X, y, random_state=10)"
   ]
  },
  {
   "cell_type": "code",
   "execution_count": 35,
   "metadata": {},
   "outputs": [],
   "source": [
    "count_vectorizer = CountVectorizer(stop_words=stopwords_list)\n",
    "\n",
    "X_train_count = count_vectorizer.fit_transform(X_train)\n",
    "X_test_count = count_vectorizer.transform(X_test)"
   ]
  },
  {
   "cell_type": "markdown",
   "metadata": {},
   "source": [
    "Now I'll instantiate the classifier and fit it to the vectorized variables. I am defining a function to easily return the score of the classifier as well as a confusion matrix so I can compare performance of different models. "
   ]
  },
  {
   "cell_type": "code",
   "execution_count": 36,
   "metadata": {},
   "outputs": [
    {
     "data": {
      "text/plain": [
       "MultinomialNB()"
      ]
     },
     "execution_count": 36,
     "metadata": {},
     "output_type": "execute_result"
    }
   ],
   "source": [
    "nb_classifier = MultinomialNB()\n",
    "\n",
    "nb_classifier.fit(X_train_count, y_train)"
   ]
  },
  {
   "cell_type": "code",
   "execution_count": 37,
   "metadata": {},
   "outputs": [],
   "source": [
    "def score(clf, X_train, y_train, X_test, y_test):\n",
    "  \n",
    "    \"\"\" \n",
    "\n",
    "    This function streamlines evaluating a model by generating\n",
    "    predictions for train and test sets and printing their accuracy scores\n",
    "    as well as a confusion matrix of the test results. Inputs needed are \n",
    "    the fitted model, and X and y variables from a train-test-split\n",
    "\n",
    "    \"\"\"\n",
    "\n",
    "    train_preds = clf.predict(X_train)\n",
    "    test_preds = clf.predict(X_test)\n",
    "    train_score = accuracy_score(y_train, train_preds)\n",
    "    test_score = accuracy_score(y_test, test_preds)\n",
    "    print('test accuracy score =', test_score,\n",
    "          'train accuracy score =', train_score)\n",
    "    plot_confusion_matrix(clf, X_test, y_test)"
   ]
  },
  {
   "cell_type": "code",
   "execution_count": 38,
   "metadata": {
    "scrolled": true
   },
   "outputs": [
    {
     "name": "stdout",
     "output_type": "stream",
     "text": [
      "test accuracy score = 0.658012533572068 train accuracy score = 0.8285586392121754\n"
     ]
    },
    {
     "data": {
      "image/png": "[encoded data removed]",
      "text/plain": [
       "<Figure size 432x288 with 2 Axes>"
      ]
     },
     "metadata": {
      "needs_background": "light"
     },
     "output_type": "display_data"
    }
   ],
   "source": [
    "#testing function on MNB\n",
    "score(nb_classifier, X_train_count, y_train, X_test_count, y_test)"
   ]
  },
  {
   "cell_type": "markdown",
   "metadata": {},
   "source": [
    "My first model is quite overfit, and it may be having trouble learning because the classes are so imbalanced. The next thing I'm going to try is changing to a TF-IDF vectorizer, which penalizes words that show up more frequently. This could help the model value words like sxsw, google, and apple less, and instead actually look for words that indicate sentiment."
   ]
  },
  {
   "cell_type": "markdown",
   "metadata": {},
   "source": [
    "### MNB with TF-IDF"
   ]
  },
  {
   "cell_type": "markdown",
   "metadata": {},
   "source": [
    "As a starting point, I'm setting the TF-IDF vectorizer to ignore terms that appear in more than 90% of the tweets. "
   ]
  },
  {
   "cell_type": "code",
   "execution_count": 39,
   "metadata": {},
   "outputs": [],
   "source": [
    "tfidf = TfidfVectorizer(stop_words=stopwords_list, \n",
    "                        max_df = .90, \n",
    "                        use_idf=True)\n",
    "\n",
    "tfidf_train = tfidf.fit_transform(X_train)\n",
    "tfidf_test = tfidf.transform(X_test)"
   ]
  },
  {
   "cell_type": "markdown",
   "metadata": {},
   "source": [
    "Pulling out a random example, I can see that more unique words are rising to the top where more common words like apple, sxsw, and austin are towards the bottom as expected."
   ]
  },
  {
   "cell_type": "code",
   "execution_count": 181,
   "metadata": {},
   "outputs": [
    {
     "name": "stdout",
     "output_type": "stream",
     "text": [
      "ignite        0.479958\n",
      "spots         0.422123\n",
      "hot           0.344930\n",
      "gowalla       0.339182\n",
      "convention    0.332380\n",
      "right         0.277836\n",
      "party         0.224531\n",
      "sxswi         0.224121\n",
      "austin        0.174040\n",
      "store         0.148700\n",
      "apple         0.129289\n",
      "Name: 8, dtype: float64\n"
     ]
    }
   ],
   "source": [
    "#creating a dataframe so I can preview the results of TF-IDF\n",
    "tfidf_test_df = pd.DataFrame(tfidf_test.toarray(), columns=tfidf.get_feature_names())\n",
    "\n",
    "# Grabbing a vectorized row\n",
    "test_doc = tfidf_test_df.iloc[8]\n",
    "print(test_doc.loc[test_doc > 0].sort_values(ascending=False)) # Showing values > 0"
   ]
  },
  {
   "cell_type": "code",
   "execution_count": 42,
   "metadata": {},
   "outputs": [
    {
     "data": {
      "text/plain": [
       "MultinomialNB()"
      ]
     },
     "execution_count": 42,
     "metadata": {},
     "output_type": "execute_result"
    }
   ],
   "source": [
    "#instantiating another MNB classifier for TF-IDF\n",
    "nb_tfidf = MultinomialNB()\n",
    "\n",
    "nb_tfidf.fit(tfidf_train, y_train)"
   ]
  },
  {
   "cell_type": "code",
   "execution_count": 43,
   "metadata": {
    "scrolled": false
   },
   "outputs": [
    {
     "name": "stdout",
     "output_type": "stream",
     "text": [
      "test accuracy score = 0.6459265890778872 train accuracy score = 0.7660399880632647\n"
     ]
    },
    {
     "data": {
      "image/png": "[encoded data removed]",
      "text/plain": [
       "<Figure size 432x288 with 2 Axes>"
      ]
     },
     "metadata": {
      "needs_background": "light"
     },
     "output_type": "display_data"
    }
   ],
   "source": [
    "score(nb_tfidf, tfidf_train, y_train, tfidf_test, y_test)"
   ]
  },
  {
   "cell_type": "markdown",
   "metadata": {},
   "source": [
    "This model is less overfit, and it seems to be learning some patterns, but it's still not good. It only correctly predicted one negative. The test score actually went down as well, so I'm going to try another type of classifier."
   ]
  },
  {
   "cell_type": "markdown",
   "metadata": {},
   "source": [
    "### Complement Naive Bayes\n",
    "\n",
    "Complement Naive Bayes is similar to MNB, but is adapted to suit imbalanced data sets as it uses the complement of each class to compute the model’s weights. According to SciKit learn documentation, CNB regularly outperforms MNB on text classification tasks. Below, I am running this with TF-IDF-transformed variables."
   ]
  },
  {
   "cell_type": "code",
   "execution_count": 44,
   "metadata": {},
   "outputs": [
    {
     "data": {
      "text/plain": [
       "ComplementNB()"
      ]
     },
     "execution_count": 44,
     "metadata": {},
     "output_type": "execute_result"
    }
   ],
   "source": [
    "#instantiating and fiting CNB\n",
    "cnb = ComplementNB()\n",
    "\n",
    "cnb.fit(tfidf_train, y_train)"
   ]
  },
  {
   "cell_type": "code",
   "execution_count": 45,
   "metadata": {
    "scrolled": true
   },
   "outputs": [
    {
     "name": "stdout",
     "output_type": "stream",
     "text": [
      "test accuracy score = 0.6432408236347359 train accuracy score = 0.8222918531781558\n"
     ]
    },
    {
     "data": {
      "image/png": "[encoded data removed]",
      "text/plain": [
       "<Figure size 432x288 with 2 Axes>"
      ]
     },
     "metadata": {
      "needs_background": "light"
     },
     "output_type": "display_data"
    }
   ],
   "source": [
    "score(cnb, tfidf_train, y_train, tfidf_test, y_test)"
   ]
  },
  {
   "cell_type": "markdown",
   "metadata": {},
   "source": [
    "CNB barely increased the test score, but made the model even more overfit! I'm going to try something different."
   ]
  },
  {
   "cell_type": "markdown",
   "metadata": {},
   "source": [
    "### Support Vector Machines\n",
    "\n",
    "SVMs are said to help reduce overfitting, and SVC has a regularization parameter C which can be tuned. There are also different kernel types that can be applied. \n",
    "\n",
    "After exploring different values for C, I am able to reduce overfitting, which is a strength of using this model type. "
   ]
  },
  {
   "cell_type": "code",
   "execution_count": 46,
   "metadata": {},
   "outputs": [
    {
     "name": "stdout",
     "output_type": "stream",
     "text": [
      "test accuracy score = 0.6754700089525515 train accuracy score = 0.8439271859146523\n"
     ]
    },
    {
     "data": {
      "image/png": "[encoded data removed]",
      "text/plain": [
       "<Figure size 432x288 with 2 Axes>"
      ]
     },
     "metadata": {
      "needs_background": "light"
     },
     "output_type": "display_data"
    }
   ],
   "source": [
    "#starting with 1\n",
    "svc_clf = SVC(kernel= 'linear', C=1)\n",
    "svc_clf.fit(tfidf_train, y_train)\n",
    "score(svc_clf, tfidf_train, y_train, tfidf_test, y_test)"
   ]
  },
  {
   "cell_type": "code",
   "execution_count": 47,
   "metadata": {},
   "outputs": [
    {
     "name": "stdout",
     "output_type": "stream",
     "text": [
      "test accuracy score = 0.6678603401969562 train accuracy score = 0.7730528200537153\n"
     ]
    },
    {
     "data": {
      "image/png": "[encoded data removed]",
      "text/plain": [
       "<Figure size 432x288 with 2 Axes>"
      ]
     },
     "metadata": {
      "needs_background": "light"
     },
     "output_type": "display_data"
    }
   ],
   "source": [
    "#reducing to 0.5 = stronger regulation\n",
    "svc_clf = SVC(kernel= 'linear', C=0.5)\n",
    "svc_clf.fit(tfidf_train, y_train)\n",
    "score(svc_clf, tfidf_train, y_train, tfidf_test, y_test)"
   ]
  },
  {
   "cell_type": "code",
   "execution_count": 182,
   "metadata": {
    "scrolled": false
   },
   "outputs": [
    {
     "name": "stdout",
     "output_type": "stream",
     "text": [
      "test accuracy score = 0.640107430617726 train accuracy score = 0.6674127126230975\n"
     ]
    },
    {
     "data": {
      "image/png": "[encoded data removed]",
      "text/plain": [
       "<Figure size 432x288 with 2 Axes>"
      ]
     },
     "metadata": {
      "needs_background": "light"
     },
     "output_type": "display_data"
    }
   ],
   "source": [
    "#still overfit! reducing a bit more\n",
    "svc_clf = SVC(kernel= 'linear', C=0.2)\n",
    "svc_clf.fit(tfidf_train, y_train)\n",
    "score(svc_clf, tfidf_train, y_train, tfidf_test, y_test)\n",
    "plt.savefig('Images/confusion_matrix')"
   ]
  },
  {
   "cell_type": "markdown",
   "metadata": {},
   "source": [
    "The tradeoff to reducing overfitting in this model is that the accuracy score was sacrificed. It's predicting almost everything as a zero. My highest accuracy score out of all the classifiers I've run so far is about 84%, so I wouldn't want to move forward with any of these. "
   ]
  },
  {
   "cell_type": "markdown",
   "metadata": {},
   "source": [
    "## Modeling with Deep Learning\n",
    "\n",
    "Since these classifiers aren't seeing great results, I'm going to take this a step further with pre-trained word embeddings and neural networks."
   ]
  },
  {
   "cell_type": "markdown",
   "metadata": {},
   "source": [
    "### GloVe\n",
    "\n",
    "Global Vectors for Word Representation is a pre-trained model by the Stanford NLP Group, trained on massive data sets to obtain vector representations for words. To use it I will need to leverage keras, and import the glove text file."
   ]
  },
  {
   "cell_type": "code",
   "execution_count": 49,
   "metadata": {},
   "outputs": [
    {
     "name": "stderr",
     "output_type": "stream",
     "text": [
      "C:\\Users\\christina.sarver\\Anaconda3\\envs\\learn-env\\lib\\site-packages\\gensim\\similarities\\__init__.py:15: UserWarning: The gensim.similarities.levenshtein submodule is disabled, because the optional Levenshtein package <https://pypi.org/project/python-Levenshtein/> is unavailable. Install Levenhstein (e.g. `pip install python-Levenshtein`) to suppress this warning.\n",
      "  warnings.warn(msg)\n"
     ]
    }
   ],
   "source": [
    "#imports for keras/tensorflow to use gloVe with neural nets\n",
    "from gensim.models import Word2Vec\n",
    "from keras.preprocessing.sequence import pad_sequences\n",
    "from keras.layers import Input, Dense, LSTM, Embedding\n",
    "from keras.layers import Dropout, Activation, Bidirectional, GlobalMaxPool1D\n",
    "from keras.models import Sequential\n",
    "from keras import initializers, regularizers, constraints, optimizers, layers\n",
    "from keras.preprocessing import text, sequence\n",
    "from tensorflow import keras\n",
    "from tensorflow.keras import layers\n",
    "from keras.callbacks import EarlyStopping, ModelCheckpoint"
   ]
  },
  {
   "cell_type": "code",
   "execution_count": 50,
   "metadata": {},
   "outputs": [],
   "source": [
    "#opening glove file and applying it to my data\n",
    "glove = {}\n",
    "with open('data/glove.6B.50d.txt', 'rb') as f:\n",
    "    for line in f:\n",
    "        parts = line.split()\n",
    "        word = parts[0].decode('utf-8')\n",
    "        if word in total_vocab:\n",
    "            vector = np.array(parts[1:], dtype=np.float32)\n",
    "            glove[word] = vector"
   ]
  },
  {
   "cell_type": "markdown",
   "metadata": {},
   "source": [
    "GloVe has vectorized the words in my data set:"
   ]
  },
  {
   "cell_type": "code",
   "execution_count": 51,
   "metadata": {
    "scrolled": true
   },
   "outputs": [
    {
     "data": {
      "text/plain": [
       "array([-0.54213  , -0.40598  , -0.57972  ,  0.68902  , -1.2828   ,\n",
       "       -1.4274   , -0.3113   , -0.37996  ,  0.85759  ,  0.74349  ,\n",
       "       -0.27944  , -1.2856   ,  0.30916  ,  0.10983  ,  0.76612  ,\n",
       "        0.052707 , -0.045862 ,  0.97209  , -0.388    ,  0.0061045,\n",
       "        0.36166  ,  0.063978 ,  0.60576  ,  1.1596   , -0.22204  ,\n",
       "        0.55524  , -1.1646   , -0.11687  , -1.2104   , -0.90578  ,\n",
       "        0.36391  ,  0.20946  , -0.19362  , -0.99614  , -0.18209  ,\n",
       "       -0.13782  ,  0.2144   , -0.038234 , -0.29907  , -0.39556  ,\n",
       "       -0.61547  ,  0.1485   , -1.0864   , -0.42129  , -0.42307  ,\n",
       "        0.51809  ,  1.0751   , -0.30472  , -1.4201   ,  1.007    ],\n",
       "      dtype=float32)"
      ]
     },
     "execution_count": 51,
     "metadata": {},
     "output_type": "execute_result"
    }
   ],
   "source": [
    "glove['sxsw']"
   ]
  },
  {
   "cell_type": "markdown",
   "metadata": {},
   "source": [
    "Now I'm going to define a class to create mean word embeddings:"
   ]
  },
  {
   "cell_type": "code",
   "execution_count": 52,
   "metadata": {},
   "outputs": [],
   "source": [
    "class W2vVectorizer(object):\n",
    "    \n",
    "    def __init__(self, w2v):\n",
    "        # Takes in a dictionary of words and vectors as input\n",
    "        self.w2v = w2v\n",
    "        if len(w2v) == 0:\n",
    "            self.dimensions = 0\n",
    "        else:\n",
    "            self.dimensions = len(w2v[next(iter(glove))])\n",
    "    \n",
    "    # adding a 'fit' method so I can use in a pipeline\n",
    "    def fit(self, X, y):\n",
    "        return self\n",
    "            \n",
    "    def transform(self, X):\n",
    "        return np.array([\n",
    "            np.mean([self.w2v[w] for w in words if w in self.w2v]\n",
    "                   or [np.zeros(self.dimensions)], axis=0) for words in X])"
   ]
  },
  {
   "cell_type": "markdown",
   "metadata": {},
   "source": [
    "Here I'm going to use Keras' preprocessing tools to tokenize each example, convert them to sequences, and then pad the sequences so they're all the same length."
   ]
  },
  {
   "cell_type": "code",
   "execution_count": 53,
   "metadata": {},
   "outputs": [],
   "source": [
    "tokenizer = text.Tokenizer(num_words=10000)\n",
    "tokenizer.fit_on_texts(list(X_train))\n",
    "X_train_tokenized = tokenizer.texts_to_sequences(X_train)\n",
    "X_test_tokenized = tokenizer.texts_to_sequences(X_test)\n",
    "X_train_token = sequence.pad_sequences(X_train_tokenized, maxlen=100)\n",
    "X_test_token = sequence.pad_sequences(X_test_tokenized, maxlen=100)"
   ]
  },
  {
   "cell_type": "code",
   "execution_count": 54,
   "metadata": {},
   "outputs": [
    {
     "data": {
      "text/plain": [
       "(6702, 100)"
      ]
     },
     "execution_count": 54,
     "metadata": {},
     "output_type": "execute_result"
    }
   ],
   "source": [
    "#checking the shape of my X\n",
    "X_train_token.shape"
   ]
  },
  {
   "cell_type": "markdown",
   "metadata": {},
   "source": [
    "I'll also need to encode my y for the 3 classes:"
   ]
  },
  {
   "cell_type": "code",
   "execution_count": 56,
   "metadata": {},
   "outputs": [
    {
     "data": {
      "text/plain": [
       "(6702, 3)"
      ]
     },
     "execution_count": 56,
     "metadata": {},
     "output_type": "execute_result"
    }
   ],
   "source": [
    "#encoding the y so the shapes are compatible\n",
    "y_train_enc = pd.get_dummies(y_train).values\n",
    "y_test_enc = pd.get_dummies(y_test).values\n",
    "y_train_enc.shape"
   ]
  },
  {
   "cell_type": "markdown",
   "metadata": {},
   "source": [
    "Both variables appear to be the right dimesions. Time to try a neural net. I'm going to build a sequential model, starting with an embedding layer of 10,000 words, which is the number of words in the tokenizer. I'm setting the embedding size as 100 which is the max length parameter I used above.\n",
    "\n",
    "I am then adding two layers, an LSTM and dense layers. To keep it simple, I'm going to run this for 3 epochs. "
   ]
  },
  {
   "cell_type": "markdown",
   "metadata": {},
   "source": [
    "My model will evaluate on accuracy, and use the selected loss function and optimizer. "
   ]
  },
  {
   "cell_type": "markdown",
   "metadata": {},
   "source": [
    "### Building a Neural Net"
   ]
  },
  {
   "cell_type": "code",
   "execution_count": 57,
   "metadata": {},
   "outputs": [],
   "source": [
    "np.random.seed(10)\n",
    "model1 = Sequential()"
   ]
  },
  {
   "cell_type": "code",
   "execution_count": 58,
   "metadata": {},
   "outputs": [],
   "source": [
    "embedding_size = 100\n",
    "model1.add(Embedding(10000, embedding_size))\n",
    "model1.add(LSTM(25, return_sequences=True))\n",
    "model1.add(GlobalMaxPool1D())\n",
    "model1.add(Dense(50, activation='relu'))\n",
    "model1.add(Dense(3, activation='relu'))"
   ]
  },
  {
   "cell_type": "code",
   "execution_count": 59,
   "metadata": {
    "scrolled": true
   },
   "outputs": [
    {
     "name": "stdout",
     "output_type": "stream",
     "text": [
      "Model: \"sequential\"\n",
      "_________________________________________________________________\n",
      "Layer (type)                 Output Shape              Param #   \n",
      "=================================================================\n",
      "embedding (Embedding)        (None, None, 100)         1000000   \n",
      "_________________________________________________________________\n",
      "lstm (LSTM)                  (None, None, 25)          12600     \n",
      "_________________________________________________________________\n",
      "global_max_pooling1d (Global (None, 25)                0         \n",
      "_________________________________________________________________\n",
      "dense (Dense)                (None, 50)                1300      \n",
      "_________________________________________________________________\n",
      "dense_1 (Dense)              (None, 3)                 153       \n",
      "=================================================================\n",
      "Total params: 1,014,053\n",
      "Trainable params: 1,014,053\n",
      "Non-trainable params: 0\n",
      "_________________________________________________________________\n"
     ]
    }
   ],
   "source": [
    "model1.compile(loss='categorical_crossentropy', \n",
    "              optimizer='adam', \n",
    "              metrics=['accuracy'])\n",
    "\n",
    "model1.summary()"
   ]
  },
  {
   "cell_type": "code",
   "execution_count": 60,
   "metadata": {},
   "outputs": [
    {
     "name": "stdout",
     "output_type": "stream",
     "text": [
      "Epoch 1/3\n",
      "189/189 [==============================] - 25s 106ms/step - loss: 0.9417 - accuracy: 0.5308 - val_loss: 0.7439 - val_accuracy: 0.6617\n",
      "Epoch 2/3\n",
      "189/189 [==============================] - 17s 90ms/step - loss: 0.7351 - accuracy: 0.7090 - val_loss: 0.7738 - val_accuracy: 0.6542\n",
      "Epoch 3/3\n",
      "189/189 [==============================] - 17s 91ms/step - loss: 0.5793 - accuracy: 0.7723 - val_loss: 0.8663 - val_accuracy: 0.6692\n"
     ]
    }
   ],
   "source": [
    "model_val = model1.fit(X_train_token, y_train_enc, epochs=3, batch_size=32, validation_split=0.1)"
   ]
  },
  {
   "cell_type": "markdown",
   "metadata": {},
   "source": [
    "Within the three iterations, this model already improved its accuracy a lot. I'm going to build another function to evaluate neural net performance. "
   ]
  },
  {
   "cell_type": "code",
   "execution_count": 61,
   "metadata": {
    "scrolled": true
   },
   "outputs": [],
   "source": [
    "def evaluate_nn(model, X_train, X_test, y_train, y_test):\n",
    "    \n",
    "    \"\"\" \n",
    "\n",
    "    This function takes in a fitted neural net and uses the evaluate function to \n",
    "    return performance for train and test sets in an easy to read format\n",
    "\n",
    "    \"\"\"\n",
    "        \n",
    "    results_train = model.evaluate(X_train_token, y_train_enc)\n",
    "    results_test = model.evaluate(X_test_token, y_test_enc)\n",
    "\n",
    "    print('----------')\n",
    "    print(f'Training Loss: {results_train[0]:.3} \\nTraining Accuracy: {results_train[1]:.3}')\n",
    "    print('----------')\n",
    "    print(f'Test Loss: {results_test[0]:.3} \\nTest Accuracy: {results_test[1]:.3}')"
   ]
  },
  {
   "cell_type": "code",
   "execution_count": 62,
   "metadata": {},
   "outputs": [
    {
     "name": "stdout",
     "output_type": "stream",
     "text": [
      "210/210 [==============================] - 4s 20ms/step - loss: 0.5685 - accuracy: 0.7107\n",
      "70/70 [==============================] - 1s 21ms/step - loss: 1.0323 - accuracy: 0.6356 0s - loss: 1.0\n",
      "----------\n",
      "Training Loss: 0.569 \n",
      "Training Accuracy: 0.711\n",
      "----------\n",
      "Test Loss: 1.03 \n",
      "Test Accuracy: 0.636\n"
     ]
    }
   ],
   "source": [
    "#plugging my 'baseline' neural net into this function\n",
    "evaluate_nn(model1, X_train_token, X_test_token, y_train_enc, y_test_enc)"
   ]
  },
  {
   "cell_type": "markdown",
   "metadata": {},
   "source": [
    "These scores aren't too bad for a baseline. As a next step, I'm going to add more layers, and run for more epochs. In an attempt to add regularization parameters, I'm going to add dropout layers to hopefully make the model less sensitive to variance seeing as it's also overfit."
   ]
  },
  {
   "cell_type": "code",
   "execution_count": 63,
   "metadata": {},
   "outputs": [],
   "source": [
    "#new model with dropout layers\n",
    "np.random.seed(10)\n",
    "model2 = Sequential()\n",
    "\n",
    "model2.add(Embedding(10000, embedding_size))\n",
    "model2.add(LSTM(25, return_sequences=True))\n",
    "model2.add(GlobalMaxPool1D())\n",
    "model2.add(Dropout(0.5))\n",
    "model2.add(Dense(50, activation='relu'))\n",
    "model2.add(Dropout(0.5))\n",
    "model2.add(Dense(3, activation='softmax'))"
   ]
  },
  {
   "cell_type": "code",
   "execution_count": 64,
   "metadata": {},
   "outputs": [],
   "source": [
    "model2.compile(loss='categorical_crossentropy', \n",
    "              optimizer='adam', \n",
    "              metrics=['accuracy'])"
   ]
  },
  {
   "cell_type": "code",
   "execution_count": 65,
   "metadata": {
    "scrolled": true
   },
   "outputs": [
    {
     "name": "stdout",
     "output_type": "stream",
     "text": [
      "Model: \"sequential_1\"\n",
      "_________________________________________________________________\n",
      "Layer (type)                 Output Shape              Param #   \n",
      "=================================================================\n",
      "embedding_1 (Embedding)      (None, None, 100)         1000000   \n",
      "_________________________________________________________________\n",
      "lstm_1 (LSTM)                (None, None, 25)          12600     \n",
      "_________________________________________________________________\n",
      "global_max_pooling1d_1 (Glob (None, 25)                0         \n",
      "_________________________________________________________________\n",
      "dropout (Dropout)            (None, 25)                0         \n",
      "_________________________________________________________________\n",
      "dense_2 (Dense)              (None, 50)                1300      \n",
      "_________________________________________________________________\n",
      "dropout_1 (Dropout)          (None, 50)                0         \n",
      "_________________________________________________________________\n",
      "dense_3 (Dense)              (None, 3)                 153       \n",
      "=================================================================\n",
      "Total params: 1,014,053\n",
      "Trainable params: 1,014,053\n",
      "Non-trainable params: 0\n",
      "_________________________________________________________________\n"
     ]
    }
   ],
   "source": [
    "model2.summary()"
   ]
  },
  {
   "cell_type": "code",
   "execution_count": 66,
   "metadata": {},
   "outputs": [
    {
     "name": "stdout",
     "output_type": "stream",
     "text": [
      "Epoch 1/6\n",
      "210/210 [==============================] - 22s 85ms/step - loss: 0.9526 - accuracy: 0.5563\n",
      "Epoch 2/6\n",
      "210/210 [==============================] - 18s 86ms/step - loss: 0.8362 - accuracy: 0.6053\n",
      "Epoch 3/6\n",
      "210/210 [==============================] - 18s 85ms/step - loss: 0.7177 - accuracy: 0.6909\n",
      "Epoch 4/6\n",
      "210/210 [==============================] - 18s 88ms/step - loss: 0.5651 - accuracy: 0.7758\n",
      "Epoch 5/6\n",
      "210/210 [==============================] - 19s 89ms/step - loss: 0.4697 - accuracy: 0.8121\n",
      "Epoch 6/6\n",
      "210/210 [==============================] - 18s 88ms/step - loss: 0.3895 - accuracy: 0.8442\n"
     ]
    }
   ],
   "source": [
    "#increasing epochs to 6\n",
    "model2_val = model2.fit(X_train_token, y_train_enc, epochs=6, batch_size=32)"
   ]
  },
  {
   "cell_type": "code",
   "execution_count": 67,
   "metadata": {},
   "outputs": [
    {
     "name": "stdout",
     "output_type": "stream",
     "text": [
      "210/210 [==============================] - 5s 20ms/step - loss: 0.2864 - accuracy: 0.8996 0s\n",
      "70/70 [==============================] - 1s 20ms/step - loss: 0.9970 - accuracy: 0.6491\n",
      "----------\n",
      "Training Loss: 0.286 \n",
      "Training Accuracy: 0.9\n",
      "----------\n",
      "Test Loss: 0.997 \n",
      "Test Accuracy: 0.649\n"
     ]
    }
   ],
   "source": [
    "evaluate_nn(model2, X_train_token, X_test_token, y_train_enc, y_test_enc)"
   ]
  },
  {
   "cell_type": "markdown",
   "metadata": {},
   "source": [
    "The accuracy score improved pretty quickly, but it appears that the neural net is still really struggling with the test set. "
   ]
  },
  {
   "cell_type": "code",
   "execution_count": 69,
   "metadata": {},
   "outputs": [
    {
     "data": {
      "image/png": "[encoded data removed]",
      "text/plain": [
       "<Figure size 720x432 with 1 Axes>"
      ]
     },
     "metadata": {
      "needs_background": "light"
     },
     "output_type": "display_data"
    }
   ],
   "source": [
    "# Access the history attribute and store the dictionary\n",
    "baseline_model_val_dict = model2_val.history\n",
    "\n",
    "fig, ax = plt.subplots(figsize=(10, 6))\n",
    "\n",
    "acc_values = baseline_model_val_dict['accuracy']\n",
    "loss_values = baseline_model_val_dict['loss']\n",
    "\n",
    "epochs = range(1, len(loss_values) + 1)\n",
    "ax.plot(epochs, acc_values, label='Training accuracy')\n",
    "ax.plot(epochs, loss_values, label='Validation accuracy')\n",
    "\n",
    "ax.set_title('Training & validation accuracy')\n",
    "ax.set_xlabel('Epochs')\n",
    "ax.set_ylabel('Accuracy')\n",
    "ax.legend();"
   ]
  },
  {
   "cell_type": "markdown",
   "metadata": {},
   "source": [
    "There are still many options I can tap into to improve performance. As a next step, I'm going to apply, L2 regularization and run many more epochs. I'll also add early stopping so I don't have an unnecessary amount of runtime. "
   ]
  },
  {
   "cell_type": "markdown",
   "metadata": {},
   "source": [
    "### Using L2 Regularization"
   ]
  },
  {
   "cell_type": "code",
   "execution_count": 70,
   "metadata": {},
   "outputs": [],
   "source": [
    "early_stopping = [EarlyStopping(monitor='accuracy', patience=10)]"
   ]
  },
  {
   "cell_type": "code",
   "execution_count": 71,
   "metadata": {},
   "outputs": [],
   "source": [
    "#applying L2 regularization layer\n",
    "np.random.seed(10)\n",
    "l2_model = Sequential()\n",
    "\n",
    "l2_model.add(Embedding(10000, embedding_size))\n",
    "l2_model.add(LSTM(25, return_sequences=True))\n",
    "l2_model.add(GlobalMaxPool1D())\n",
    "l2_model.add(Dropout(0.5))\n",
    "l2_model.add(Dense(50, activation='relu', kernel_regularizer=regularizers.l2(0.005)))\n",
    "l2_model.add(Dropout(0.5))\n",
    "l2_model.add(Dense(3, activation='softmax'))"
   ]
  },
  {
   "cell_type": "code",
   "execution_count": 72,
   "metadata": {},
   "outputs": [],
   "source": [
    "l2_model.compile(loss='categorical_crossentropy', \n",
    "              optimizer='adam', \n",
    "              metrics=['accuracy'])"
   ]
  },
  {
   "cell_type": "code",
   "execution_count": 73,
   "metadata": {},
   "outputs": [
    {
     "name": "stdout",
     "output_type": "stream",
     "text": [
      "Epoch 1/150\n",
      "27/27 [==============================] - 10s 223ms/step - loss: 1.1993 - accuracy: 0.4975\n",
      "Epoch 2/150\n",
      "27/27 [==============================] - 6s 214ms/step - loss: 1.0325 - accuracy: 0.5763\n",
      "Epoch 3/150\n",
      "27/27 [==============================] - 6s 215ms/step - loss: 0.9842 - accuracy: 0.5753\n",
      "Epoch 4/150\n",
      "27/27 [==============================] - 6s 210ms/step - loss: 0.9526 - accuracy: 0.5936\n",
      "Epoch 5/150\n",
      "27/27 [==============================] - 6s 213ms/step - loss: 0.9283 - accuracy: 0.6053\n",
      "Epoch 6/150\n",
      "27/27 [==============================] - 6s 208ms/step - loss: 0.9183 - accuracy: 0.6013\n",
      "Epoch 7/150\n",
      "27/27 [==============================] - 6s 208ms/step - loss: 0.8878 - accuracy: 0.6084\n",
      "Epoch 8/150\n",
      "27/27 [==============================] - 6s 209ms/step - loss: 0.8532 - accuracy: 0.6022\n",
      "Epoch 9/150\n",
      "27/27 [==============================] - 6s 215ms/step - loss: 0.7814 - accuracy: 0.6567\n",
      "Epoch 10/150\n",
      "27/27 [==============================] - 6s 213ms/step - loss: 0.6947 - accuracy: 0.7347\n",
      "Epoch 11/150\n",
      "27/27 [==============================] - 6s 211ms/step - loss: 0.6083 - accuracy: 0.7862\n",
      "Epoch 12/150\n",
      "27/27 [==============================] - 6s 205ms/step - loss: 0.5328 - accuracy: 0.8229\n",
      "Epoch 13/150\n",
      "27/27 [==============================] - 6s 210ms/step - loss: 0.4769 - accuracy: 0.8424\n",
      "Epoch 14/150\n",
      "27/27 [==============================] - 6s 210ms/step - loss: 0.4527 - accuracy: 0.8488\n",
      "Epoch 15/150\n",
      "27/27 [==============================] - 5s 199ms/step - loss: 0.4254 - accuracy: 0.8542\n",
      "Epoch 16/150\n",
      "27/27 [==============================] - 6s 210ms/step - loss: 0.3810 - accuracy: 0.8709\n",
      "Epoch 17/150\n",
      "27/27 [==============================] - 6s 216ms/step - loss: 0.3672 - accuracy: 0.8680\n",
      "Epoch 18/150\n",
      "27/27 [==============================] - 6s 209ms/step - loss: 0.3455 - accuracy: 0.8701\n",
      "Epoch 19/150\n",
      "27/27 [==============================] - 6s 216ms/step - loss: 0.3180 - accuracy: 0.8776\n",
      "Epoch 20/150\n",
      "27/27 [==============================] - 6s 211ms/step - loss: 0.3101 - accuracy: 0.8790\n",
      "Epoch 21/150\n",
      "27/27 [==============================] - 6s 206ms/step - loss: 0.2787 - accuracy: 0.8905\n",
      "Epoch 22/150\n",
      "27/27 [==============================] - 6s 212ms/step - loss: 0.2613 - accuracy: 0.9032\n",
      "Epoch 23/150\n",
      "27/27 [==============================] - 6s 208ms/step - loss: 0.2495 - accuracy: 0.9018\n",
      "Epoch 24/150\n",
      "27/27 [==============================] - 5s 201ms/step - loss: 0.2606 - accuracy: 0.8977\n",
      "Epoch 25/150\n",
      "27/27 [==============================] - 6s 216ms/step - loss: 0.2505 - accuracy: 0.9040\n",
      "Epoch 26/150\n",
      "27/27 [==============================] - 6s 231ms/step - loss: 0.2333 - accuracy: 0.9181\n",
      "Epoch 27/150\n",
      "27/27 [==============================] - 6s 219ms/step - loss: 0.2242 - accuracy: 0.9230\n",
      "Epoch 28/150\n",
      "27/27 [==============================] - 6s 204ms/step - loss: 0.2123 - accuracy: 0.9271\n",
      "Epoch 29/150\n",
      "27/27 [==============================] - 5s 201ms/step - loss: 0.2105 - accuracy: 0.9314\n",
      "Epoch 30/150\n",
      "27/27 [==============================] - 5s 204ms/step - loss: 0.2076 - accuracy: 0.9300\n",
      "Epoch 31/150\n",
      "27/27 [==============================] - 6s 202ms/step - loss: 0.2073 - accuracy: 0.9299\n",
      "Epoch 32/150\n",
      "27/27 [==============================] - 6s 205ms/step - loss: 0.1928 - accuracy: 0.9374\n",
      "Epoch 33/150\n",
      "27/27 [==============================] - 5s 204ms/step - loss: 0.1955 - accuracy: 0.9336\n",
      "Epoch 34/150\n",
      "27/27 [==============================] - 5s 200ms/step - loss: 0.1902 - accuracy: 0.9395\n",
      "Epoch 35/150\n",
      "27/27 [==============================] - 5s 203ms/step - loss: 0.1901 - accuracy: 0.9431\n",
      "Epoch 36/150\n",
      "27/27 [==============================] - 6s 206ms/step - loss: 0.1758 - accuracy: 0.9443\n",
      "Epoch 37/150\n",
      "27/27 [==============================] - 6s 204ms/step - loss: 0.1859 - accuracy: 0.9377\n",
      "Epoch 38/150\n",
      "27/27 [==============================] - 5s 203ms/step - loss: 0.1767 - accuracy: 0.9387\n",
      "Epoch 39/150\n",
      "27/27 [==============================] - 5s 200ms/step - loss: 0.1663 - accuracy: 0.9459\n",
      "Epoch 40/150\n",
      "27/27 [==============================] - 5s 198ms/step - loss: 0.1613 - accuracy: 0.9462\n",
      "Epoch 41/150\n",
      "27/27 [==============================] - 5s 199ms/step - loss: 0.1641 - accuracy: 0.9456\n",
      "Epoch 42/150\n",
      "27/27 [==============================] - 5s 201ms/step - loss: 0.1634 - accuracy: 0.9424\n",
      "Epoch 43/150\n",
      "27/27 [==============================] - 5s 202ms/step - loss: 0.1531 - accuracy: 0.9508\n",
      "Epoch 44/150\n",
      "27/27 [==============================] - 6s 205ms/step - loss: 0.1633 - accuracy: 0.9442\n",
      "Epoch 45/150\n",
      "27/27 [==============================] - 5s 197ms/step - loss: 0.1498 - accuracy: 0.9474\n",
      "Epoch 46/150\n",
      "27/27 [==============================] - 5s 196ms/step - loss: 0.1569 - accuracy: 0.9502\n",
      "Epoch 47/150\n",
      "27/27 [==============================] - 5s 196ms/step - loss: 0.1546 - accuracy: 0.9445\n",
      "Epoch 48/150\n",
      "27/27 [==============================] - 5s 197ms/step - loss: 0.1570 - accuracy: 0.9449\n",
      "Epoch 49/150\n",
      "27/27 [==============================] - 5s 201ms/step - loss: 0.1430 - accuracy: 0.9493\n",
      "Epoch 50/150\n",
      "27/27 [==============================] - 6s 206ms/step - loss: 0.1480 - accuracy: 0.9475\n",
      "Epoch 51/150\n",
      "27/27 [==============================] - 5s 194ms/step - loss: 0.1469 - accuracy: 0.9536\n",
      "Epoch 52/150\n",
      "27/27 [==============================] - 5s 194ms/step - loss: 0.1452 - accuracy: 0.94880s - loss: 0.1446 - accuracy: \n",
      "Epoch 53/150\n",
      "27/27 [==============================] - 5s 201ms/step - loss: 0.1418 - accuracy: 0.9536\n",
      "Epoch 54/150\n",
      "27/27 [==============================] - 6s 206ms/step - loss: 0.1467 - accuracy: 0.9476\n",
      "Epoch 55/150\n",
      "27/27 [==============================] - 6s 206ms/step - loss: 0.1417 - accuracy: 0.9469\n",
      "Epoch 56/150\n",
      "27/27 [==============================] - 6s 206ms/step - loss: 0.1344 - accuracy: 0.9528\n",
      "Epoch 57/150\n",
      "27/27 [==============================] - 6s 205ms/step - loss: 0.1258 - accuracy: 0.9556\n",
      "Epoch 58/150\n",
      "27/27 [==============================] - 6s 212ms/step - loss: 0.1264 - accuracy: 0.9542\n",
      "Epoch 59/150\n",
      "27/27 [==============================] - 6s 214ms/step - loss: 0.1277 - accuracy: 0.9546\n",
      "Epoch 60/150\n",
      "27/27 [==============================] - 6s 228ms/step - loss: 0.1245 - accuracy: 0.9588\n",
      "Epoch 61/150\n",
      "27/27 [==============================] - 5s 196ms/step - loss: 0.1344 - accuracy: 0.9517\n",
      "Epoch 62/150\n",
      "27/27 [==============================] - 5s 201ms/step - loss: 0.1146 - accuracy: 0.9629\n",
      "Epoch 63/150\n",
      "27/27 [==============================] - 5s 195ms/step - loss: 0.1157 - accuracy: 0.9624\n",
      "Epoch 64/150\n",
      "27/27 [==============================] - 5s 199ms/step - loss: 0.1152 - accuracy: 0.9604\n",
      "Epoch 65/150\n",
      "27/27 [==============================] - 5s 191ms/step - loss: 0.1167 - accuracy: 0.96022s - loss: 0\n",
      "Epoch 66/150\n",
      "27/27 [==============================] - 5s 204ms/step - loss: 0.1316 - accuracy: 0.9567\n",
      "Epoch 67/150\n",
      "27/27 [==============================] - 5s 201ms/step - loss: 0.1151 - accuracy: 0.9597\n",
      "Epoch 68/150\n",
      "27/27 [==============================] - 5s 194ms/step - loss: 0.1036 - accuracy: 0.9661\n",
      "Epoch 69/150\n",
      "27/27 [==============================] - 5s 196ms/step - loss: 0.1109 - accuracy: 0.9595\n",
      "Epoch 70/150\n",
      "27/27 [==============================] - 5s 200ms/step - loss: 0.1018 - accuracy: 0.9678\n",
      "Epoch 71/150\n",
      "27/27 [==============================] - 5s 196ms/step - loss: 0.0999 - accuracy: 0.9674\n",
      "Epoch 72/150\n",
      "27/27 [==============================] - 5s 202ms/step - loss: 0.1109 - accuracy: 0.9638\n",
      "Epoch 73/150\n",
      "27/27 [==============================] - 6s 215ms/step - loss: 0.0948 - accuracy: 0.9723\n",
      "Epoch 74/150\n",
      "27/27 [==============================] - 6s 212ms/step - loss: 0.1007 - accuracy: 0.9700\n",
      "Epoch 75/150\n",
      "27/27 [==============================] - 6s 205ms/step - loss: 0.1034 - accuracy: 0.9690\n",
      "Epoch 76/150\n",
      "27/27 [==============================] - 7s 245ms/step - loss: 0.1036 - accuracy: 0.9668\n",
      "Epoch 77/150\n",
      "27/27 [==============================] - 6s 212ms/step - loss: 0.1095 - accuracy: 0.9644\n",
      "Epoch 78/150\n",
      "27/27 [==============================] - 6s 218ms/step - loss: 0.0898 - accuracy: 0.9740\n",
      "Epoch 79/150\n",
      "27/27 [==============================] - 6s 231ms/step - loss: 0.0942 - accuracy: 0.9708\n",
      "Epoch 80/150\n",
      "27/27 [==============================] - 6s 218ms/step - loss: 0.0926 - accuracy: 0.9678\n"
     ]
    },
    {
     "name": "stdout",
     "output_type": "stream",
     "text": [
      "Epoch 81/150\n",
      "27/27 [==============================] - 6s 211ms/step - loss: 0.0895 - accuracy: 0.9714\n",
      "Epoch 82/150\n",
      "27/27 [==============================] - 6s 230ms/step - loss: 0.0930 - accuracy: 0.9721\n",
      "Epoch 83/150\n",
      "27/27 [==============================] - 6s 237ms/step - loss: 0.0920 - accuracy: 0.9708\n",
      "Epoch 84/150\n",
      "27/27 [==============================] - 6s 232ms/step - loss: 0.0892 - accuracy: 0.9736\n",
      "Epoch 85/150\n",
      "27/27 [==============================] - 6s 227ms/step - loss: 0.0786 - accuracy: 0.9756\n",
      "Epoch 86/150\n",
      "27/27 [==============================] - 6s 224ms/step - loss: 0.0801 - accuracy: 0.9764\n",
      "Epoch 87/150\n",
      "27/27 [==============================] - 6s 230ms/step - loss: 0.0804 - accuracy: 0.9757\n",
      "Epoch 88/150\n",
      "27/27 [==============================] - 6s 215ms/step - loss: 0.0828 - accuracy: 0.9726\n",
      "Epoch 89/150\n",
      "27/27 [==============================] - 6s 216ms/step - loss: 0.0852 - accuracy: 0.9748\n",
      "Epoch 90/150\n",
      "27/27 [==============================] - 6s 215ms/step - loss: 0.0813 - accuracy: 0.9739\n",
      "Epoch 91/150\n",
      "27/27 [==============================] - 7s 248ms/step - loss: 0.0785 - accuracy: 0.9788\n",
      "Epoch 92/150\n",
      "27/27 [==============================] - 6s 235ms/step - loss: 0.0963 - accuracy: 0.9708\n",
      "Epoch 93/150\n",
      "27/27 [==============================] - 6s 217ms/step - loss: 0.0830 - accuracy: 0.9760\n",
      "Epoch 94/150\n",
      "27/27 [==============================] - 6s 208ms/step - loss: 0.0889 - accuracy: 0.9701\n",
      "Epoch 95/150\n",
      "27/27 [==============================] - 5s 204ms/step - loss: 0.1228 - accuracy: 0.9624\n",
      "Epoch 96/150\n",
      "27/27 [==============================] - 5s 196ms/step - loss: 0.0979 - accuracy: 0.9706\n",
      "Epoch 97/150\n",
      "27/27 [==============================] - 5s 198ms/step - loss: 0.0825 - accuracy: 0.9742\n",
      "Epoch 98/150\n",
      "27/27 [==============================] - 5s 199ms/step - loss: 0.0786 - accuracy: 0.9767\n",
      "Epoch 99/150\n",
      "27/27 [==============================] - 5s 199ms/step - loss: 0.0743 - accuracy: 0.9775\n",
      "Epoch 100/150\n",
      "27/27 [==============================] - 6s 215ms/step - loss: 0.0690 - accuracy: 0.9806\n",
      "Epoch 101/150\n",
      "27/27 [==============================] - 5s 201ms/step - loss: 0.0698 - accuracy: 0.9807\n",
      "Epoch 102/150\n",
      "27/27 [==============================] - 6s 212ms/step - loss: 0.0690 - accuracy: 0.9794\n",
      "Epoch 103/150\n",
      "27/27 [==============================] - 5s 197ms/step - loss: 0.0688 - accuracy: 0.9808\n",
      "Epoch 104/150\n",
      "27/27 [==============================] - 5s 189ms/step - loss: 0.0669 - accuracy: 0.9814\n",
      "Epoch 105/150\n",
      "27/27 [==============================] - 5s 195ms/step - loss: 0.0669 - accuracy: 0.9770\n",
      "Epoch 106/150\n",
      "27/27 [==============================] - 5s 195ms/step - loss: 0.0631 - accuracy: 0.9848\n",
      "Epoch 107/150\n",
      "27/27 [==============================] - 5s 191ms/step - loss: 0.0710 - accuracy: 0.9791\n",
      "Epoch 108/150\n",
      "27/27 [==============================] - 6s 208ms/step - loss: 0.0628 - accuracy: 0.9815\n",
      "Epoch 109/150\n",
      "27/27 [==============================] - 5s 187ms/step - loss: 0.0651 - accuracy: 0.9824\n",
      "Epoch 110/150\n",
      "27/27 [==============================] - 5s 192ms/step - loss: 0.0650 - accuracy: 0.9815\n",
      "Epoch 111/150\n",
      "27/27 [==============================] - 5s 194ms/step - loss: 0.0690 - accuracy: 0.9779\n",
      "Epoch 112/150\n",
      "27/27 [==============================] - 5s 193ms/step - loss: 0.0957 - accuracy: 0.9736\n",
      "Epoch 113/150\n",
      "27/27 [==============================] - 5s 200ms/step - loss: 0.0905 - accuracy: 0.9730\n",
      "Epoch 114/150\n",
      "27/27 [==============================] - 5s 195ms/step - loss: 0.0681 - accuracy: 0.9792\n",
      "Epoch 115/150\n",
      "27/27 [==============================] - 5s 200ms/step - loss: 0.0694 - accuracy: 0.9796\n",
      "Epoch 116/150\n",
      "27/27 [==============================] - 5s 196ms/step - loss: 0.0937 - accuracy: 0.9720\n"
     ]
    }
   ],
   "source": [
    "#increasing epochs to 150\n",
    "l2_model_val = l2_model.fit(X_train_token, y_train_enc, \n",
    "                            epochs=150, \n",
    "                            batch_size=256, \n",
    "                            callbacks=early_stopping)\n"
   ]
  },
  {
   "cell_type": "code",
   "execution_count": 74,
   "metadata": {
    "scrolled": true
   },
   "outputs": [
    {
     "name": "stdout",
     "output_type": "stream",
     "text": [
      "210/210 [==============================] - 6s 21ms/step - loss: 0.0510 - accuracy: 0.9852\n",
      "70/70 [==============================] - 2s 22ms/step - loss: 2.4502 - accuracy: 0.6379\n",
      "----------\n",
      "Training Loss: 0.051 \n",
      "Training Accuracy: 0.985\n",
      "----------\n",
      "Test Loss: 2.45 \n",
      "Test Accuracy: 0.638\n"
     ]
    }
   ],
   "source": [
    "evaluate_nn(l2_model, X_train_token, X_test_token, y_train_enc, y_test_enc)"
   ]
  },
  {
   "cell_type": "markdown",
   "metadata": {},
   "source": [
    "I am now at the point where my training score is very satisfactory, but the regularization is not really helping to improve my test score. I can also try L1 regularization."
   ]
  },
  {
   "cell_type": "markdown",
   "metadata": {},
   "source": [
    "### Using L1 regularization"
   ]
  },
  {
   "cell_type": "code",
   "execution_count": 75,
   "metadata": {},
   "outputs": [],
   "source": [
    "#adding L1 regulairzer layer\n",
    "np.random.seed(10)\n",
    "l1_model = Sequential()\n",
    "\n",
    "l1_model.add(Embedding(10000, embedding_size))\n",
    "l1_model.add(LSTM(25, return_sequences=True))\n",
    "l1_model.add(GlobalMaxPool1D())\n",
    "l1_model.add(Dropout(0.5))\n",
    "l1_model.add(Dense(50, activation='relu', kernel_regularizer=regularizers.l1(0.005)))\n",
    "l1_model.add(Dropout(0.5))\n",
    "l1_model.add(Dense(3, activation='softmax'))"
   ]
  },
  {
   "cell_type": "code",
   "execution_count": 76,
   "metadata": {},
   "outputs": [],
   "source": [
    "l1_model.compile(loss='categorical_crossentropy', \n",
    "              optimizer='adam', \n",
    "              metrics=['accuracy'])"
   ]
  },
  {
   "cell_type": "code",
   "execution_count": 77,
   "metadata": {},
   "outputs": [
    {
     "name": "stdout",
     "output_type": "stream",
     "text": [
      "Epoch 1/150\n",
      "27/27 [==============================] - 10s 212ms/step - loss: 1.9052 - accuracy: 0.5375\n",
      "Epoch 2/150\n",
      "27/27 [==============================] - 6s 216ms/step - loss: 1.6186 - accuracy: 0.6025\n",
      "Epoch 3/150\n",
      "27/27 [==============================] - 6s 212ms/step - loss: 1.4736 - accuracy: 0.5927\n",
      "Epoch 4/150\n",
      "27/27 [==============================] - 6s 215ms/step - loss: 1.3546 - accuracy: 0.6003\n",
      "Epoch 5/150\n",
      "27/27 [==============================] - 6s 231ms/step - loss: 1.2319 - accuracy: 0.6086\n",
      "Epoch 6/150\n",
      "27/27 [==============================] - 6s 220ms/step - loss: 1.1365 - accuracy: 0.5990\n",
      "Epoch 7/150\n",
      "27/27 [==============================] - 6s 216ms/step - loss: 1.0433 - accuracy: 0.6125\n",
      "Epoch 8/150\n",
      "27/27 [==============================] - 6s 216ms/step - loss: 0.9551 - accuracy: 0.6170\n",
      "Epoch 9/150\n",
      "27/27 [==============================] - 6s 213ms/step - loss: 0.8395 - accuracy: 0.6965\n",
      "Epoch 10/150\n",
      "27/27 [==============================] - 6s 216ms/step - loss: 0.7354 - accuracy: 0.7696\n",
      "Epoch 11/150\n",
      "27/27 [==============================] - 6s 214ms/step - loss: 0.6675 - accuracy: 0.7988\n",
      "Epoch 12/150\n",
      "27/27 [==============================] - 6s 208ms/step - loss: 0.6288 - accuracy: 0.8141\n",
      "Epoch 13/150\n",
      "27/27 [==============================] - 5s 203ms/step - loss: 0.6150 - accuracy: 0.8212\n",
      "Epoch 14/150\n",
      "27/27 [==============================] - 5s 199ms/step - loss: 0.5634 - accuracy: 0.8393\n",
      "Epoch 15/150\n",
      "27/27 [==============================] - 5s 179ms/step - loss: 0.5463 - accuracy: 0.8481\n",
      "Epoch 16/150\n",
      "27/27 [==============================] - 5s 189ms/step - loss: 0.5160 - accuracy: 0.85570s - loss: 0.5146 - accuracy\n",
      "Epoch 17/150\n",
      "27/27 [==============================] - 6s 206ms/step - loss: 0.5176 - accuracy: 0.8532\n",
      "Epoch 18/150\n",
      "27/27 [==============================] - 6s 235ms/step - loss: 0.4961 - accuracy: 0.8559\n",
      "Epoch 19/150\n",
      "27/27 [==============================] - 6s 229ms/step - loss: 0.4897 - accuracy: 0.8607\n",
      "Epoch 20/150\n",
      "27/27 [==============================] - 7s 245ms/step - loss: 0.4751 - accuracy: 0.8651\n",
      "Epoch 21/150\n",
      "27/27 [==============================] - 6s 219ms/step - loss: 0.4793 - accuracy: 0.8659\n",
      "Epoch 22/150\n",
      "27/27 [==============================] - 7s 271ms/step - loss: 0.4728 - accuracy: 0.8624\n",
      "Epoch 23/150\n",
      "27/27 [==============================] - 6s 204ms/step - loss: 0.4601 - accuracy: 0.8676\n",
      "Epoch 24/150\n",
      "27/27 [==============================] - 6s 209ms/step - loss: 0.4564 - accuracy: 0.8647\n",
      "Epoch 25/150\n",
      "27/27 [==============================] - 5s 193ms/step - loss: 0.4517 - accuracy: 0.8654\n",
      "Epoch 26/150\n",
      "27/27 [==============================] - 6s 205ms/step - loss: 0.4382 - accuracy: 0.8750\n",
      "Epoch 27/150\n",
      "27/27 [==============================] - 6s 205ms/step - loss: 0.4345 - accuracy: 0.8744\n",
      "Epoch 28/150\n",
      "27/27 [==============================] - 6s 213ms/step - loss: 0.4233 - accuracy: 0.87411s - loss: 0.4229 - ac\n",
      "Epoch 29/150\n",
      "27/27 [==============================] - 6s 222ms/step - loss: 0.4161 - accuracy: 0.8799\n",
      "Epoch 30/150\n",
      "27/27 [==============================] - 6s 208ms/step - loss: 0.4146 - accuracy: 0.8712\n",
      "Epoch 31/150\n",
      "27/27 [==============================] - 5s 191ms/step - loss: 0.4052 - accuracy: 0.8773\n",
      "Epoch 32/150\n",
      "27/27 [==============================] - 5s 199ms/step - loss: 0.3894 - accuracy: 0.8811\n",
      "Epoch 33/150\n",
      "27/27 [==============================] - 5s 201ms/step - loss: 0.3894 - accuracy: 0.8833\n",
      "Epoch 34/150\n",
      "27/27 [==============================] - 6s 214ms/step - loss: 0.3850 - accuracy: 0.8815\n",
      "Epoch 35/150\n",
      "27/27 [==============================] - 6s 214ms/step - loss: 0.3799 - accuracy: 0.8835\n",
      "Epoch 36/150\n",
      "27/27 [==============================] - 6s 228ms/step - loss: 0.3879 - accuracy: 0.8771\n",
      "Epoch 37/150\n",
      "27/27 [==============================] - 6s 231ms/step - loss: 0.3751 - accuracy: 0.8805\n",
      "Epoch 38/150\n",
      "27/27 [==============================] - 6s 226ms/step - loss: 0.3833 - accuracy: 0.8784\n",
      "Epoch 39/150\n",
      "27/27 [==============================] - 6s 217ms/step - loss: 0.3794 - accuracy: 0.8774\n",
      "Epoch 40/150\n",
      "27/27 [==============================] - 6s 208ms/step - loss: 0.3584 - accuracy: 0.8852\n",
      "Epoch 41/150\n",
      "27/27 [==============================] - 6s 216ms/step - loss: 0.3581 - accuracy: 0.8835\n",
      "Epoch 42/150\n",
      "27/27 [==============================] - 6s 213ms/step - loss: 0.3515 - accuracy: 0.8869\n",
      "Epoch 43/150\n",
      "27/27 [==============================] - 5s 198ms/step - loss: 0.3581 - accuracy: 0.8836\n",
      "Epoch 44/150\n",
      "27/27 [==============================] - 5s 199ms/step - loss: 0.3494 - accuracy: 0.8871\n",
      "Epoch 45/150\n",
      "27/27 [==============================] - 5s 193ms/step - loss: 0.3373 - accuracy: 0.8853\n",
      "Epoch 46/150\n",
      "27/27 [==============================] - 5s 203ms/step - loss: 0.3367 - accuracy: 0.8908\n",
      "Epoch 47/150\n",
      "27/27 [==============================] - 6s 211ms/step - loss: 0.3422 - accuracy: 0.8834\n",
      "Epoch 48/150\n",
      "27/27 [==============================] - 5s 200ms/step - loss: 0.3272 - accuracy: 0.8884\n",
      "Epoch 49/150\n",
      "27/27 [==============================] - 5s 204ms/step - loss: 0.3290 - accuracy: 0.8868\n",
      "Epoch 50/150\n",
      "27/27 [==============================] - 5s 196ms/step - loss: 0.3205 - accuracy: 0.8902\n",
      "Epoch 51/150\n",
      "27/27 [==============================] - 5s 198ms/step - loss: 0.3450 - accuracy: 0.8784\n",
      "Epoch 52/150\n",
      "27/27 [==============================] - 5s 189ms/step - loss: 0.3373 - accuracy: 0.8781\n",
      "Epoch 53/150\n",
      "27/27 [==============================] - 5s 190ms/step - loss: 0.3186 - accuracy: 0.8902\n",
      "Epoch 54/150\n",
      "27/27 [==============================] - 5s 199ms/step - loss: 0.3186 - accuracy: 0.8877\n",
      "Epoch 55/150\n",
      "27/27 [==============================] - 5s 192ms/step - loss: 0.3053 - accuracy: 0.8916\n",
      "Epoch 56/150\n",
      "27/27 [==============================] - 5s 199ms/step - loss: 0.2965 - accuracy: 0.8988\n",
      "Epoch 57/150\n",
      "27/27 [==============================] - 5s 202ms/step - loss: 0.3021 - accuracy: 0.9040\n",
      "Epoch 58/150\n",
      "27/27 [==============================] - 5s 200ms/step - loss: 0.3019 - accuracy: 0.9098\n",
      "Epoch 59/150\n",
      "27/27 [==============================] - 5s 199ms/step - loss: 0.2862 - accuracy: 0.9146\n",
      "Epoch 60/150\n",
      "27/27 [==============================] - 5s 201ms/step - loss: 0.2878 - accuracy: 0.9209\n",
      "Epoch 61/150\n",
      "27/27 [==============================] - 6s 230ms/step - loss: 0.2717 - accuracy: 0.9277\n",
      "Epoch 62/150\n",
      "27/27 [==============================] - 6s 216ms/step - loss: 0.2668 - accuracy: 0.9239\n",
      "Epoch 63/150\n",
      "27/27 [==============================] - 5s 198ms/step - loss: 0.2655 - accuracy: 0.9320\n",
      "Epoch 64/150\n",
      "27/27 [==============================] - 5s 195ms/step - loss: 0.2686 - accuracy: 0.9276\n",
      "Epoch 65/150\n",
      "27/27 [==============================] - 5s 195ms/step - loss: 0.2641 - accuracy: 0.9333\n",
      "Epoch 66/150\n",
      "27/27 [==============================] - 5s 196ms/step - loss: 0.2732 - accuracy: 0.9267\n",
      "Epoch 67/150\n",
      "27/27 [==============================] - 5s 187ms/step - loss: 0.2756 - accuracy: 0.9234\n",
      "Epoch 68/150\n",
      "27/27 [==============================] - 5s 193ms/step - loss: 0.2671 - accuracy: 0.9267\n",
      "Epoch 69/150\n",
      "27/27 [==============================] - 5s 200ms/step - loss: 0.2644 - accuracy: 0.9298\n",
      "Epoch 70/150\n",
      "27/27 [==============================] - 5s 193ms/step - loss: 0.2633 - accuracy: 0.9297\n",
      "Epoch 71/150\n",
      "27/27 [==============================] - 6s 206ms/step - loss: 0.2569 - accuracy: 0.9315\n",
      "Epoch 72/150\n",
      "27/27 [==============================] - 5s 196ms/step - loss: 0.2456 - accuracy: 0.9368\n",
      "Epoch 73/150\n",
      "27/27 [==============================] - 5s 196ms/step - loss: 0.2579 - accuracy: 0.9293\n",
      "Epoch 74/150\n",
      "27/27 [==============================] - 6s 204ms/step - loss: 0.2419 - accuracy: 0.9331\n",
      "Epoch 75/150\n",
      "27/27 [==============================] - 6s 207ms/step - loss: 0.2393 - accuracy: 0.9375\n",
      "Epoch 76/150\n",
      "27/27 [==============================] - 6s 210ms/step - loss: 0.2506 - accuracy: 0.9328\n",
      "Epoch 77/150\n",
      "27/27 [==============================] - 4s 158ms/step - loss: 0.2305 - accuracy: 0.9415\n",
      "Epoch 78/150\n",
      "27/27 [==============================] - 4s 158ms/step - loss: 0.2358 - accuracy: 0.9385\n",
      "Epoch 79/150\n",
      "27/27 [==============================] - 4s 149ms/step - loss: 0.2308 - accuracy: 0.9430\n",
      "Epoch 80/150\n"
     ]
    },
    {
     "name": "stdout",
     "output_type": "stream",
     "text": [
      "27/27 [==============================] - 4s 137ms/step - loss: 0.2478 - accuracy: 0.9363\n",
      "Epoch 81/150\n",
      "27/27 [==============================] - 3s 125ms/step - loss: 0.2358 - accuracy: 0.9381\n",
      "Epoch 82/150\n",
      "27/27 [==============================] - 3s 128ms/step - loss: 0.2324 - accuracy: 0.9353\n",
      "Epoch 83/150\n",
      "27/27 [==============================] - 4s 142ms/step - loss: 0.2198 - accuracy: 0.9454\n",
      "Epoch 84/150\n",
      "27/27 [==============================] - 4s 145ms/step - loss: 0.2221 - accuracy: 0.9415\n",
      "Epoch 85/150\n",
      "27/27 [==============================] - 4s 131ms/step - loss: 0.2263 - accuracy: 0.9424\n",
      "Epoch 86/150\n",
      "27/27 [==============================] - 4s 133ms/step - loss: 0.2176 - accuracy: 0.9489\n",
      "Epoch 87/150\n",
      "27/27 [==============================] - 3s 127ms/step - loss: 0.2088 - accuracy: 0.9526\n",
      "Epoch 88/150\n",
      "27/27 [==============================] - 3s 129ms/step - loss: 0.2086 - accuracy: 0.9497\n",
      "Epoch 89/150\n",
      "27/27 [==============================] - 4s 131ms/step - loss: 0.2139 - accuracy: 0.9486\n",
      "Epoch 90/150\n",
      "27/27 [==============================] - 4s 138ms/step - loss: 0.2178 - accuracy: 0.9447\n",
      "Epoch 91/150\n",
      "27/27 [==============================] - 4s 146ms/step - loss: 0.2226 - accuracy: 0.9429\n",
      "Epoch 92/150\n",
      "27/27 [==============================] - 4s 136ms/step - loss: 0.1960 - accuracy: 0.9555\n",
      "Epoch 93/150\n",
      "27/27 [==============================] - 4s 144ms/step - loss: 0.2032 - accuracy: 0.9489\n",
      "Epoch 94/150\n",
      "27/27 [==============================] - 4s 138ms/step - loss: 0.1945 - accuracy: 0.9575\n",
      "Epoch 95/150\n",
      "27/27 [==============================] - 4s 140ms/step - loss: 0.2140 - accuracy: 0.9483\n",
      "Epoch 96/150\n",
      "27/27 [==============================] - 4s 141ms/step - loss: 0.2107 - accuracy: 0.9498\n",
      "Epoch 97/150\n",
      "27/27 [==============================] - 4s 130ms/step - loss: 0.1899 - accuracy: 0.9592\n",
      "Epoch 98/150\n",
      "27/27 [==============================] - 3s 126ms/step - loss: 0.2063 - accuracy: 0.9515\n",
      "Epoch 99/150\n",
      "27/27 [==============================] - 3s 127ms/step - loss: 0.2018 - accuracy: 0.9507\n",
      "Epoch 100/150\n",
      "27/27 [==============================] - 3s 127ms/step - loss: 0.2130 - accuracy: 0.9489\n",
      "Epoch 101/150\n",
      "27/27 [==============================] - 4s 131ms/step - loss: 0.2015 - accuracy: 0.9501\n",
      "Epoch 102/150\n",
      "27/27 [==============================] - 4s 129ms/step - loss: 0.1943 - accuracy: 0.9558\n",
      "Epoch 103/150\n",
      "27/27 [==============================] - 3s 128ms/step - loss: 0.1829 - accuracy: 0.9579\n",
      "Epoch 104/150\n",
      "27/27 [==============================] - 3s 128ms/step - loss: 0.1798 - accuracy: 0.9598\n",
      "Epoch 105/150\n",
      "27/27 [==============================] - 4s 133ms/step - loss: 0.1961 - accuracy: 0.9546\n",
      "Epoch 106/150\n",
      "27/27 [==============================] - 4s 132ms/step - loss: 0.1774 - accuracy: 0.9627\n",
      "Epoch 107/150\n",
      "27/27 [==============================] - 4s 138ms/step - loss: 0.1731 - accuracy: 0.9649\n",
      "Epoch 108/150\n",
      "27/27 [==============================] - 4s 143ms/step - loss: 0.1855 - accuracy: 0.9577\n",
      "Epoch 109/150\n",
      "27/27 [==============================] - 4s 139ms/step - loss: 0.1695 - accuracy: 0.9647\n",
      "Epoch 110/150\n",
      "27/27 [==============================] - 4s 134ms/step - loss: 0.1720 - accuracy: 0.9643\n",
      "Epoch 111/150\n",
      "27/27 [==============================] - 4s 131ms/step - loss: 0.1797 - accuracy: 0.9640\n",
      "Epoch 112/150\n",
      "27/27 [==============================] - 4s 136ms/step - loss: 0.1618 - accuracy: 0.9686\n",
      "Epoch 113/150\n",
      "27/27 [==============================] - 4s 163ms/step - loss: 0.1656 - accuracy: 0.9691\n",
      "Epoch 114/150\n",
      "27/27 [==============================] - 4s 152ms/step - loss: 0.1732 - accuracy: 0.9642\n",
      "Epoch 115/150\n",
      "27/27 [==============================] - 4s 150ms/step - loss: 0.1755 - accuracy: 0.9669\n",
      "Epoch 116/150\n",
      "27/27 [==============================] - 4s 150ms/step - loss: 0.1656 - accuracy: 0.9671\n",
      "Epoch 117/150\n",
      "27/27 [==============================] - 4s 144ms/step - loss: 0.1673 - accuracy: 0.9673\n",
      "Epoch 118/150\n",
      "27/27 [==============================] - 4s 156ms/step - loss: 0.1660 - accuracy: 0.9653\n",
      "Epoch 119/150\n",
      "27/27 [==============================] - 4s 134ms/step - loss: 0.1648 - accuracy: 0.9639\n",
      "Epoch 120/150\n",
      "27/27 [==============================] - 4s 134ms/step - loss: 0.1614 - accuracy: 0.9663\n",
      "Epoch 121/150\n",
      "27/27 [==============================] - 4s 132ms/step - loss: 0.1620 - accuracy: 0.9708\n",
      "Epoch 122/150\n",
      "27/27 [==============================] - 4s 132ms/step - loss: 0.1558 - accuracy: 0.9673\n",
      "Epoch 123/150\n",
      "27/27 [==============================] - 4s 139ms/step - loss: 0.1582 - accuracy: 0.9677\n",
      "Epoch 124/150\n",
      "27/27 [==============================] - 4s 135ms/step - loss: 0.1589 - accuracy: 0.9635\n",
      "Epoch 125/150\n",
      "27/27 [==============================] - 4s 136ms/step - loss: 0.1544 - accuracy: 0.9737\n",
      "Epoch 126/150\n",
      "27/27 [==============================] - 4s 142ms/step - loss: 0.1596 - accuracy: 0.9680\n",
      "Epoch 127/150\n",
      "27/27 [==============================] - 4s 140ms/step - loss: 0.1645 - accuracy: 0.9709\n",
      "Epoch 128/150\n",
      "27/27 [==============================] - 4s 141ms/step - loss: 0.1591 - accuracy: 0.9707\n",
      "Epoch 129/150\n",
      "27/27 [==============================] - 4s 142ms/step - loss: 0.1617 - accuracy: 0.9682\n",
      "Epoch 130/150\n",
      "27/27 [==============================] - 4s 149ms/step - loss: 0.1540 - accuracy: 0.9721\n",
      "Epoch 131/150\n",
      "27/27 [==============================] - 5s 170ms/step - loss: 0.1505 - accuracy: 0.9685\n",
      "Epoch 132/150\n",
      "27/27 [==============================] - 4s 156ms/step - loss: 0.1585 - accuracy: 0.9723\n",
      "Epoch 133/150\n",
      "27/27 [==============================] - 4s 138ms/step - loss: 0.1491 - accuracy: 0.9703\n",
      "Epoch 134/150\n",
      "27/27 [==============================] - 5s 188ms/step - loss: 0.1456 - accuracy: 0.9721\n",
      "Epoch 135/150\n",
      "27/27 [==============================] - 5s 198ms/step - loss: 0.1438 - accuracy: 0.9729\n"
     ]
    }
   ],
   "source": [
    "l1_model_val = l1_model.fit(X_train_token, y_train_enc, \n",
    "                            epochs=150, \n",
    "                            batch_size=256, \n",
    "                            callbacks=early_stopping)"
   ]
  },
  {
   "cell_type": "code",
   "execution_count": 78,
   "metadata": {},
   "outputs": [
    {
     "name": "stdout",
     "output_type": "stream",
     "text": [
      "210/210 [==============================] - 3s 13ms/step - loss: 0.0934 - accuracy: 0.9857\n",
      "70/70 [==============================] - 1s 17ms/step - loss: 2.0770 - accuracy: 0.6531\n",
      "----------\n",
      "Training Loss: 0.0934 \n",
      "Training Accuracy: 0.986\n",
      "----------\n",
      "Test Loss: 2.08 \n",
      "Test Accuracy: 0.653\n"
     ]
    }
   ],
   "source": [
    "evaluate_nn(l1_model, X_train_token, X_test_token, y_train_enc, y_test_enc)"
   ]
  },
  {
   "cell_type": "markdown",
   "metadata": {},
   "source": [
    "It looks like applying L1 did just a little bit better. Because the accuracy score outperformed any of the more standard classifiers, I will use this very last model as my final model. "
   ]
  },
  {
   "cell_type": "markdown",
   "metadata": {},
   "source": [
    "## Evaluation"
   ]
  },
  {
   "cell_type": "markdown",
   "metadata": {},
   "source": [
    "Out of all the iterations of models that I tried, the neural nets using GloVe were most sucessful in achieving high accuracy. However, after trying several different techniques, the overfitting problem still didn't improve too much. \n",
    "\n",
    "My final neural net achieved 98.6% accuracy on the training set but 65.3% on the test set. I would recommend moving forward with this model to evaluate sentiment around future events and conferences related to tech as it has learned off of a specified data set. "
   ]
  },
  {
   "cell_type": "markdown",
   "metadata": {},
   "source": [
    "## Conclusions/Future Work"
   ]
  },
  {
   "cell_type": "markdown",
   "metadata": {},
   "source": [
    "This data set presented the challenge of a pretty extreme class imbalance. Since the majority of samples were labeled as neutral, there were fewer indicators of sentiment. \n",
    "\n",
    "The classifiers typically used for text data don't have as many hyper-parameters that can be tuned to correct for class imbalance. Compliment Naive Bayes was applied to help with this, and and SVM model was used in hopes of reducing overfitting. However the most satisfactory results came from the neural net. \n",
    "\n",
    "In order to improve this model and make in more generalizable, it is recommended to gather more data that has a higher percentage of labels that indicate positive or negative sentiment. Adding more data could also allow the use of a simpler neural net model, which could help to reduce runtimes. \n",
    "\n",
    "\n",
    "## Thank you!"
   ]
  }
 ],
 "metadata": {
  "kernelspec": {
   "display_name": "learn-env",
   "language": "python",
   "name": "learn-env"
  },
  "language_info": {
   "codemirror_mode": {
    "name": "ipython",
    "version": 3
   },
   "file_extension": ".py",
   "mimetype": "text/x-python",
   "name": "python",
   "nbconvert_exporter": "python",
   "pygments_lexer": "ipython3",
   "version": "3.6.9"
  }
 },
 "nbformat": 4,
 "nbformat_minor": 4
}
