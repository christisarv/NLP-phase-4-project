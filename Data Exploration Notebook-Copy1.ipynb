{
 "cells": [
  {
   "cell_type": "markdown",
   "metadata": {},
   "source": [
    "# NLP for Sentiment Analysis with Twitter Data"
   ]
  },
  {
   "cell_type": "markdown",
   "metadata": {},
   "source": [
    "## Introduction\n",
    "\n",
    "The goal of this project is to build a model that can classify the sentiment of a tweet based on its contents. \n",
    "\n",
    "The data used is sourced from Twitter from SXSW 2013, and contains tweets about the SXSW tech events and product announcements. Most of the tweets are about Apple and Google products, so I will analyze sentiment for each brand. The raw data can be found in the data folder in this repository.\n",
    "\n",
    "The data was manually labeled for classification, and contains the tweet text, the product or brand mentioned, and the sentiment as interpreted by the labeler.\n"
   ]
  },
  {
   "cell_type": "markdown",
   "metadata": {},
   "source": [
    "## Business Objective\n",
    "\n",
    "The resulting model will be used to classify tweets from future tech conferences from Google and Apple, and analyze how sentiment for the brands has changed over time. "
   ]
  },
  {
   "cell_type": "markdown",
   "metadata": {},
   "source": [
    "## Data Exploration and Cleaning\n",
    "\n",
    "After running all the relevant imports and the csv file, I can preview the dataset below.There are three columns, where the column describing the brand/product is mostly null. There is only one null in the tweet text column so I will drop that. "
   ]
  },
  {
   "cell_type": "code",
   "execution_count": 2,
   "metadata": {},
   "outputs": [],
   "source": [
    "import pandas as pd\n",
    "import numpy as np\n",
    "\n",
    "#visualization\n",
    "import matplotlib.pyplot as plt\n",
    "import seaborn as sns\n",
    "from wordcloud import WordCloud\n",
    "\n",
    "#text processing\n",
    "from sklearn.feature_extraction.text import CountVectorizer\n",
    "from sklearn.feature_extraction.text import TfidfVectorizer\n",
    "from sklearn.model_selection import train_test_split, GridSearchCV, cross_val_score\n",
    "import re\n",
    "import nltk\n",
    "from nltk.corpus import stopwords\n",
    "import string\n",
    "from nltk import word_tokenize, FreqDist\n",
    "\n",
    "#modeling\n",
    "from sklearn.svm import SVC\n",
    "from sklearn.naive_bayes import MultinomialNB\n",
    "from sklearn.ensemble import RandomForestClassifier\n",
    "from sklearn.metrics import accuracy_score, plot_confusion_matrix\n",
    "from sklearn.naive_bayes import ComplementNB\n",
    "\n",
    "# import warnings\n",
    "# warnings.filterwarnings('ignore')"
   ]
  },
  {
   "cell_type": "code",
   "execution_count": 3,
   "metadata": {
    "scrolled": true
   },
   "outputs": [
    {
     "name": "stdout",
     "output_type": "stream",
     "text": [
      "<class 'pandas.core.frame.DataFrame'>\n",
      "RangeIndex: 9093 entries, 0 to 9092\n",
      "Data columns (total 3 columns):\n",
      "tweet_text                                            9092 non-null object\n",
      "emotion_in_tweet_is_directed_at                       3291 non-null object\n",
      "is_there_an_emotion_directed_at_a_brand_or_product    9093 non-null object\n",
      "dtypes: object(3)\n",
      "memory usage: 213.2+ KB\n"
     ]
    }
   ],
   "source": [
    "raw_data = pd.read_csv('data/judge-1377884607_tweet_product_company.csv', encoding = 'latin1')\n",
    "raw_data.info()"
   ]
  },
  {
   "cell_type": "code",
   "execution_count": 4,
   "metadata": {},
   "outputs": [
    {
     "data": {
      "text/html": [
       "<div>\n",
       "<style scoped>\n",
       "    .dataframe tbody tr th:only-of-type {\n",
       "        vertical-align: middle;\n",
       "    }\n",
       "\n",
       "    .dataframe tbody tr th {\n",
       "        vertical-align: top;\n",
       "    }\n",
       "\n",
       "    .dataframe thead th {\n",
       "        text-align: right;\n",
       "    }\n",
       "</style>\n",
       "<table border=\"1\" class=\"dataframe\">\n",
       "  <thead>\n",
       "    <tr style=\"text-align: right;\">\n",
       "      <th></th>\n",
       "      <th>tweet_text</th>\n",
       "      <th>emotion_in_tweet_is_directed_at</th>\n",
       "      <th>is_there_an_emotion_directed_at_a_brand_or_product</th>\n",
       "    </tr>\n",
       "  </thead>\n",
       "  <tbody>\n",
       "    <tr>\n",
       "      <th>0</th>\n",
       "      <td>.@wesley83 I have a 3G iPhone. After 3 hrs twe...</td>\n",
       "      <td>iPhone</td>\n",
       "      <td>Negative emotion</td>\n",
       "    </tr>\n",
       "    <tr>\n",
       "      <th>1</th>\n",
       "      <td>@jessedee Know about @fludapp ? Awesome iPad/i...</td>\n",
       "      <td>iPad or iPhone App</td>\n",
       "      <td>Positive emotion</td>\n",
       "    </tr>\n",
       "    <tr>\n",
       "      <th>2</th>\n",
       "      <td>@swonderlin Can not wait for #iPad 2 also. The...</td>\n",
       "      <td>iPad</td>\n",
       "      <td>Positive emotion</td>\n",
       "    </tr>\n",
       "    <tr>\n",
       "      <th>3</th>\n",
       "      <td>@sxsw I hope this year's festival isn't as cra...</td>\n",
       "      <td>iPad or iPhone App</td>\n",
       "      <td>Negative emotion</td>\n",
       "    </tr>\n",
       "    <tr>\n",
       "      <th>4</th>\n",
       "      <td>@sxtxstate great stuff on Fri #SXSW: Marissa M...</td>\n",
       "      <td>Google</td>\n",
       "      <td>Positive emotion</td>\n",
       "    </tr>\n",
       "  </tbody>\n",
       "</table>\n",
       "</div>"
      ],
      "text/plain": [
       "                                          tweet_text  \\\n",
       "0  .@wesley83 I have a 3G iPhone. After 3 hrs twe...   \n",
       "1  @jessedee Know about @fludapp ? Awesome iPad/i...   \n",
       "2  @swonderlin Can not wait for #iPad 2 also. The...   \n",
       "3  @sxsw I hope this year's festival isn't as cra...   \n",
       "4  @sxtxstate great stuff on Fri #SXSW: Marissa M...   \n",
       "\n",
       "  emotion_in_tweet_is_directed_at  \\\n",
       "0                          iPhone   \n",
       "1              iPad or iPhone App   \n",
       "2                            iPad   \n",
       "3              iPad or iPhone App   \n",
       "4                          Google   \n",
       "\n",
       "  is_there_an_emotion_directed_at_a_brand_or_product  \n",
       "0                                   Negative emotion  \n",
       "1                                   Positive emotion  \n",
       "2                                   Positive emotion  \n",
       "3                                   Negative emotion  \n",
       "4                                   Positive emotion  "
      ]
     },
     "execution_count": 4,
     "metadata": {},
     "output_type": "execute_result"
    }
   ],
   "source": [
    "# theres's only one null in the tweet text column so I'm dropping it here\n",
    "raw_data = raw_data.drop(index=6, axis=0)\n",
    "raw_data.head()"
   ]
  },
  {
   "cell_type": "markdown",
   "metadata": {},
   "source": [
    "Taking a look at the subjects of the tweets, I can see they are labeled with several subcategories of Google and Apple products. However, most of this column is null values.  "
   ]
  },
  {
   "cell_type": "code",
   "execution_count": 5,
   "metadata": {
    "scrolled": true
   },
   "outputs": [
    {
     "data": {
      "text/plain": [
       "iPad                               946\n",
       "Apple                              661\n",
       "iPad or iPhone App                 470\n",
       "Google                             430\n",
       "iPhone                             297\n",
       "Other Google product or service    293\n",
       "Android App                         81\n",
       "Android                             78\n",
       "Other Apple product or service      35\n",
       "Name: emotion_in_tweet_is_directed_at, dtype: int64"
      ]
     },
     "execution_count": 5,
     "metadata": {},
     "output_type": "execute_result"
    }
   ],
   "source": [
    "raw_data['emotion_in_tweet_is_directed_at'].value_counts()"
   ]
  },
  {
   "cell_type": "code",
   "execution_count": 6,
   "metadata": {},
   "outputs": [
    {
     "data": {
      "text/plain": [
       "5801"
      ]
     },
     "execution_count": 6,
     "metadata": {},
     "output_type": "execute_result"
    }
   ],
   "source": [
    "raw_data['emotion_in_tweet_is_directed_at'].isna().sum()"
   ]
  },
  {
   "cell_type": "markdown",
   "metadata": {},
   "source": [
    "And looking at the sentiment, it looks like most of these are labeled as neutral and there are actually very few negative tweets. I assume this is because the tweets are from product announcements at SXSW, so the atmosphere is focused on excitement or news around new product launches. "
   ]
  },
  {
   "cell_type": "code",
   "execution_count": 7,
   "metadata": {
    "scrolled": true
   },
   "outputs": [
    {
     "data": {
      "text/plain": [
       "No emotion toward brand or product    5388\n",
       "Positive emotion                      2978\n",
       "Negative emotion                       570\n",
       "I can't tell                           156\n",
       "Name: is_there_an_emotion_directed_at_a_brand_or_product, dtype: int64"
      ]
     },
     "execution_count": 7,
     "metadata": {},
     "output_type": "execute_result"
    }
   ],
   "source": [
    "raw_data['is_there_an_emotion_directed_at_a_brand_or_product'].value_counts()"
   ]
  },
  {
   "cell_type": "markdown",
   "metadata": {},
   "source": [
    "I want to take a closer look at the 'I can't tell' category to see if I can group it in with neutral or if I should disregard. "
   ]
  },
  {
   "cell_type": "code",
   "execution_count": 8,
   "metadata": {
    "scrolled": true
   },
   "outputs": [
    {
     "data": {
      "text/html": [
       "<div>\n",
       "<style scoped>\n",
       "    .dataframe tbody tr th:only-of-type {\n",
       "        vertical-align: middle;\n",
       "    }\n",
       "\n",
       "    .dataframe tbody tr th {\n",
       "        vertical-align: top;\n",
       "    }\n",
       "\n",
       "    .dataframe thead th {\n",
       "        text-align: right;\n",
       "    }\n",
       "</style>\n",
       "<table border=\"1\" class=\"dataframe\">\n",
       "  <thead>\n",
       "    <tr style=\"text-align: right;\">\n",
       "      <th></th>\n",
       "      <th>tweet_text</th>\n",
       "      <th>emotion_in_tweet_is_directed_at</th>\n",
       "      <th>is_there_an_emotion_directed_at_a_brand_or_product</th>\n",
       "    </tr>\n",
       "  </thead>\n",
       "  <tbody>\n",
       "    <tr>\n",
       "      <th>90</th>\n",
       "      <td>Thanks to @mention for publishing the news of ...</td>\n",
       "      <td>NaN</td>\n",
       "      <td>I can't tell</td>\n",
       "    </tr>\n",
       "    <tr>\n",
       "      <th>102</th>\n",
       "      <td>ÛÏ@mention &amp;quot;Apple has opened a pop-up st...</td>\n",
       "      <td>NaN</td>\n",
       "      <td>I can't tell</td>\n",
       "    </tr>\n",
       "    <tr>\n",
       "      <th>237</th>\n",
       "      <td>Just what America needs. RT @mention Google to...</td>\n",
       "      <td>NaN</td>\n",
       "      <td>I can't tell</td>\n",
       "    </tr>\n",
       "    <tr>\n",
       "      <th>341</th>\n",
       "      <td>The queue at the Apple Store in Austin is FOUR...</td>\n",
       "      <td>NaN</td>\n",
       "      <td>I can't tell</td>\n",
       "    </tr>\n",
       "    <tr>\n",
       "      <th>368</th>\n",
       "      <td>Hope it's better than wave RT @mention Buzz is...</td>\n",
       "      <td>NaN</td>\n",
       "      <td>I can't tell</td>\n",
       "    </tr>\n",
       "  </tbody>\n",
       "</table>\n",
       "</div>"
      ],
      "text/plain": [
       "                                            tweet_text  \\\n",
       "90   Thanks to @mention for publishing the news of ...   \n",
       "102  ÛÏ@mention &quot;Apple has opened a pop-up st...   \n",
       "237  Just what America needs. RT @mention Google to...   \n",
       "341  The queue at the Apple Store in Austin is FOUR...   \n",
       "368  Hope it's better than wave RT @mention Buzz is...   \n",
       "\n",
       "    emotion_in_tweet_is_directed_at  \\\n",
       "90                              NaN   \n",
       "102                             NaN   \n",
       "237                             NaN   \n",
       "341                             NaN   \n",
       "368                             NaN   \n",
       "\n",
       "    is_there_an_emotion_directed_at_a_brand_or_product  \n",
       "90                                        I can't tell  \n",
       "102                                       I can't tell  \n",
       "237                                       I can't tell  \n",
       "341                                       I can't tell  \n",
       "368                                       I can't tell  "
      ]
     },
     "execution_count": 8,
     "metadata": {},
     "output_type": "execute_result"
    }
   ],
   "source": [
    "ct_df = raw_data[raw_data['is_there_an_emotion_directed_at_a_brand_or_product'] == 'I can\\'t tell']\n",
    "ct_df.head()"
   ]
  },
  {
   "cell_type": "markdown",
   "metadata": {},
   "source": [
    "Some tweets look actually neutral, and some like the one I've selected below maybe are sarcastic but even I am not sure if I would actually categorize this as negative. It seems unrealistic to go through all of these and it also doesn't make sense to have an 'I don't know' class so I'm going to relabel them as neutral along with the 'no emotion' tweets."
   ]
  },
  {
   "cell_type": "code",
   "execution_count": 9,
   "metadata": {},
   "outputs": [
    {
     "data": {
      "text/plain": [
       "'Just what America needs. RT @mention Google to Launch Major New Social Network Called Circles, Possibly Today {link} #sxsw'"
      ]
     },
     "execution_count": 9,
     "metadata": {},
     "output_type": "execute_result"
    }
   ],
   "source": [
    "ct_df.loc[237][0]"
   ]
  },
  {
   "cell_type": "markdown",
   "metadata": {},
   "source": [
    "I also want to preview the neutral tweets... and they look pretty neutral. So I'm going to create a new classifier column to sort these into: -1 for negative and 1 for positive. The neutrals will be the default 0."
   ]
  },
  {
   "cell_type": "code",
   "execution_count": 10,
   "metadata": {},
   "outputs": [
    {
     "data": {
      "text/html": [
       "<div>\n",
       "<style scoped>\n",
       "    .dataframe tbody tr th:only-of-type {\n",
       "        vertical-align: middle;\n",
       "    }\n",
       "\n",
       "    .dataframe tbody tr th {\n",
       "        vertical-align: top;\n",
       "    }\n",
       "\n",
       "    .dataframe thead th {\n",
       "        text-align: right;\n",
       "    }\n",
       "</style>\n",
       "<table border=\"1\" class=\"dataframe\">\n",
       "  <thead>\n",
       "    <tr style=\"text-align: right;\">\n",
       "      <th></th>\n",
       "      <th>tweet_text</th>\n",
       "      <th>emotion_in_tweet_is_directed_at</th>\n",
       "      <th>is_there_an_emotion_directed_at_a_brand_or_product</th>\n",
       "    </tr>\n",
       "  </thead>\n",
       "  <tbody>\n",
       "    <tr>\n",
       "      <th>5</th>\n",
       "      <td>@teachntech00 New iPad Apps For #SpeechTherapy...</td>\n",
       "      <td>NaN</td>\n",
       "      <td>No emotion toward brand or product</td>\n",
       "    </tr>\n",
       "    <tr>\n",
       "      <th>16</th>\n",
       "      <td>Holler Gram for iPad on the iTunes App Store -...</td>\n",
       "      <td>NaN</td>\n",
       "      <td>No emotion toward brand or product</td>\n",
       "    </tr>\n",
       "    <tr>\n",
       "      <th>32</th>\n",
       "      <td>Attn: All  #SXSW frineds, @mention Register fo...</td>\n",
       "      <td>NaN</td>\n",
       "      <td>No emotion toward brand or product</td>\n",
       "    </tr>\n",
       "    <tr>\n",
       "      <th>33</th>\n",
       "      <td>Anyone at  #sxsw want to sell their old iPad?</td>\n",
       "      <td>NaN</td>\n",
       "      <td>No emotion toward brand or product</td>\n",
       "    </tr>\n",
       "    <tr>\n",
       "      <th>34</th>\n",
       "      <td>Anyone at  #SXSW who bought the new iPad want ...</td>\n",
       "      <td>NaN</td>\n",
       "      <td>No emotion toward brand or product</td>\n",
       "    </tr>\n",
       "  </tbody>\n",
       "</table>\n",
       "</div>"
      ],
      "text/plain": [
       "                                           tweet_text  \\\n",
       "5   @teachntech00 New iPad Apps For #SpeechTherapy...   \n",
       "16  Holler Gram for iPad on the iTunes App Store -...   \n",
       "32  Attn: All  #SXSW frineds, @mention Register fo...   \n",
       "33      Anyone at  #sxsw want to sell their old iPad?   \n",
       "34  Anyone at  #SXSW who bought the new iPad want ...   \n",
       "\n",
       "   emotion_in_tweet_is_directed_at  \\\n",
       "5                              NaN   \n",
       "16                             NaN   \n",
       "32                             NaN   \n",
       "33                             NaN   \n",
       "34                             NaN   \n",
       "\n",
       "   is_there_an_emotion_directed_at_a_brand_or_product  \n",
       "5                  No emotion toward brand or product  \n",
       "16                 No emotion toward brand or product  \n",
       "32                 No emotion toward brand or product  \n",
       "33                 No emotion toward brand or product  \n",
       "34                 No emotion toward brand or product  "
      ]
     },
     "execution_count": 10,
     "metadata": {},
     "output_type": "execute_result"
    }
   ],
   "source": [
    "ne_df = raw_data[raw_data['is_there_an_emotion_directed_at_a_brand_or_product'] == 'No emotion toward brand or product']\n",
    "ne_df.head()"
   ]
  },
  {
   "cell_type": "code",
   "execution_count": 11,
   "metadata": {
    "scrolled": true
   },
   "outputs": [
    {
     "name": "stderr",
     "output_type": "stream",
     "text": [
      "C:\\Users\\christina.sarver\\Anaconda3\\envs\\learn-env\\lib\\site-packages\\ipykernel_launcher.py:7: SettingWithCopyWarning: \n",
      "A value is trying to be set on a copy of a slice from a DataFrame\n",
      "\n",
      "See the caveats in the documentation: http://pandas.pydata.org/pandas-docs/stable/user_guide/indexing.html#returning-a-view-versus-a-copy\n",
      "  import sys\n",
      "C:\\Users\\christina.sarver\\Anaconda3\\envs\\learn-env\\lib\\site-packages\\ipykernel_launcher.py:5: SettingWithCopyWarning: \n",
      "A value is trying to be set on a copy of a slice from a DataFrame\n",
      "\n",
      "See the caveats in the documentation: http://pandas.pydata.org/pandas-docs/stable/user_guide/indexing.html#returning-a-view-versus-a-copy\n",
      "  \"\"\"\n"
     ]
    },
    {
     "data": {
      "text/html": [
       "<div>\n",
       "<style scoped>\n",
       "    .dataframe tbody tr th:only-of-type {\n",
       "        vertical-align: middle;\n",
       "    }\n",
       "\n",
       "    .dataframe tbody tr th {\n",
       "        vertical-align: top;\n",
       "    }\n",
       "\n",
       "    .dataframe thead th {\n",
       "        text-align: right;\n",
       "    }\n",
       "</style>\n",
       "<table border=\"1\" class=\"dataframe\">\n",
       "  <thead>\n",
       "    <tr style=\"text-align: right;\">\n",
       "      <th></th>\n",
       "      <th>tweet_text</th>\n",
       "      <th>emotion_in_tweet_is_directed_at</th>\n",
       "      <th>is_there_an_emotion_directed_at_a_brand_or_product</th>\n",
       "      <th>class</th>\n",
       "    </tr>\n",
       "  </thead>\n",
       "  <tbody>\n",
       "    <tr>\n",
       "      <th>0</th>\n",
       "      <td>.@wesley83 I have a 3G iPhone. After 3 hrs twe...</td>\n",
       "      <td>iPhone</td>\n",
       "      <td>Negative emotion</td>\n",
       "      <td>-1</td>\n",
       "    </tr>\n",
       "    <tr>\n",
       "      <th>1</th>\n",
       "      <td>@jessedee Know about @fludapp ? Awesome iPad/i...</td>\n",
       "      <td>iPad or iPhone App</td>\n",
       "      <td>Positive emotion</td>\n",
       "      <td>1</td>\n",
       "    </tr>\n",
       "    <tr>\n",
       "      <th>2</th>\n",
       "      <td>@swonderlin Can not wait for #iPad 2 also. The...</td>\n",
       "      <td>iPad</td>\n",
       "      <td>Positive emotion</td>\n",
       "      <td>1</td>\n",
       "    </tr>\n",
       "    <tr>\n",
       "      <th>3</th>\n",
       "      <td>@sxsw I hope this year's festival isn't as cra...</td>\n",
       "      <td>iPad or iPhone App</td>\n",
       "      <td>Negative emotion</td>\n",
       "      <td>-1</td>\n",
       "    </tr>\n",
       "    <tr>\n",
       "      <th>4</th>\n",
       "      <td>@sxtxstate great stuff on Fri #SXSW: Marissa M...</td>\n",
       "      <td>Google</td>\n",
       "      <td>Positive emotion</td>\n",
       "      <td>1</td>\n",
       "    </tr>\n",
       "    <tr>\n",
       "      <th>5</th>\n",
       "      <td>@teachntech00 New iPad Apps For #SpeechTherapy...</td>\n",
       "      <td>NaN</td>\n",
       "      <td>No emotion toward brand or product</td>\n",
       "      <td>0</td>\n",
       "    </tr>\n",
       "    <tr>\n",
       "      <th>7</th>\n",
       "      <td>#SXSW is just starting, #CTIA is around the co...</td>\n",
       "      <td>Android</td>\n",
       "      <td>Positive emotion</td>\n",
       "      <td>1</td>\n",
       "    </tr>\n",
       "    <tr>\n",
       "      <th>8</th>\n",
       "      <td>Beautifully smart and simple idea RT @madebyma...</td>\n",
       "      <td>iPad or iPhone App</td>\n",
       "      <td>Positive emotion</td>\n",
       "      <td>1</td>\n",
       "    </tr>\n",
       "    <tr>\n",
       "      <th>9</th>\n",
       "      <td>Counting down the days to #sxsw plus strong Ca...</td>\n",
       "      <td>Apple</td>\n",
       "      <td>Positive emotion</td>\n",
       "      <td>1</td>\n",
       "    </tr>\n",
       "    <tr>\n",
       "      <th>10</th>\n",
       "      <td>Excited to meet the @samsungmobileus at #sxsw ...</td>\n",
       "      <td>Android</td>\n",
       "      <td>Positive emotion</td>\n",
       "      <td>1</td>\n",
       "    </tr>\n",
       "  </tbody>\n",
       "</table>\n",
       "</div>"
      ],
      "text/plain": [
       "                                           tweet_text  \\\n",
       "0   .@wesley83 I have a 3G iPhone. After 3 hrs twe...   \n",
       "1   @jessedee Know about @fludapp ? Awesome iPad/i...   \n",
       "2   @swonderlin Can not wait for #iPad 2 also. The...   \n",
       "3   @sxsw I hope this year's festival isn't as cra...   \n",
       "4   @sxtxstate great stuff on Fri #SXSW: Marissa M...   \n",
       "5   @teachntech00 New iPad Apps For #SpeechTherapy...   \n",
       "7   #SXSW is just starting, #CTIA is around the co...   \n",
       "8   Beautifully smart and simple idea RT @madebyma...   \n",
       "9   Counting down the days to #sxsw plus strong Ca...   \n",
       "10  Excited to meet the @samsungmobileus at #sxsw ...   \n",
       "\n",
       "   emotion_in_tweet_is_directed_at  \\\n",
       "0                           iPhone   \n",
       "1               iPad or iPhone App   \n",
       "2                             iPad   \n",
       "3               iPad or iPhone App   \n",
       "4                           Google   \n",
       "5                              NaN   \n",
       "7                          Android   \n",
       "8               iPad or iPhone App   \n",
       "9                            Apple   \n",
       "10                         Android   \n",
       "\n",
       "   is_there_an_emotion_directed_at_a_brand_or_product  class  \n",
       "0                                    Negative emotion     -1  \n",
       "1                                    Positive emotion      1  \n",
       "2                                    Positive emotion      1  \n",
       "3                                    Negative emotion     -1  \n",
       "4                                    Positive emotion      1  \n",
       "5                  No emotion toward brand or product      0  \n",
       "7                                    Positive emotion      1  \n",
       "8                                    Positive emotion      1  \n",
       "9                                    Positive emotion      1  \n",
       "10                                   Positive emotion      1  "
      ]
     },
     "execution_count": 11,
     "metadata": {},
     "output_type": "execute_result"
    }
   ],
   "source": [
    "#creating a new column for multiclass problem\n",
    "raw_data['class'] = 0\n",
    "for row in raw_data.index:\n",
    "    if raw_data['is_there_an_emotion_directed_at_a_brand_or_product'][row] == 'Positive emotion':\n",
    "        raw_data['class'][row] = 1\n",
    "    elif raw_data['is_there_an_emotion_directed_at_a_brand_or_product'][row] == 'Negative emotion':\n",
    "        raw_data['class'][row] = -1\n",
    "        \n",
    "raw_data.head(10)"
   ]
  },
  {
   "cell_type": "code",
   "execution_count": 13,
   "metadata": {
    "scrolled": true
   },
   "outputs": [
    {
     "data": {
      "text/plain": [
       "9092"
      ]
     },
     "execution_count": 13,
     "metadata": {},
     "output_type": "execute_result"
    }
   ],
   "source": [
    "len(raw_data)"
   ]
  },
  {
   "cell_type": "code",
   "execution_count": 15,
   "metadata": {},
   "outputs": [
    {
     "data": {
      "text/plain": [
       "156"
      ]
     },
     "execution_count": 15,
     "metadata": {},
     "output_type": "execute_result"
    }
   ],
   "source": [
    "len(ct_df)"
   ]
  },
  {
   "cell_type": "code",
   "execution_count": 23,
   "metadata": {},
   "outputs": [
    {
     "data": {
      "text/html": [
       "<div>\n",
       "<style scoped>\n",
       "    .dataframe tbody tr th:only-of-type {\n",
       "        vertical-align: middle;\n",
       "    }\n",
       "\n",
       "    .dataframe tbody tr th {\n",
       "        vertical-align: top;\n",
       "    }\n",
       "\n",
       "    .dataframe thead th {\n",
       "        text-align: right;\n",
       "    }\n",
       "</style>\n",
       "<table border=\"1\" class=\"dataframe\">\n",
       "  <thead>\n",
       "    <tr style=\"text-align: right;\">\n",
       "      <th></th>\n",
       "      <th>tweet_text</th>\n",
       "      <th>emotion_in_tweet_is_directed_at</th>\n",
       "      <th>is_there_an_emotion_directed_at_a_brand_or_product</th>\n",
       "      <th>class</th>\n",
       "    </tr>\n",
       "  </thead>\n",
       "  <tbody>\n",
       "    <tr>\n",
       "      <th>90</th>\n",
       "      <td>Thanks to @mention for publishing the news of ...</td>\n",
       "      <td>NaN</td>\n",
       "      <td>I can't tell</td>\n",
       "      <td>0</td>\n",
       "    </tr>\n",
       "    <tr>\n",
       "      <th>102</th>\n",
       "      <td>ÛÏ@mention &amp;quot;Apple has opened a pop-up st...</td>\n",
       "      <td>NaN</td>\n",
       "      <td>I can't tell</td>\n",
       "      <td>0</td>\n",
       "    </tr>\n",
       "    <tr>\n",
       "      <th>237</th>\n",
       "      <td>Just what America needs. RT @mention Google to...</td>\n",
       "      <td>NaN</td>\n",
       "      <td>I can't tell</td>\n",
       "      <td>0</td>\n",
       "    </tr>\n",
       "    <tr>\n",
       "      <th>341</th>\n",
       "      <td>The queue at the Apple Store in Austin is FOUR...</td>\n",
       "      <td>NaN</td>\n",
       "      <td>I can't tell</td>\n",
       "      <td>0</td>\n",
       "    </tr>\n",
       "    <tr>\n",
       "      <th>368</th>\n",
       "      <td>Hope it's better than wave RT @mention Buzz is...</td>\n",
       "      <td>NaN</td>\n",
       "      <td>I can't tell</td>\n",
       "      <td>0</td>\n",
       "    </tr>\n",
       "    <tr>\n",
       "      <th>...</th>\n",
       "      <td>...</td>\n",
       "      <td>...</td>\n",
       "      <td>...</td>\n",
       "      <td>...</td>\n",
       "    </tr>\n",
       "    <tr>\n",
       "      <th>9020</th>\n",
       "      <td>It's funny watching a room full of people hold...</td>\n",
       "      <td>NaN</td>\n",
       "      <td>I can't tell</td>\n",
       "      <td>0</td>\n",
       "    </tr>\n",
       "    <tr>\n",
       "      <th>9032</th>\n",
       "      <td>@mention yeah, we have @mention , Google has n...</td>\n",
       "      <td>NaN</td>\n",
       "      <td>I can't tell</td>\n",
       "      <td>0</td>\n",
       "    </tr>\n",
       "    <tr>\n",
       "      <th>9037</th>\n",
       "      <td>@mention Yes, the Google presentation was not ...</td>\n",
       "      <td>NaN</td>\n",
       "      <td>I can't tell</td>\n",
       "      <td>0</td>\n",
       "    </tr>\n",
       "    <tr>\n",
       "      <th>9058</th>\n",
       "      <td>&amp;quot;Do you know what Apple is really good at...</td>\n",
       "      <td>NaN</td>\n",
       "      <td>I can't tell</td>\n",
       "      <td>0</td>\n",
       "    </tr>\n",
       "    <tr>\n",
       "      <th>9066</th>\n",
       "      <td>How much you want to bet Apple is disproportio...</td>\n",
       "      <td>Apple</td>\n",
       "      <td>I can't tell</td>\n",
       "      <td>0</td>\n",
       "    </tr>\n",
       "  </tbody>\n",
       "</table>\n",
       "<p>156 rows × 4 columns</p>\n",
       "</div>"
      ],
      "text/plain": [
       "                                             tweet_text  \\\n",
       "90    Thanks to @mention for publishing the news of ...   \n",
       "102   ÛÏ@mention &quot;Apple has opened a pop-up st...   \n",
       "237   Just what America needs. RT @mention Google to...   \n",
       "341   The queue at the Apple Store in Austin is FOUR...   \n",
       "368   Hope it's better than wave RT @mention Buzz is...   \n",
       "...                                                 ...   \n",
       "9020  It's funny watching a room full of people hold...   \n",
       "9032  @mention yeah, we have @mention , Google has n...   \n",
       "9037  @mention Yes, the Google presentation was not ...   \n",
       "9058  &quot;Do you know what Apple is really good at...   \n",
       "9066  How much you want to bet Apple is disproportio...   \n",
       "\n",
       "     emotion_in_tweet_is_directed_at  \\\n",
       "90                               NaN   \n",
       "102                              NaN   \n",
       "237                              NaN   \n",
       "341                              NaN   \n",
       "368                              NaN   \n",
       "...                              ...   \n",
       "9020                             NaN   \n",
       "9032                             NaN   \n",
       "9037                             NaN   \n",
       "9058                             NaN   \n",
       "9066                           Apple   \n",
       "\n",
       "     is_there_an_emotion_directed_at_a_brand_or_product  class  \n",
       "90                                         I can't tell      0  \n",
       "102                                        I can't tell      0  \n",
       "237                                        I can't tell      0  \n",
       "341                                        I can't tell      0  \n",
       "368                                        I can't tell      0  \n",
       "...                                                 ...    ...  \n",
       "9020                                       I can't tell      0  \n",
       "9032                                       I can't tell      0  \n",
       "9037                                       I can't tell      0  \n",
       "9058                                       I can't tell      0  \n",
       "9066                                       I can't tell      0  \n",
       "\n",
       "[156 rows x 4 columns]"
      ]
     },
     "execution_count": 23,
     "metadata": {},
     "output_type": "execute_result"
    }
   ],
   "source": [
    "raw_data[raw_data['is_there_an_emotion_directed_at_a_brand_or_product'] == 'I can\\'t tell']"
   ]
  },
  {
   "cell_type": "code",
   "execution_count": 28,
   "metadata": {},
   "outputs": [
    {
     "data": {
      "text/plain": [
       "Int64Index([  90,  102,  237,  341,  368,  413,  441,  488,  640,  705,\n",
       "            ...\n",
       "            8631, 8702, 8713, 8831, 8846, 9020, 9032, 9037, 9058, 9066],\n",
       "           dtype='int64', length=156)"
      ]
     },
     "execution_count": 28,
     "metadata": {},
     "output_type": "execute_result"
    }
   ],
   "source": [
    "ct_df.index"
   ]
  },
  {
   "cell_type": "code",
   "execution_count": 29,
   "metadata": {
    "scrolled": true
   },
   "outputs": [],
   "source": [
    "raw_data = raw_data.drop([row for row in ct_df.index])"
   ]
  },
  {
   "cell_type": "code",
   "execution_count": 32,
   "metadata": {},
   "outputs": [
    {
     "data": {
      "text/plain": [
       "No emotion toward brand or product    5388\n",
       "Positive emotion                      2978\n",
       "Negative emotion                       570\n",
       "Name: is_there_an_emotion_directed_at_a_brand_or_product, dtype: int64"
      ]
     },
     "execution_count": 32,
     "metadata": {},
     "output_type": "execute_result"
    }
   ],
   "source": [
    "raw_data['is_there_an_emotion_directed_at_a_brand_or_product'].value_counts()"
   ]
  },
  {
   "cell_type": "markdown",
   "metadata": {},
   "source": [
    "The classes are pretty imbalanced. This could become a problem when working through the modeling so I will keep this in mind. "
   ]
  },
  {
   "cell_type": "code",
   "execution_count": 11,
   "metadata": {},
   "outputs": [
    {
     "data": {
      "image/png": "[encoded data removed]",
      "text/plain": [
       "<Figure size 504x360 with 1 Axes>"
      ]
     },
     "metadata": {
      "needs_background": "light"
     },
     "output_type": "display_data"
    }
   ],
   "source": [
    "plt.figure (figsize=(7,5))\n",
    "ax = sns.countplot(x = 'class', hue = 'class', data = raw_data, palette = 'magma')\n",
    "plt.title('Sentiment Distribution')\n",
    "plt.xlabel('Sentiment')\n",
    "plt.ylabel('Count')\n",
    "plt.xticks([-1, 1, 0], ['Negative', 'Positive', 'Neutral'], rotation=20)\n",
    "ax.get_legend().remove()\n",
    "\n",
    "plt.show()\n",
    "\n",
    "#update this to add products or change chart?"
   ]
  },
  {
   "cell_type": "markdown",
   "metadata": {},
   "source": [
    "Another problem is that the data is missing a lot of labels for the product/brand. When I look at the nulls, I can actually see a lot of the product mentions in them so I'm going to see if I can label a few more."
   ]
  },
  {
   "cell_type": "code",
   "execution_count": 12,
   "metadata": {},
   "outputs": [
    {
     "name": "stdout",
     "output_type": "stream",
     "text": [
      "There are 5801 unlabeled tweets out of 9092 total which equates to 63.8 %\n"
     ]
    }
   ],
   "source": [
    "nulls_df = raw_data[raw_data['emotion_in_tweet_is_directed_at'].isna()]\n",
    "\n",
    "print('There are', len(nulls_df), 'unlabeled tweets out of', len(raw_data),\n",
    "      'total which equates to', round(len(nulls_df)/len(raw_data)*100,2), \"%\")"
   ]
  },
  {
   "cell_type": "code",
   "execution_count": 13,
   "metadata": {
    "scrolled": false
   },
   "outputs": [
    {
     "data": {
      "text/html": [
       "<div>\n",
       "<style scoped>\n",
       "    .dataframe tbody tr th:only-of-type {\n",
       "        vertical-align: middle;\n",
       "    }\n",
       "\n",
       "    .dataframe tbody tr th {\n",
       "        vertical-align: top;\n",
       "    }\n",
       "\n",
       "    .dataframe thead th {\n",
       "        text-align: right;\n",
       "    }\n",
       "</style>\n",
       "<table border=\"1\" class=\"dataframe\">\n",
       "  <thead>\n",
       "    <tr style=\"text-align: right;\">\n",
       "      <th></th>\n",
       "      <th>tweet_text</th>\n",
       "      <th>emotion_in_tweet_is_directed_at</th>\n",
       "      <th>is_there_an_emotion_directed_at_a_brand_or_product</th>\n",
       "      <th>class</th>\n",
       "    </tr>\n",
       "  </thead>\n",
       "  <tbody>\n",
       "    <tr>\n",
       "      <th>5</th>\n",
       "      <td>@teachntech00 New iPad Apps For #SpeechTherapy...</td>\n",
       "      <td>NaN</td>\n",
       "      <td>No emotion toward brand or product</td>\n",
       "      <td>0</td>\n",
       "    </tr>\n",
       "    <tr>\n",
       "      <th>16</th>\n",
       "      <td>Holler Gram for iPad on the iTunes App Store -...</td>\n",
       "      <td>NaN</td>\n",
       "      <td>No emotion toward brand or product</td>\n",
       "      <td>0</td>\n",
       "    </tr>\n",
       "    <tr>\n",
       "      <th>32</th>\n",
       "      <td>Attn: All  #SXSW frineds, @mention Register fo...</td>\n",
       "      <td>NaN</td>\n",
       "      <td>No emotion toward brand or product</td>\n",
       "      <td>0</td>\n",
       "    </tr>\n",
       "    <tr>\n",
       "      <th>33</th>\n",
       "      <td>Anyone at  #sxsw want to sell their old iPad?</td>\n",
       "      <td>NaN</td>\n",
       "      <td>No emotion toward brand or product</td>\n",
       "      <td>0</td>\n",
       "    </tr>\n",
       "    <tr>\n",
       "      <th>34</th>\n",
       "      <td>Anyone at  #SXSW who bought the new iPad want ...</td>\n",
       "      <td>NaN</td>\n",
       "      <td>No emotion toward brand or product</td>\n",
       "      <td>0</td>\n",
       "    </tr>\n",
       "  </tbody>\n",
       "</table>\n",
       "</div>"
      ],
      "text/plain": [
       "                                           tweet_text  \\\n",
       "5   @teachntech00 New iPad Apps For #SpeechTherapy...   \n",
       "16  Holler Gram for iPad on the iTunes App Store -...   \n",
       "32  Attn: All  #SXSW frineds, @mention Register fo...   \n",
       "33      Anyone at  #sxsw want to sell their old iPad?   \n",
       "34  Anyone at  #SXSW who bought the new iPad want ...   \n",
       "\n",
       "   emotion_in_tweet_is_directed_at  \\\n",
       "5                              NaN   \n",
       "16                             NaN   \n",
       "32                             NaN   \n",
       "33                             NaN   \n",
       "34                             NaN   \n",
       "\n",
       "   is_there_an_emotion_directed_at_a_brand_or_product  class  \n",
       "5                  No emotion toward brand or product      0  \n",
       "16                 No emotion toward brand or product      0  \n",
       "32                 No emotion toward brand or product      0  \n",
       "33                 No emotion toward brand or product      0  \n",
       "34                 No emotion toward brand or product      0  "
      ]
     },
     "execution_count": 13,
     "metadata": {},
     "output_type": "execute_result"
    }
   ],
   "source": [
    "nulls_df.head()"
   ]
  },
  {
   "cell_type": "markdown",
   "metadata": {},
   "source": [
    "Most of the unlabeled tweets are neutral anyway so they really don't have a lot of info. "
   ]
  },
  {
   "cell_type": "code",
   "execution_count": 14,
   "metadata": {},
   "outputs": [
    {
     "data": {
      "text/plain": [
       "No emotion toward brand or product    5297\n",
       "Positive emotion                       306\n",
       "I can't tell                           147\n",
       "Negative emotion                        51\n",
       "Name: is_there_an_emotion_directed_at_a_brand_or_product, dtype: int64"
      ]
     },
     "execution_count": 14,
     "metadata": {},
     "output_type": "execute_result"
    }
   ],
   "source": [
    "nulls_df['is_there_an_emotion_directed_at_a_brand_or_product'].value_counts()"
   ]
  },
  {
   "cell_type": "markdown",
   "metadata": {},
   "source": [
    "However, from the above preview I can clearly see brand/product mentions so I'm going to go through this and search for both Apple and Google related terms."
   ]
  },
  {
   "cell_type": "code",
   "execution_count": 15,
   "metadata": {
    "scrolled": true
   },
   "outputs": [
    {
     "data": {
      "text/html": [
       "<div>\n",
       "<style scoped>\n",
       "    .dataframe tbody tr th:only-of-type {\n",
       "        vertical-align: middle;\n",
       "    }\n",
       "\n",
       "    .dataframe tbody tr th {\n",
       "        vertical-align: top;\n",
       "    }\n",
       "\n",
       "    .dataframe thead th {\n",
       "        text-align: right;\n",
       "    }\n",
       "</style>\n",
       "<table border=\"1\" class=\"dataframe\">\n",
       "  <thead>\n",
       "    <tr style=\"text-align: right;\">\n",
       "      <th></th>\n",
       "      <th>tweet_text</th>\n",
       "      <th>emotion_in_tweet_is_directed_at</th>\n",
       "      <th>is_there_an_emotion_directed_at_a_brand_or_product</th>\n",
       "      <th>class</th>\n",
       "    </tr>\n",
       "  </thead>\n",
       "  <tbody>\n",
       "    <tr>\n",
       "      <th>78</th>\n",
       "      <td>iPad2? RT @mention Droid &amp;amp; Mac here :) RT ...</td>\n",
       "      <td>Apple</td>\n",
       "      <td>No emotion toward brand or product</td>\n",
       "      <td>0</td>\n",
       "    </tr>\n",
       "    <tr>\n",
       "      <th>194</th>\n",
       "      <td>Apple has 200M users' credit cards sync'd with...</td>\n",
       "      <td>Apple</td>\n",
       "      <td>No emotion toward brand or product</td>\n",
       "      <td>0</td>\n",
       "    </tr>\n",
       "    <tr>\n",
       "      <th>222</th>\n",
       "      <td>Apple has a temporary Retail Store in Austin f...</td>\n",
       "      <td>Apple</td>\n",
       "      <td>No emotion toward brand or product</td>\n",
       "      <td>0</td>\n",
       "    </tr>\n",
       "    <tr>\n",
       "      <th>230</th>\n",
       "      <td>Apple IIe ad in the '85 SI swimsuit issue at a...</td>\n",
       "      <td>Apple</td>\n",
       "      <td>No emotion toward brand or product</td>\n",
       "      <td>0</td>\n",
       "    </tr>\n",
       "    <tr>\n",
       "      <th>254</th>\n",
       "      <td>iPad 2 vs Android vs The World : Panel at #SXS...</td>\n",
       "      <td>Apple</td>\n",
       "      <td>No emotion toward brand or product</td>\n",
       "      <td>0</td>\n",
       "    </tr>\n",
       "  </tbody>\n",
       "</table>\n",
       "</div>"
      ],
      "text/plain": [
       "                                            tweet_text  \\\n",
       "78   iPad2? RT @mention Droid &amp; Mac here :) RT ...   \n",
       "194  Apple has 200M users' credit cards sync'd with...   \n",
       "222  Apple has a temporary Retail Store in Austin f...   \n",
       "230  Apple IIe ad in the '85 SI swimsuit issue at a...   \n",
       "254  iPad 2 vs Android vs The World : Panel at #SXS...   \n",
       "\n",
       "    emotion_in_tweet_is_directed_at  \\\n",
       "78                            Apple   \n",
       "194                           Apple   \n",
       "222                           Apple   \n",
       "230                           Apple   \n",
       "254                           Apple   \n",
       "\n",
       "    is_there_an_emotion_directed_at_a_brand_or_product  class  \n",
       "78                  No emotion toward brand or product      0  \n",
       "194                 No emotion toward brand or product      0  \n",
       "222                 No emotion toward brand or product      0  \n",
       "230                 No emotion toward brand or product      0  \n",
       "254                 No emotion toward brand or product      0  "
      ]
     },
     "execution_count": 15,
     "metadata": {},
     "output_type": "execute_result"
    }
   ],
   "source": [
    "apple_searchwords = ['iPad','iTunes','Apple', 'apple', 'iPhone', 'macbook']\n",
    "\n",
    "apple = nulls_df[nulls_df['tweet_text'].str.findall('^(?:'+'|'.join(apple_searchwords) + ')').apply(len) > 0].fillna('Apple')\n",
    "\n",
    "apple.head()"
   ]
  },
  {
   "cell_type": "markdown",
   "metadata": {},
   "source": [
    "Of course, this doesn't work perfectly as with the below example but it's an efficient method. "
   ]
  },
  {
   "cell_type": "code",
   "execution_count": 16,
   "metadata": {},
   "outputs": [
    {
     "data": {
      "text/plain": [
       "'Agree. RT @mention Wait. FIONA APPLE is in town??? Somebody kidnap her and put her in a recording studio until she records a new album. #sxsw'"
      ]
     },
     "execution_count": 16,
     "metadata": {},
     "output_type": "execute_result"
    }
   ],
   "source": [
    "nulls_df.loc[65][0]"
   ]
  },
  {
   "cell_type": "code",
   "execution_count": 17,
   "metadata": {
    "scrolled": true
   },
   "outputs": [
    {
     "data": {
      "text/html": [
       "<div>\n",
       "<style scoped>\n",
       "    .dataframe tbody tr th:only-of-type {\n",
       "        vertical-align: middle;\n",
       "    }\n",
       "\n",
       "    .dataframe tbody tr th {\n",
       "        vertical-align: top;\n",
       "    }\n",
       "\n",
       "    .dataframe thead th {\n",
       "        text-align: right;\n",
       "    }\n",
       "</style>\n",
       "<table border=\"1\" class=\"dataframe\">\n",
       "  <thead>\n",
       "    <tr style=\"text-align: right;\">\n",
       "      <th></th>\n",
       "      <th>tweet_text</th>\n",
       "      <th>emotion_in_tweet_is_directed_at</th>\n",
       "      <th>is_there_an_emotion_directed_at_a_brand_or_product</th>\n",
       "      <th>class</th>\n",
       "    </tr>\n",
       "  </thead>\n",
       "  <tbody>\n",
       "    <tr>\n",
       "      <th>256</th>\n",
       "      <td>Google is announcing a social network &amp;quot;Ci...</td>\n",
       "      <td>Google</td>\n",
       "      <td>No emotion toward brand or product</td>\n",
       "      <td>0</td>\n",
       "    </tr>\n",
       "    <tr>\n",
       "      <th>397</th>\n",
       "      <td>Google to Circle Austin? #sxsw {link}</td>\n",
       "      <td>Google</td>\n",
       "      <td>No emotion toward brand or product</td>\n",
       "      <td>0</td>\n",
       "    </tr>\n",
       "    <tr>\n",
       "      <th>422</th>\n",
       "      <td>Google to debut new selective social network t...</td>\n",
       "      <td>Google</td>\n",
       "      <td>No emotion toward brand or product</td>\n",
       "      <td>0</td>\n",
       "    </tr>\n",
       "    <tr>\n",
       "      <th>542</th>\n",
       "      <td>Google to give social networking another try w...</td>\n",
       "      <td>Google</td>\n",
       "      <td>No emotion toward brand or product</td>\n",
       "      <td>0</td>\n",
       "    </tr>\n",
       "    <tr>\n",
       "      <th>623</th>\n",
       "      <td>Google to Host Developer Day at SXSW {link} #s...</td>\n",
       "      <td>Google</td>\n",
       "      <td>No emotion toward brand or product</td>\n",
       "      <td>0</td>\n",
       "    </tr>\n",
       "  </tbody>\n",
       "</table>\n",
       "</div>"
      ],
      "text/plain": [
       "                                            tweet_text  \\\n",
       "256  Google is announcing a social network &quot;Ci...   \n",
       "397              Google to Circle Austin? #sxsw {link}   \n",
       "422  Google to debut new selective social network t...   \n",
       "542  Google to give social networking another try w...   \n",
       "623  Google to Host Developer Day at SXSW {link} #s...   \n",
       "\n",
       "    emotion_in_tweet_is_directed_at  \\\n",
       "256                          Google   \n",
       "397                          Google   \n",
       "422                          Google   \n",
       "542                          Google   \n",
       "623                          Google   \n",
       "\n",
       "    is_there_an_emotion_directed_at_a_brand_or_product  class  \n",
       "256                 No emotion toward brand or product      0  \n",
       "397                 No emotion toward brand or product      0  \n",
       "422                 No emotion toward brand or product      0  \n",
       "542                 No emotion toward brand or product      0  \n",
       "623                 No emotion toward brand or product      0  "
      ]
     },
     "execution_count": 17,
     "metadata": {},
     "output_type": "execute_result"
    }
   ],
   "source": [
    "google_searchwords = ['android','Google','android']\n",
    "\n",
    "google = nulls_df[nulls_df['tweet_text'].str.findall('^(?:'+'|'.join(google_searchwords) + ')').apply(len) > 0].fillna(\"Google\")\n",
    "google.head()"
   ]
  },
  {
   "cell_type": "code",
   "execution_count": 18,
   "metadata": {},
   "outputs": [],
   "source": [
    "apple_indexes = list(apple.index)\n",
    "google_indexes = list(google.index)"
   ]
  },
  {
   "cell_type": "code",
   "execution_count": 19,
   "metadata": {},
   "outputs": [],
   "source": [
    "# if raw_data.index is in apple_indexes:\n",
    "#     raw_data['emotion_in_tweet_is_directed_at'].fillna('Apple')"
   ]
  },
  {
   "cell_type": "markdown",
   "metadata": {},
   "source": [
    "These mostly look correct though and I've added 430 new labels to the data. "
   ]
  },
  {
   "cell_type": "code",
   "execution_count": 20,
   "metadata": {},
   "outputs": [],
   "source": [
    "# binary indicator\n",
    "# for value in raw_data['emotion_in_tweet_is_directed_at']:\n",
    "#     if value == 'iPad' or 'Apple' or'iPad or iPhone App' or 'iPhone' or 'Other Apple product or service':\n",
    "#         raw_data['apple'] = 1\n",
    "        \n",
    "# for value in raw_data['emotion_in_tweet_is_directed_at']:\n",
    "#     if value == 'Google' or 'Android App' or'Android' or 'Other Google product or service':\n",
    "#         raw_data['google'] = 1    "
   ]
  },
  {
   "cell_type": "code",
   "execution_count": 21,
   "metadata": {
    "scrolled": false
   },
   "outputs": [],
   "source": [
    "grouped_negative = raw_data[raw_data['class'] == -1 ].groupby('emotion_in_tweet_is_directed_at').count()\n",
    "grouped_negative = grouped_negative.drop(columns=['tweet_text', 'is_there_an_emotion_directed_at_a_brand_or_product'])"
   ]
  },
  {
   "cell_type": "code",
   "execution_count": 22,
   "metadata": {},
   "outputs": [
    {
     "data": {
      "text/plain": [
       "<matplotlib.axes._subplots.AxesSubplot at 0x18c7d730a20>"
      ]
     },
     "execution_count": 22,
     "metadata": {},
     "output_type": "execute_result"
    },
    {
     "data": {
      "image/png": "[encoded data removed]",
      "text/plain": [
       "<Figure size 432x288 with 1 Axes>"
      ]
     },
     "metadata": {
      "needs_background": "light"
     },
     "output_type": "display_data"
    }
   ],
   "source": [
    "grouped_negative.plot(kind='bar', stacked=True)"
   ]
  },
  {
   "cell_type": "code",
   "execution_count": 23,
   "metadata": {},
   "outputs": [
    {
     "data": {
      "text/plain": [
       "<matplotlib.axes._subplots.AxesSubplot at 0x18c7d8174e0>"
      ]
     },
     "execution_count": 23,
     "metadata": {},
     "output_type": "execute_result"
    },
    {
     "data": {
      "image/png": "[encoded data removed]",
      "text/plain": [
       "<Figure size 432x288 with 1 Axes>"
      ]
     },
     "metadata": {
      "needs_background": "light"
     },
     "output_type": "display_data"
    }
   ],
   "source": [
    "grouped_positive = raw_data[raw_data['class'] == 1].groupby('emotion_in_tweet_is_directed_at').count()\n",
    "grouped_positive = grouped_positive.drop(columns=['tweet_text', 'is_there_an_emotion_directed_at_a_brand_or_product'])\n",
    "grouped_positive.plot(kind='bar', stacked=True)"
   ]
  },
  {
   "cell_type": "code",
   "execution_count": 24,
   "metadata": {
    "scrolled": true
   },
   "outputs": [
    {
     "data": {
      "text/plain": [
       "<matplotlib.axes._subplots.AxesSubplot at 0x18c7d75ff60>"
      ]
     },
     "execution_count": 24,
     "metadata": {},
     "output_type": "execute_result"
    },
    {
     "data": {
      "image/png": "[encoded data removed]",
      "text/plain": [
       "<Figure size 432x288 with 1 Axes>"
      ]
     },
     "metadata": {
      "needs_background": "light"
     },
     "output_type": "display_data"
    }
   ],
   "source": [
    "grouped_neutral = raw_data[raw_data['class'] == 0].groupby('emotion_in_tweet_is_directed_at').count()\n",
    "grouped_neutral = grouped_neutral.drop(columns=['tweet_text', 'is_there_an_emotion_directed_at_a_brand_or_product'])\n",
    "grouped_neutral.plot(kind='bar', stacked=True)"
   ]
  },
  {
   "cell_type": "code",
   "execution_count": 25,
   "metadata": {},
   "outputs": [
    {
     "data": {
      "text/plain": [
       " 0    0.609767\n",
       " 1    0.327541\n",
       "-1    0.062692\n",
       "Name: class, dtype: float64"
      ]
     },
     "execution_count": 25,
     "metadata": {},
     "output_type": "execute_result"
    }
   ],
   "source": [
    "raw_data['class'].value_counts(normalize=True)"
   ]
  },
  {
   "cell_type": "markdown",
   "metadata": {},
   "source": [
    "## Preprocessing"
   ]
  },
  {
   "cell_type": "markdown",
   "metadata": {},
   "source": [
    "I'm going to start a new column for processed text. The first step I am going to take is to remove handles, since they aren't actual content and shouldn't convey tone. \n",
    "\n",
    "I'm using regex to grab these as well as URLs replace them with nothing. The example below shows they have been removed!"
   ]
  },
  {
   "cell_type": "code",
   "execution_count": 26,
   "metadata": {},
   "outputs": [],
   "source": [
    "raw_data['clean_tweet'] = [re.sub(r'(http://[^\"\\s]+)|(@\\w+)', '', tweet) for tweet in raw_data['tweet_text']]"
   ]
  },
  {
   "cell_type": "code",
   "execution_count": 27,
   "metadata": {},
   "outputs": [
    {
     "name": "stdout",
     "output_type": "stream",
     "text": [
      "haha, awesomely rad iPad app by @madebymany http://bit.ly/hTdFim #hollergram #sxsw\n",
      "haha, awesomely rad iPad app by   #hollergram #sxsw\n"
     ]
    }
   ],
   "source": [
    "print(raw_data.iloc[14][0])\n",
    "print(raw_data.iloc[14][4])"
   ]
  },
  {
   "cell_type": "markdown",
   "metadata": {},
   "source": [
    "Now, I can compile a list of stopwords from NLTK so I can remove all the filler words in the text that don't actually contain any information. This will also remove punctuation for when the tweets are tokenized. "
   ]
  },
  {
   "cell_type": "code",
   "execution_count": 28,
   "metadata": {},
   "outputs": [],
   "source": [
    "stopwords_list = stopwords.words('english')\n",
    "stopwords_list += string.punctuation\n",
    "punct_list = [\"''\", '\"\"', '...', '``']\n",
    "stopwords_list += punct_list"
   ]
  },
  {
   "cell_type": "markdown",
   "metadata": {},
   "source": [
    "Before I move into modeling, I am going to take a look at what my data will contain when tokenized:"
   ]
  },
  {
   "cell_type": "code",
   "execution_count": 29,
   "metadata": {
    "scrolled": true
   },
   "outputs": [
    {
     "data": {
      "text/plain": [
       "['new',\n",
       " 'ipad',\n",
       " 'apps',\n",
       " 'speechtherapy',\n",
       " 'communication',\n",
       " 'showcased',\n",
       " 'sxsw',\n",
       " 'conference',\n",
       " 'iear',\n",
       " 'edchat',\n",
       " 'asd']"
      ]
     },
     "execution_count": 29,
     "metadata": {},
     "output_type": "execute_result"
    }
   ],
   "source": [
    "def process_tweet(tweet):\n",
    "    tokens = nltk.word_tokenize(tweet)\n",
    "    words_lower = [token.lower() for token in tokens]\n",
    "    words_stopped = [word for word in words_lower if word not in stopwords_list]\n",
    "    return words_stopped\n",
    "\n",
    "processed_data = list(map(process_tweet, raw_data['clean_tweet']))\n",
    "processed_data[5]"
   ]
  },
  {
   "cell_type": "markdown",
   "metadata": {},
   "source": [
    "In this set with stop words removed there are 10,560 unique words,and some of the most frequent are general twitter words - 'rt', 'link'. Many however are referring to products and events. The word cloud helps demonstrate the scope of the subjects of these tweets."
   ]
  },
  {
   "cell_type": "code",
   "execution_count": 30,
   "metadata": {},
   "outputs": [
    {
     "name": "stdout",
     "output_type": "stream",
     "text": [
      "10559\n"
     ]
    }
   ],
   "source": [
    "total_vocab = set()\n",
    "for token in processed_data:\n",
    "    total_vocab.update(token)\n",
    "    \n",
    "print(len(total_vocab))"
   ]
  },
  {
   "cell_type": "code",
   "execution_count": 31,
   "metadata": {},
   "outputs": [
    {
     "data": {
      "text/plain": [
       "[('sxsw', 9511),\n",
       " ('link', 4313),\n",
       " ('rt', 2960),\n",
       " ('google', 2594),\n",
       " ('ipad', 2445),\n",
       " ('apple', 2304),\n",
       " ('quot', 1696),\n",
       " ('iphone', 1529),\n",
       " ('store', 1477),\n",
       " (\"'s\", 1237),\n",
       " ('2', 1122),\n",
       " ('new', 1087),\n",
       " ('austin', 964),\n",
       " ('amp', 836),\n",
       " ('app', 817),\n",
       " ('launch', 653),\n",
       " ('circles', 651),\n",
       " ('social', 648),\n",
       " ('today', 580),\n",
       " ('android', 577),\n",
       " (\"n't\", 481),\n",
       " ('network', 465),\n",
       " ('ipad2', 459),\n",
       " ('pop-up', 420),\n",
       " ('via', 413),\n",
       " ('line', 402),\n",
       " ('free', 387),\n",
       " ('get', 386),\n",
       " ('called', 361),\n",
       " ('party', 349),\n",
       " ('sxswi', 340),\n",
       " ('mobile', 338),\n",
       " ('one', 312),\n",
       " ('major', 301),\n",
       " ('like', 291),\n",
       " ('time', 274),\n",
       " (\"'re\", 265),\n",
       " ('temporary', 264),\n",
       " ('opening', 257),\n",
       " (\"'m\", 254),\n",
       " ('possibly', 240),\n",
       " ('people', 228),\n",
       " ('apps', 225),\n",
       " ('downtown', 225),\n",
       " ('great', 222),\n",
       " ('see', 220),\n",
       " ('maps', 219),\n",
       " ('going', 218),\n",
       " ('day', 218),\n",
       " ('check', 217),\n",
       " ('mayer', 214),\n",
       " ('open', 210),\n",
       " ('popup', 209),\n",
       " ('go', 207),\n",
       " ('need', 205),\n",
       " ('marissa', 189),\n",
       " ('know', 185),\n",
       " ('got', 185),\n",
       " ('w/', 182),\n",
       " ('come', 176),\n",
       " ('win', 170),\n",
       " ('\\x89ûï', 170),\n",
       " ('good', 169),\n",
       " ('first', 166),\n",
       " ('us', 162),\n",
       " ('pop', 156),\n",
       " ('think', 154),\n",
       " ('news', 154),\n",
       " ('want', 149),\n",
       " ('music', 149),\n",
       " ('cool', 149),\n",
       " ('next', 148),\n",
       " ('love', 146),\n",
       " ('panel', 145),\n",
       " ('tech', 144),\n",
       " ('best', 144),\n",
       " ('design', 142),\n",
       " ('shop', 142),\n",
       " ('thanks', 141),\n",
       " (\"'ll\", 139),\n",
       " ('game', 136),\n",
       " ('make', 135),\n",
       " ('would', 134),\n",
       " ('awesome', 133),\n",
       " ('big', 132),\n",
       " ('search', 131),\n",
       " ('set', 128),\n",
       " ('use', 128),\n",
       " ('around', 127),\n",
       " ('video', 125),\n",
       " ('4', 124),\n",
       " ('last', 124),\n",
       " ('year', 122),\n",
       " ('talk', 122),\n",
       " ('users', 121),\n",
       " ('show', 119),\n",
       " ('anyone', 118),\n",
       " ('gt', 117),\n",
       " ('right', 116),\n",
       " ('using', 115),\n",
       " (\"'ve\", 115),\n",
       " ('says', 114),\n",
       " ('japan', 114),\n",
       " ('download', 113),\n",
       " ('--', 111),\n",
       " ('guy', 111),\n",
       " ('rumor', 111),\n",
       " ('really', 110),\n",
       " ('even', 109),\n",
       " ('launching', 108),\n",
       " ('session', 108),\n",
       " ('still', 107),\n",
       " ('coming', 103),\n",
       " ('location', 103),\n",
       " ('buy', 102),\n",
       " ('future', 102),\n",
       " ('hey', 100),\n",
       " ('congress', 100),\n",
       " ('twitter', 100),\n",
       " ('booth', 100),\n",
       " ('case', 99),\n",
       " ('u', 99),\n",
       " ('blackberry', 98),\n",
       " ('1', 98),\n",
       " ('itunes', 97),\n",
       " ('team', 97),\n",
       " ('week', 96),\n",
       " ('products', 96),\n",
       " ('heard', 95),\n",
       " ('6th', 95),\n",
       " ('digital', 94),\n",
       " ('could', 94),\n",
       " ('way', 94),\n",
       " ('bing', 94),\n",
       " ('ipads', 89),\n",
       " ('technology', 89),\n",
       " ('tonight', 88),\n",
       " ('find', 87),\n",
       " ('everyone', 87),\n",
       " ('may', 86),\n",
       " ('fun', 84),\n",
       " ('phone', 84),\n",
       " ('thing', 84),\n",
       " ('back', 84),\n",
       " ('facebook', 83),\n",
       " ('tweet', 82),\n",
       " ('look', 82),\n",
       " ('designing', 82),\n",
       " ('tv', 82),\n",
       " ('looking', 81),\n",
       " ('nice', 81),\n",
       " ('getting', 81),\n",
       " ('ca', 80),\n",
       " ('away', 80),\n",
       " ('3', 79),\n",
       " ('also', 79),\n",
       " ('many', 79),\n",
       " ('ever', 78),\n",
       " ('web', 78),\n",
       " ('wait', 76),\n",
       " ('temp', 76),\n",
       " ('let', 75),\n",
       " ('yes', 74),\n",
       " ('please', 74),\n",
       " ('long', 73),\n",
       " ('already', 73),\n",
       " ('wins', 73),\n",
       " ('5', 73),\n",
       " ('fb', 73),\n",
       " ('sxsw\\x89û\\x9d', 72),\n",
       " ('tomorrow', 72),\n",
       " ('giving', 71),\n",
       " ('interesting', 71),\n",
       " ('live', 70),\n",
       " ('ubersocial', 69),\n",
       " ('includes', 69),\n",
       " ('uberguide', 69),\n",
       " ('product', 69),\n",
       " ('looks', 68),\n",
       " ('platform', 68),\n",
       " ('interactive', 68),\n",
       " ('friends', 68),\n",
       " ('gsdm', 68),\n",
       " ('much', 68),\n",
       " ('better', 68),\n",
       " ('ready', 67),\n",
       " ('night', 67),\n",
       " ('every', 67),\n",
       " ('fast', 66),\n",
       " ('marketing', 66),\n",
       " ('take', 66),\n",
       " ('available', 66),\n",
       " ('well', 66),\n",
       " ('sure', 65),\n",
       " ('work', 65),\n",
       " ('made', 65),\n",
       " ('someone', 64),\n",
       " ('sell', 64),\n",
       " ('oh', 63),\n",
       " ('art', 63),\n",
       " ('action', 63),\n",
       " ('2011', 63),\n",
       " ('smart', 62),\n",
       " ('10', 62),\n",
       " ('others', 62),\n",
       " ('gets', 61),\n",
       " ('yet', 61),\n",
       " ('details', 61),\n",
       " ('street', 61),\n",
       " ('flipboard', 60),\n",
       " ('wow', 60),\n",
       " ('battery', 60),\n",
       " ('keep', 60),\n",
       " ('else', 59),\n",
       " ('media', 59),\n",
       " ('two', 59),\n",
       " ('lt', 58),\n",
       " ('winning', 58),\n",
       " ('room', 58),\n",
       " ('meet', 57),\n",
       " ('post', 57),\n",
       " ('relief', 57),\n",
       " ('hotpot', 57),\n",
       " ('help', 56),\n",
       " ('laptop', 56),\n",
       " ('white', 56),\n",
       " ('saw', 56),\n",
       " ('updates', 55),\n",
       " ('join', 55),\n",
       " ('seen', 55),\n",
       " ('give', 55),\n",
       " ('world', 55),\n",
       " ('might', 55),\n",
       " ('geek', 55),\n",
       " ('na', 54),\n",
       " ('photos', 54),\n",
       " ('tapworthy', 54),\n",
       " ('comes', 53),\n",
       " ('far', 53),\n",
       " ('connect', 53),\n",
       " ('service', 53),\n",
       " ('waiting', 53),\n",
       " ('data', 53),\n",
       " ('begins', 53),\n",
       " ('days', 52),\n",
       " ('q', 52),\n",
       " ('stop', 52),\n",
       " ('left', 52),\n",
       " ('heading', 52),\n",
       " ('say', 52),\n",
       " ('cc', 52),\n",
       " ('sampler', 52),\n",
       " ('hope', 51),\n",
       " ('person', 51),\n",
       " ('navigation', 51),\n",
       " ('working', 51),\n",
       " ('40', 51),\n",
       " ('codes', 51),\n",
       " ('foursquare', 50),\n",
       " ('events', 50),\n",
       " ('event', 50),\n",
       " ('sponsored', 50),\n",
       " ('physical', 50),\n",
       " ('another', 50),\n",
       " ('content', 50),\n",
       " ('guide', 50),\n",
       " ('taking', 50),\n",
       " ('making', 50),\n",
       " ('photo', 49),\n",
       " ('lot', 49),\n",
       " ('info', 49),\n",
       " ('block', 49),\n",
       " ('presentation', 49),\n",
       " ('gave', 49),\n",
       " ('qagb', 49),\n",
       " ('map', 48),\n",
       " ('release', 48),\n",
       " ('core', 48),\n",
       " ('money', 48),\n",
       " ('valid', 48),\n",
       " ('infektd', 48),\n",
       " ('mashable', 47),\n",
       " ('follow', 47),\n",
       " ('convention', 47),\n",
       " ('demo', 47),\n",
       " ('attendees', 47),\n",
       " ('charger', 47),\n",
       " ('front', 47),\n",
       " ('hootsuite', 46),\n",
       " ('sold', 46),\n",
       " (\"'d\", 46),\n",
       " ('building', 46),\n",
       " ('wonder', 45),\n",
       " ('happy', 45),\n",
       " ('business', 45),\n",
       " ('hours', 45),\n",
       " ('texas', 45),\n",
       " ('something', 45),\n",
       " ('excited', 44),\n",
       " ('morning', 44),\n",
       " ('saving', 44),\n",
       " ('parties', 43),\n",
       " ('weekend', 43),\n",
       " ('company', 43),\n",
       " ('amazing', 43),\n",
       " ('guys', 43),\n",
       " ('takes', 42),\n",
       " ('makes', 42),\n",
       " ('trying', 42),\n",
       " ('used', 42),\n",
       " ('share', 42),\n",
       " ('outside', 42),\n",
       " ('plenty', 42),\n",
       " ('life', 42),\n",
       " ('gowalla', 41),\n",
       " ('worlds', 41),\n",
       " ('1st', 41),\n",
       " ('pic', 41),\n",
       " ('traffic', 41),\n",
       " ('center', 41),\n",
       " ('cnn', 41),\n",
       " ('tell', 41),\n",
       " ('without', 41),\n",
       " ('idea', 40),\n",
       " ('must', 40),\n",
       " ('opens', 40),\n",
       " ('cont', 40),\n",
       " ('uxdes', 40),\n",
       " ('playing', 40),\n",
       " ('vs', 40),\n",
       " ('found', 40),\n",
       " ('screen', 40),\n",
       " ('years', 40),\n",
       " ('things', 40),\n",
       " ('showing', 40),\n",
       " ('featured', 40),\n",
       " ('edchat', 39),\n",
       " ('website', 39),\n",
       " ('talking', 39),\n",
       " ('food', 39),\n",
       " ('stores', 39),\n",
       " ('launched', 39),\n",
       " ('million', 39),\n",
       " ('crowd', 39),\n",
       " ('watch', 39),\n",
       " ('hear', 39),\n",
       " ('interfaces', 39),\n",
       " ('instead', 39),\n",
       " ('bring', 39),\n",
       " ('launches', 38),\n",
       " ('blog', 38),\n",
       " ('industry', 38),\n",
       " ('buzz', 38),\n",
       " ('lines', 38),\n",
       " ('wish', 38),\n",
       " ('true', 38),\n",
       " ('lol', 38),\n",
       " ('full', 38),\n",
       " ('ranking', 38),\n",
       " ('usage', 38),\n",
       " ('fail', 37),\n",
       " ('group', 37),\n",
       " ('version', 37),\n",
       " ('experience', 37),\n",
       " ('lost', 37),\n",
       " ('ios', 37),\n",
       " ('preview', 37),\n",
       " ('daily', 37),\n",
       " ('artists', 37),\n",
       " ('stuff', 36),\n",
       " ('bought', 36),\n",
       " ('probably', 36),\n",
       " ('ppl', 36),\n",
       " ('musedchat', 36),\n",
       " ('nerds', 36),\n",
       " ('experts', 36),\n",
       " ('places', 36),\n",
       " ('place', 36),\n",
       " ('wifi', 36),\n",
       " ('man', 36),\n",
       " ('pretty', 36),\n",
       " ('conferences', 36),\n",
       " ('bad', 36),\n",
       " ('hot', 36),\n",
       " ('able', 36),\n",
       " ('developers', 36),\n",
       " ('rock', 35),\n",
       " ('update', 35),\n",
       " ('home', 35),\n",
       " ('play', 35),\n",
       " ('\\x89÷_', 35),\n",
       " ('newtwitter', 35),\n",
       " ('needs', 35),\n",
       " ('mac', 35),\n",
       " ('schools', 35),\n",
       " ('seo', 35),\n",
       " ('diller', 35),\n",
       " ('folks', 35),\n",
       " ('giveaway', 35),\n",
       " ('phones', 35),\n",
       " ('brilliant', 35),\n",
       " ('march', 35),\n",
       " ('meetup', 35),\n",
       " ('friday', 35),\n",
       " ('never', 35),\n",
       " ('feel', 35),\n",
       " ('starting', 34),\n",
       " ('old', 34),\n",
       " ('access', 34),\n",
       " ('put', 34),\n",
       " ('power', 34),\n",
       " ('site', 34),\n",
       " ('real', 34),\n",
       " ('listening', 34),\n",
       " ('huge', 34),\n",
       " ('code', 34),\n",
       " ('microsoft', 34),\n",
       " ('user', 34),\n",
       " ('checking', 34),\n",
       " ('conference', 33),\n",
       " ('hour', 33),\n",
       " ('forward', 33),\n",
       " ('\\x89÷¼', 33),\n",
       " ('classical', 33),\n",
       " ('pics', 33),\n",
       " ('thank', 33),\n",
       " ('book', 33),\n",
       " ('brain', 33),\n",
       " ('everything', 33),\n",
       " ('tweets', 33),\n",
       " ('2s', 33),\n",
       " ('hand', 33),\n",
       " ('built', 33),\n",
       " ('sets', 33),\n",
       " ('setting', 33),\n",
       " ('hilton', 33),\n",
       " ('seems', 33),\n",
       " ('call', 33),\n",
       " ('socialmedia', 33),\n",
       " ('sign', 33),\n",
       " ('said', 33),\n",
       " ('festival', 32),\n",
       " ('hollergram', 32),\n",
       " ('local', 32),\n",
       " ('selling', 32),\n",
       " ('ballroom', 32),\n",
       " ('trade', 32),\n",
       " ('everywhere', 32),\n",
       " ('rewards', 32),\n",
       " ('maybe', 32),\n",
       " ('walking', 32),\n",
       " ('dev', 32),\n",
       " ('view', 32),\n",
       " ('late', 31),\n",
       " ('attending', 31),\n",
       " ('headaches', 31),\n",
       " ('report', 31),\n",
       " ('touchingstories', 31),\n",
       " ('read', 31),\n",
       " ('w', 31),\n",
       " ('lots', 31),\n",
       " ('devices', 31),\n",
       " ('newsapps', 31),\n",
       " ('boomers', 31),\n",
       " ('camera', 31),\n",
       " ('3g', 30),\n",
       " ('sale', 30),\n",
       " ('start', 30),\n",
       " ('checkins', 30),\n",
       " ('south', 30),\n",
       " ('queue', 30),\n",
       " ('strategy', 30),\n",
       " ('7', 30),\n",
       " ('forget', 30),\n",
       " ('updated', 30),\n",
       " ('analytics', 30),\n",
       " ('official', 30),\n",
       " ('market', 30),\n",
       " ('head', 30),\n",
       " ('including', 30),\n",
       " ('mom', 30),\n",
       " ('seeing', 29),\n",
       " ('location-based', 29),\n",
       " ('times', 29),\n",
       " ('behind', 29),\n",
       " ('lounge', 29),\n",
       " ('crazy', 29),\n",
       " ('macbook', 29),\n",
       " ('startups', 29),\n",
       " ('brand', 29),\n",
       " ('since', 29),\n",
       " ('dude', 29),\n",
       " ('soon', 29),\n",
       " ('tablet', 29),\n",
       " ('top', 28),\n",
       " ('\\x89ã_', 28),\n",
       " ('town', 28),\n",
       " ('card', 28),\n",
       " ('security', 28),\n",
       " ('genius', 28),\n",
       " ('wants', 28),\n",
       " ('schedule', 28),\n",
       " ('scheduled', 28),\n",
       " ('gon', 28),\n",
       " ('contextual', 28),\n",
       " ('nothing', 28),\n",
       " ('route', 28),\n",
       " ('choice', 28),\n",
       " ('bar', 28),\n",
       " ('marissagoogle', 28),\n",
       " ('discovery', 27),\n",
       " ('chance', 27),\n",
       " ('internet', 27),\n",
       " ('actually', 27),\n",
       " ('based', 27),\n",
       " ('space', 27),\n",
       " ('atx', 27),\n",
       " ('turn', 27),\n",
       " ('house', 27),\n",
       " ('aclu', 27),\n",
       " ('developer', 27),\n",
       " ('tablets', 27),\n",
       " ('packed', 27),\n",
       " ('tx', 27),\n",
       " ('living', 27),\n",
       " ('schemas', 27),\n",
       " ('thought', 27),\n",
       " ('interview', 27),\n",
       " ('wo', 27),\n",
       " ('enter', 27),\n",
       " ('belinsky', 26),\n",
       " ('wan', 26),\n",
       " ('bands', 26),\n",
       " ('yesterday', 26),\n",
       " ('enchantment', 26),\n",
       " ('lp', 26),\n",
       " ('150', 26),\n",
       " ('keynote', 26),\n",
       " ('sweet', 26),\n",
       " ('juice', 26),\n",
       " ('track', 26),\n",
       " ('america', 26),\n",
       " ('anything', 26),\n",
       " ('interrupt', 26),\n",
       " ('programming', 26),\n",
       " ('red', 26),\n",
       " ('try', 26),\n",
       " ('windows', 26),\n",
       " ('//', 26),\n",
       " ('congrats', 26),\n",
       " ('tweeting', 25),\n",
       " ('started', 25),\n",
       " ('job', 25),\n",
       " ('zazzlesxsw', 25),\n",
       " ('earthquake', 25),\n",
       " ('cnet', 25),\n",
       " ('funny', 25),\n",
       " ('beta', 25),\n",
       " ('city', 25),\n",
       " ('etc', 25),\n",
       " ('retail', 25),\n",
       " ('special', 25),\n",
       " ('verizon', 25),\n",
       " ('standing', 25),\n",
       " ('regularly', 25),\n",
       " ('apparently', 25),\n",
       " ('maggie', 25),\n",
       " ('device', 25),\n",
       " ('always', 25),\n",
       " ('information', 25),\n",
       " ('important', 25),\n",
       " ('ask', 25),\n",
       " ('drink', 24),\n",
       " ('check-in', 24),\n",
       " ('gsd', 24),\n",
       " ('opened', 24),\n",
       " ('grab', 24),\n",
       " ('per', 24),\n",
       " ('catch', 24),\n",
       " ('pm', 24),\n",
       " ('early', 24),\n",
       " ('nfc', 24),\n",
       " ('sharing', 24),\n",
       " ('results', 24),\n",
       " ('stream', 24),\n",
       " ('list', 24),\n",
       " ('privacy', 24),\n",
       " ('6', 24),\n",
       " ('almost', 24),\n",
       " ('move', 24),\n",
       " ('tip', 24),\n",
       " ('watching', 24),\n",
       " ('project', 24),\n",
       " ('stock', 23),\n",
       " ('haha', 23),\n",
       " ('register', 23),\n",
       " ('stay', 23),\n",
       " ('h4ckers', 23),\n",
       " ('ok', 23),\n",
       " ('ux', 23),\n",
       " ('audience', 23),\n",
       " ('/via', 23),\n",
       " ('barry', 23),\n",
       " ('went', 23),\n",
       " ('hit', 23),\n",
       " ('took', 23),\n",
       " ('buying', 23),\n",
       " ('miss', 23),\n",
       " ('guess', 23),\n",
       " ('attend', 23),\n",
       " ('notes', 23),\n",
       " ('r', 23),\n",
       " ('features', 23),\n",
       " ('searches', 23),\n",
       " ('little', 23),\n",
       " ('charge', 23),\n",
       " ('awards', 23),\n",
       " ('page', 23),\n",
       " ('20', 23),\n",
       " ('geeks', 23),\n",
       " ('killer', 23),\n",
       " ('end', 23),\n",
       " ('cases', 22),\n",
       " ('god', 22),\n",
       " ('mark', 22),\n",
       " ('911tweets', 22),\n",
       " ('kawasaki', 22),\n",
       " ('droid', 22),\n",
       " ('enjoy', 22),\n",
       " ('minutes', 22),\n",
       " ('least', 22),\n",
       " ('samsung', 22),\n",
       " ('learn', 22),\n",
       " ('goes', 22),\n",
       " ('doodles', 22),\n",
       " ('beyond', 22),\n",
       " ('shot', 22),\n",
       " ('hall', 22),\n",
       " ('league', 22),\n",
       " ('jealous', 22),\n",
       " ('finally', 22),\n",
       " ('pack', 22),\n",
       " ('visit', 22),\n",
       " ('plus', 21),\n",
       " ('holler', 21),\n",
       " ('gram', 21),\n",
       " ('done', 21),\n",
       " ('speak.', 21),\n",
       " ('talks', 21),\n",
       " ('point', 21),\n",
       " ('except', 21),\n",
       " ('picture', 21),\n",
       " ('less', 21),\n",
       " ('course', 21),\n",
       " ('picked', 21),\n",
       " ('dj', 21),\n",
       " ('song', 21),\n",
       " ('saves', 21),\n",
       " ('sitting', 21),\n",
       " ('2.', 21),\n",
       " ('send', 21),\n",
       " ('later', 21),\n",
       " ('netflix', 21),\n",
       " ('extraordinary', 21),\n",
       " ('tracks', 21),\n",
       " ('ride', 21),\n",
       " ('tattoo', 21),\n",
       " ('released', 21),\n",
       " ('v', 21),\n",
       " ('hard', 21),\n",
       " ('\\x89ûó', 21),\n",
       " ('communication', 20),\n",
       " ('showcased', 20),\n",
       " ('groupon', 20),\n",
       " ('speech', 20),\n",
       " ('month', 20),\n",
       " ('wondering', 20),\n",
       " ('pick', 20),\n",
       " ('pay', 20),\n",
       " ('ad', 20),\n",
       " ('rumored', 20),\n",
       " ('development', 20),\n",
       " ('\\x89ûò', 20),\n",
       " ('stupid', 20),\n",
       " ('heads', 20),\n",
       " ('enough', 20),\n",
       " ('question', 20),\n",
       " ('exhibit', 20),\n",
       " ('speak', 20),\n",
       " ('drinks', 20),\n",
       " ('charging', 20),\n",
       " ('air', 20),\n",
       " ('latest', 20),\n",
       " ('fight', 20),\n",
       " ('80s', 20),\n",
       " ('cab', 20),\n",
       " ('mike', 20),\n",
       " ('flight', 20),\n",
       " ('useful', 20),\n",
       " ('online', 20),\n",
       " ('tyson', 20),\n",
       " ('tim', 19),\n",
       " ('fan', 19),\n",
       " ('calendar', 19),\n",
       " ('review', 19),\n",
       " ('enjoying', 19),\n",
       " ('flash', 19),\n",
       " ('blogger', 19),\n",
       " ('x', 19),\n",
       " ('film', 19),\n",
       " ('tools', 19),\n",
       " ('ur', 19),\n",
       " ('credit', 19),\n",
       " ('southwest', 19),\n",
       " ('busy', 19),\n",
       " ('believe', 19),\n",
       " ('sounds', 19),\n",
       " ('missed', 19),\n",
       " ('rumors', 19),\n",
       " ('near', 19),\n",
       " ('control', 19),\n",
       " ('games', 19),\n",
       " ('html5', 19),\n",
       " ('companies', 19),\n",
       " ('success', 19),\n",
       " ('hello', 19),\n",
       " ('across', 19),\n",
       " ('acc', 19),\n",
       " ('thinks', 19),\n",
       " ('bigger', 19),\n",
       " ('anywhere', 19),\n",
       " ('interface', 19),\n",
       " ('employees', 19),\n",
       " ('super', 19),\n",
       " ('rankings', 19),\n",
       " ('magazines', 19),\n",
       " ('b', 19),\n",
       " ('story', 19),\n",
       " ('consider', 19),\n",
       " ('peeps', 19),\n",
       " ('reality', 19),\n",
       " ('asked', 19),\n",
       " ('reading', 19),\n",
       " ('hands', 19),\n",
       " ('dead', 18),\n",
       " ('means', 18),\n",
       " ('running', 18),\n",
       " ('ta', 18),\n",
       " ('added', 18),\n",
       " ('friend', 18),\n",
       " ('pnid', 18),\n",
       " ('easy', 18),\n",
       " ('sxswh', 18),\n",
       " ('saved', 18),\n",
       " ('together', 18),\n",
       " ('worth', 18),\n",
       " ('travel', 18),\n",
       " ('blocks', 18),\n",
       " ('cards', 18),\n",
       " ('miles', 18),\n",
       " ('5pm', 18),\n",
       " ('holding', 18),\n",
       " ('run', 18),\n",
       " ('test', 18),\n",
       " ('bringing', 18),\n",
       " ('engine', 18),\n",
       " ('past', 18),\n",
       " ('create', 18),\n",
       " ('ipod', 18),\n",
       " ('works', 18),\n",
       " ('cloud', 18),\n",
       " ('mistakes', 18),\n",
       " ('trip', 18),\n",
       " ('feature', 18),\n",
       " ('value', 17),\n",
       " ('name', 17),\n",
       " ('hipsters', 17),\n",
       " ('part', 17),\n",
       " ('learning', 17),\n",
       " ('spent', 17),\n",
       " ('plan', 17),\n",
       " ('mophie', 17),\n",
       " ('shows', 17),\n",
       " ('..', 17),\n",
       " ('sales', 17),\n",
       " ('surprise', 17),\n",
       " ('ago', 17),\n",
       " ('deal', 17),\n",
       " ('secret', 17),\n",
       " ('offers', 17),\n",
       " ('source', 17),\n",
       " ('owners', 17),\n",
       " ('coffee', 17),\n",
       " ('bet', 17),\n",
       " ('vp', 17),\n",
       " ('different', 17),\n",
       " ('stories', 17),\n",
       " ('browser', 17),\n",
       " ('favorite', 17),\n",
       " ('killing', 17),\n",
       " ('crowley', 17),\n",
       " ('11', 16),\n",
       " ('gadgets', 16),\n",
       " ('earth', 16),\n",
       " ('black', 16),\n",
       " ('band', 16),\n",
       " ('15', 16),\n",
       " ('hi', 16),\n",
       " ('airport', 16),\n",
       " ('improve', 16),\n",
       " ('giant', 16),\n",
       " ('social-type', 16),\n",
       " ('1pm', 16),\n",
       " ('among', 16),\n",
       " ('article', 16),\n",
       " ('20+', 16),\n",
       " ('groundlink', 16),\n",
       " ('437', 16),\n",
       " ('4sq', 16),\n",
       " ('bit', 16),\n",
       " ('vip', 16),\n",
       " ('mae', 16),\n",
       " ('omg', 16),\n",
       " ('1986', 16),\n",
       " ('30', 16),\n",
       " ('saying', 16),\n",
       " ('totally', 16),\n",
       " ('light', 16),\n",
       " ('small', 16),\n",
       " ('startupbus', 16),\n",
       " ('afford', 16),\n",
       " ('therapy', 16),\n",
       " ('tool', 16),\n",
       " ('bag', 16),\n",
       " ('podcast', 16),\n",
       " ('whole', 16),\n",
       " ('3d', 16),\n",
       " ('4:00-7:59:59p', 16),\n",
       " ('bbq', 16),\n",
       " ('floor', 16),\n",
       " ('zlf', 16),\n",
       " ('drive', 16),\n",
       " ('fascist', 16),\n",
       " ('blue', 16),\n",
       " ('thinking', 16),\n",
       " ('recommendations', 16),\n",
       " ('leave', 15),\n",
       " ('ha', 15),\n",
       " ('publishing', 15),\n",
       " ('agree', 15),\n",
       " ('album', 15),\n",
       " ('fans', 15),\n",
       " ('bettersearch', 15),\n",
       " ('support', 15),\n",
       " ('headed', 15),\n",
       " ('hotel', 15),\n",
       " ('model', 15),\n",
       " ('biggest', 15),\n",
       " ('came', 15),\n",
       " ('chrome', 15),\n",
       " ('announces', 15),\n",
       " ('chat', 15),\n",
       " ('technews', 15),\n",
       " ('circle', 15),\n",
       " ('12:30pm', 15),\n",
       " ('plane', 15),\n",
       " ('badge', 15),\n",
       " ('yelp', 15),\n",
       " ('100', 15),\n",
       " ('yeah', 15),\n",
       " ('present', 15),\n",
       " ('hackers', 15),\n",
       " ('leaving', 15),\n",
       " ('walked', 15),\n",
       " ('plans', 15),\n",
       " ('pc', 15),\n",
       " ('glad', 15),\n",
       " ('fam', 15),\n",
       " ('interested', 15),\n",
       " ('augmented', 15),\n",
       " ('google/bing', 15),\n",
       " ('12:00-3:59:59p', 15),\n",
       " ('loving', 15),\n",
       " ('biz', 15),\n",
       " ('exclusive', 15),\n",
       " ('sxflip', 15),\n",
       " ('tried', 15),\n",
       " ('survive', 15),\n",
       " ('original', 15),\n",
       " ('kid', 15),\n",
       " ('car', 15),\n",
       " ('4g', 15),\n",
       " ('kind', 15),\n",
       " ('dear', 15),\n",
       " ('pearl', 15),\n",
       " ('double', 15),\n",
       " ('chris', 15),\n",
       " ('lonely', 15),\n",
       " ('uses', 15),\n",
       " ('sessions', 15),\n",
       " ('push', 14),\n",
       " ('concept', 14),\n",
       " ('knows', 14),\n",
       " ('stand', 14),\n",
       " ('ice', 14),\n",
       " ('cream', 14),\n",
       " ('weird', 14),\n",
       " ('contact', 14),\n",
       " ('mention', 14),\n",
       " ('mind', 14),\n",
       " ('hmm', 14),\n",
       " ('bizzy', 14),\n",
       " ('hp', 14),\n",
       " ('testing', 14),\n",
       " ('change', 14),\n",
       " ('lunch', 14),\n",
       " ('ipad2s', 14),\n",
       " ('2nd', 14),\n",
       " ('longer', 14),\n",
       " ('sixth', 14),\n",
       " ('inside', 14),\n",
       " ('random', 14),\n",
       " ('salon', 14),\n",
       " ('tech_news', 14),\n",
       " ('arrived', 14),\n",
       " ('computer', 14),\n",
       " ('80', 14),\n",
       " ('qr', 14),\n",
       " ('lego', 14),\n",
       " ('met', 14),\n",
       " ('networking', 14),\n",
       " ('vs.', 14),\n",
       " ('pro', 14),\n",
       " ('customer', 14),\n",
       " ('3:30', 14),\n",
       " ('mon', 14),\n",
       " ('explorer', 14),\n",
       " ('public', 14),\n",
       " ('touch', 14),\n",
       " ('word', 14),\n",
       " ('connected', 14),\n",
       " ('door', 14),\n",
       " ('n', 14),\n",
       " ('meeting', 14),\n",
       " ('care', 14),\n",
       " ('though', 14),\n",
       " ('finding', 14),\n",
       " ('yep', 14),\n",
       " ('japanese', 14),\n",
       " ('quake', 14),\n",
       " ('expect', 14),\n",
       " ('brought', 14),\n",
       " ('starts', 14),\n",
       " ('welcome', 14),\n",
       " ('9', 14),\n",
       " ('steve', 14),\n",
       " ('planet', 14),\n",
       " ('startup', 14),\n",
       " ('confirmed', 14),\n",
       " ('24/7', 14),\n",
       " ('appears', 14),\n",
       " ('abt', 14),\n",
       " ('streaming', 14),\n",
       " ('upgrade', 13),\n",
       " ('likely', 13),\n",
       " ('corner', 13),\n",
       " ('til', 13),\n",
       " ('alarm', 13),\n",
       " ('putting', 13),\n",
       " ('midnight', 13),\n",
       " ('mine', 13),\n",
       " ('focus', 13),\n",
       " ('64gig', 13),\n",
       " ('limited', 13),\n",
       " ('tradeshow', 13),\n",
       " ('70', 13),\n",
       " ('questions', 13),\n",
       " ('issue', 13),\n",
       " ('missing', 13),\n",
       " ('shit', 13),\n",
       " ('sat', 13),\n",
       " ('hoot', 13),\n",
       " ('lose', 13),\n",
       " ('dont', 13),\n",
       " ('hold', 13),\n",
       " ('lucky', 13),\n",
       " ('sxsw2011', 13),\n",
       " ('hashable', 13),\n",
       " ('techcrunch', 13),\n",
       " ('disc', 13),\n",
       " ('speakeasy', 13),\n",
       " ('coverage', 13),\n",
       " ('valuable', 13),\n",
       " ('gearing', 13),\n",
       " ('officially', 13),\n",
       " ('spending', 13),\n",
       " ('doodle', 13),\n",
       " ('disaster', 13),\n",
       " ('hanging', 13),\n",
       " ('dancing', 13),\n",
       " ...]"
      ]
     },
     "execution_count": 31,
     "metadata": {},
     "output_type": "execute_result"
    }
   ],
   "source": [
    "tweet_concat = []\n",
    "for tweet in processed_data:\n",
    "    tweet_concat += tweet\n",
    "    \n",
    "tweet_freqdist = FreqDist(tweet_concat)\n",
    "tweet_freqdist.most_common(2000)"
   ]
  },
  {
   "cell_type": "code",
   "execution_count": 32,
   "metadata": {
    "scrolled": true
   },
   "outputs": [
    {
     "data": {
      "image/png": "[encoded data removed]",
      "text/plain": [
       "<Figure size 576x576 with 1 Axes>"
      ]
     },
     "metadata": {
      "needs_background": "light"
     },
     "output_type": "display_data"
    }
   ],
   "source": [
    "wc = WordCloud(background_color=\"white\", max_words=2000)\n",
    "wc.generate_from_frequencies(tweet_freqdist)\n",
    "\n",
    "plt.figure(figsize=(8,8))\n",
    "plt.imshow(wc, interpolation='bilinear')\n",
    "plt.axis(\"off\")\n",
    "plt.margins(x=1, y=1)\n",
    "plt.show()"
   ]
  },
  {
   "cell_type": "code",
   "execution_count": 33,
   "metadata": {},
   "outputs": [],
   "source": [
    "#lemmatization\n",
    "\n",
    "# import spaCy's language model \n",
    "# nlp = spacy.load('en', disable=['parser', 'ner'])\n",
    "\n",
    "# # function to lemmatize text\n",
    "# def lemmatization(texts):\n",
    "#     output = []\n",
    "#     for i in texts:\n",
    "#         s = [token.lemma_ for token in nlp(i)]\n",
    "#         output.append(' '.join(s))\n",
    "#     return output"
   ]
  },
  {
   "cell_type": "markdown",
   "metadata": {},
   "source": [
    "## Modeling with Classifiers\n",
    "\n",
    "Now that I have a thorough understanding of the data, I'm going to test out different classifiers to see how effective they are. I'll start with Multinomial Naive Bayes as my baseline model, as this is commonly used for NLP."
   ]
  },
  {
   "cell_type": "markdown",
   "metadata": {},
   "source": [
    "### Baseline Model: Multinomial Naive Bayes with Count Vectorizer\n",
    "\n",
    "I'll also use a count vectorizer with this baseline model since it's one of the more simple techniques. Count Vectorizer converts text into a vector based on the count of each word occuring in the text. \n",
    "\n",
    "I'll pull in my cleaned text that I defined above and fit to train and test variables. "
   ]
  },
  {
   "cell_type": "code",
   "execution_count": 34,
   "metadata": {},
   "outputs": [],
   "source": [
    "X = raw_data['clean_tweet']\n",
    "y = raw_data['class']\n",
    "\n",
    "X_train, X_test, y_train, y_test = train_test_split(X, y, random_state=10)"
   ]
  },
  {
   "cell_type": "code",
   "execution_count": 35,
   "metadata": {},
   "outputs": [],
   "source": [
    "count_vectorizer = CountVectorizer(stop_words=stopwords_list)\n",
    "\n",
    "X_train_count = count_vectorizer.fit_transform(X_train)\n",
    "X_test_count = count_vectorizer.transform(X_test)"
   ]
  },
  {
   "cell_type": "markdown",
   "metadata": {},
   "source": [
    "Now I'll instantiate the classifier and fit it to the vectorized variables. I am defining a function to easily return the score of the classifier as well as a confusion matrix so I can compare performance of different models. "
   ]
  },
  {
   "cell_type": "code",
   "execution_count": 36,
   "metadata": {},
   "outputs": [
    {
     "data": {
      "text/plain": [
       "MultinomialNB()"
      ]
     },
     "execution_count": 36,
     "metadata": {},
     "output_type": "execute_result"
    }
   ],
   "source": [
    "nb_classifier = MultinomialNB()\n",
    "\n",
    "nb_classifier.fit(X_train_count, y_train)"
   ]
  },
  {
   "cell_type": "code",
   "execution_count": 37,
   "metadata": {},
   "outputs": [],
   "source": [
    "def score(clf, X_train, y_train, X_test, y_test):\n",
    "    train_preds = clf.predict(X_train)\n",
    "    test_preds = clf.predict(X_test)\n",
    "    train_score = accuracy_score(y_train, train_preds)\n",
    "    test_score = accuracy_score(y_test, test_preds)\n",
    "    print('test accuracy score =', test_score, \n",
    "          'train accuracy score =', train_score)\n",
    "    plot_confusion_matrix(clf, X_test, y_test)"
   ]
  },
  {
   "cell_type": "code",
   "execution_count": 38,
   "metadata": {
    "scrolled": true
   },
   "outputs": [
    {
     "name": "stdout",
     "output_type": "stream",
     "text": [
      "test accuracy score = 0.691597008358997 train accuracy score = 0.825780906291245\n"
     ]
    },
    {
     "data": {
      "image/png": "[encoded data removed]",
      "text/plain": [
       "<Figure size 432x288 with 2 Axes>"
      ]
     },
     "metadata": {
      "needs_background": "light"
     },
     "output_type": "display_data"
    }
   ],
   "source": [
    "score(nb_classifier, X_train_count, y_train, X_test_count, y_test)"
   ]
  },
  {
   "cell_type": "markdown",
   "metadata": {},
   "source": [
    "My first model is quite overfit, and it may be having trouble learning because the classes are so imbalanced. The next thing I'm going to try is changing to a TF-IDF vectorizer, which penalizes words that show up more frequently. This could help the model value words like sxsw, google, and apple less, and instead actually look for words that indicate sentiment."
   ]
  },
  {
   "cell_type": "markdown",
   "metadata": {},
   "source": [
    "### MNB with TF-IDF"
   ]
  },
  {
   "cell_type": "markdown",
   "metadata": {},
   "source": [
    "As a starting point, I'm setting the TF-IDF vectorizer to ignore terms that appear in more than 90% of the tweets. Now I can see that more unique words, like 'giveaway' are rising to the top."
   ]
  },
  {
   "cell_type": "code",
   "execution_count": 39,
   "metadata": {},
   "outputs": [],
   "source": [
    "tfidf = TfidfVectorizer(stop_words=stopwords_list, \n",
    "                        max_df = .90, \n",
    "                        use_idf=True)\n",
    "\n",
    "tfidf_train = tfidf.fit_transform(X_train)\n",
    "tfidf_test = tfidf.transform(X_test)"
   ]
  },
  {
   "cell_type": "code",
   "execution_count": 40,
   "metadata": {},
   "outputs": [],
   "source": [
    "tfidf_test_df = pd.DataFrame(tfidf_test.toarray(), columns=tfidf.get_feature_names())"
   ]
  },
  {
   "cell_type": "code",
   "execution_count": 41,
   "metadata": {
    "scrolled": true
   },
   "outputs": [
    {
     "name": "stdout",
     "output_type": "stream",
     "text": [
      "giveaway    0.532406\n",
      "blog        0.532406\n",
      "post        0.491634\n",
      "ipad2       0.325260\n",
      "new         0.254513\n",
      "link        0.144263\n",
      "Name: 5, dtype: float64\n"
     ]
    }
   ],
   "source": [
    "# Grabbing that row once it's been vectorized\n",
    "test_doc = tfidf_test_df.iloc[5]\n",
    "\n",
    "print(test_doc.loc[test_doc > 0].sort_values(ascending=False)) # Showing values > 0"
   ]
  },
  {
   "cell_type": "code",
   "execution_count": 42,
   "metadata": {},
   "outputs": [
    {
     "data": {
      "text/plain": [
       "MultinomialNB()"
      ]
     },
     "execution_count": 42,
     "metadata": {},
     "output_type": "execute_result"
    }
   ],
   "source": [
    "nb_tfidf = MultinomialNB()\n",
    "\n",
    "nb_tfidf.fit(tfidf_train, y_train)"
   ]
  },
  {
   "cell_type": "code",
   "execution_count": 43,
   "metadata": {
    "scrolled": false
   },
   "outputs": [
    {
     "name": "stdout",
     "output_type": "stream",
     "text": [
      "test accuracy score = 0.6709194896612406 train accuracy score = 0.7537762135210442\n"
     ]
    },
    {
     "data": {
      "image/png": "[encoded data removed]",
      "text/plain": [
       "<Figure size 432x288 with 2 Axes>"
      ]
     },
     "metadata": {
      "needs_background": "light"
     },
     "output_type": "display_data"
    }
   ],
   "source": [
    "score(nb_tfidf, tfidf_train, y_train, tfidf_test, y_test)"
   ]
  },
  {
   "cell_type": "markdown",
   "metadata": {},
   "source": [
    "This model is less overfit, and it seems to be learning some patterns, but it's still not good. It only correctly predicted one negative. The test score actually went down as well, so I'm going to try another type of classifier."
   ]
  },
  {
   "cell_type": "markdown",
   "metadata": {},
   "source": [
    "### Complement Naive Bayes\n",
    "\n",
    "Complement Naive Bayes is similar to MNB, but is adapted to suit imbalanced data sets as it uses the complement of each class to compute the model’s weights. According to SciKit learn documentation, CNB regularly outperforms MNB on text classification tasks.\n"
   ]
  },
  {
   "cell_type": "code",
   "execution_count": 44,
   "metadata": {},
   "outputs": [
    {
     "data": {
      "text/plain": [
       "ComplementNB()"
      ]
     },
     "execution_count": 44,
     "metadata": {},
     "output_type": "execute_result"
    }
   ],
   "source": [
    "cnb = ComplementNB()\n",
    "cnb.fit(tfidf_train, y_train)"
   ]
  },
  {
   "cell_type": "code",
   "execution_count": 45,
   "metadata": {
    "scrolled": true
   },
   "outputs": [
    {
     "name": "stdout",
     "output_type": "stream",
     "text": [
      "test accuracy score = 0.6836779586449626 train accuracy score = 0.8279806423229212\n"
     ]
    },
    {
     "data": {
      "image/png": "[encoded data removed]",
      "text/plain": [
       "<Figure size 432x288 with 2 Axes>"
      ]
     },
     "metadata": {
      "needs_background": "light"
     },
     "output_type": "display_data"
    }
   ],
   "source": [
    "score(cnb, tfidf_train, y_train, tfidf_test, y_test)"
   ]
  },
  {
   "cell_type": "markdown",
   "metadata": {},
   "source": [
    "CNB barely increased the test score, but made the model even more overfit! I'm going to try something different."
   ]
  },
  {
   "cell_type": "markdown",
   "metadata": {},
   "source": [
    "### Support Vector Machines\n",
    "\n",
    "SVMs are said to help reduce overfitting, and SVC has a regularization parameter C which can be tuned. There are also different kernel types that can be applied. \n",
    "\n",
    "After exploring different values for C, I am able to reduce overfitting, which is a strength of using this model type. "
   ]
  },
  {
   "cell_type": "code",
   "execution_count": 46,
   "metadata": {},
   "outputs": [
    {
     "name": "stdout",
     "output_type": "stream",
     "text": [
      "test accuracy score = 0.7061152661680599 train accuracy score = 0.838539375274967\n"
     ]
    },
    {
     "data": {
      "image/png": "[encoded data removed]",
      "text/plain": [
       "<Figure size 432x288 with 2 Axes>"
      ]
     },
     "metadata": {
      "needs_background": "light"
     },
     "output_type": "display_data"
    }
   ],
   "source": [
    "#starting with 1\n",
    "svc_clf = SVC(kernel= 'linear', C=1)\n",
    "svc_clf.fit(tfidf_train, y_train)\n",
    "score(svc_clf, tfidf_train, y_train, tfidf_test, y_test)"
   ]
  },
  {
   "cell_type": "code",
   "execution_count": 47,
   "metadata": {},
   "outputs": [
    {
     "name": "stdout",
     "output_type": "stream",
     "text": [
      "test accuracy score = 0.6946766388033436 train accuracy score = 0.763308402991641\n"
     ]
    },
    {
     "data": {
      "image/png": "[encoded data removed]",
      "text/plain": [
       "<Figure size 432x288 with 2 Axes>"
      ]
     },
     "metadata": {
      "needs_background": "light"
     },
     "output_type": "display_data"
    }
   ],
   "source": [
    "#reducing to 0.5 = stronger regulation\n",
    "svc_clf = SVC(kernel= 'linear', C=0.5)\n",
    "svc_clf.fit(tfidf_train, y_train)\n",
    "score(svc_clf, tfidf_train, y_train, tfidf_test, y_test)"
   ]
  },
  {
   "cell_type": "code",
   "execution_count": 48,
   "metadata": {
    "scrolled": false
   },
   "outputs": [
    {
     "name": "stdout",
     "output_type": "stream",
     "text": [
      "test accuracy score = 0.656841179058513 train accuracy score = 0.6631470890159847\n"
     ]
    },
    {
     "data": {
      "image/png": "[encoded data removed]",
      "text/plain": [
       "<Figure size 432x288 with 2 Axes>"
      ]
     },
     "metadata": {
      "needs_background": "light"
     },
     "output_type": "display_data"
    }
   ],
   "source": [
    "#still overfit! reducing a bit more\n",
    "svc_clf = SVC(kernel= 'linear', C=0.2)\n",
    "svc_clf.fit(tfidf_train, y_train)\n",
    "score(svc_clf, tfidf_train, y_train, tfidf_test, y_test)"
   ]
  },
  {
   "cell_type": "markdown",
   "metadata": {},
   "source": [
    "The tradeoff to reducing overfitting in this model is that the accuracy score was sacrificed. It's predicting almost everything as a zero. "
   ]
  },
  {
   "cell_type": "markdown",
   "metadata": {},
   "source": [
    "## Modeling with Deep Learning\n",
    "\n",
    "Since these classifiers aren't seeing great results, I'm going to take this a step further with pre-trained word embeddings and neural networks."
   ]
  },
  {
   "cell_type": "markdown",
   "metadata": {},
   "source": [
    "### GloVe\n",
    "\n",
    "Global Vectors for Word Representation is a pre-trained model by the Stanford NLP Group, trained on massive data sets to obtain vector representations for words. To use it I will need to leverage keras, and import the glove text file."
   ]
  },
  {
   "cell_type": "code",
   "execution_count": 49,
   "metadata": {},
   "outputs": [
    {
     "name": "stderr",
     "output_type": "stream",
     "text": [
      "C:\\Users\\christina.sarver\\Anaconda3\\envs\\learn-env\\lib\\site-packages\\gensim\\similarities\\__init__.py:15: UserWarning: The gensim.similarities.levenshtein submodule is disabled, because the optional Levenshtein package <https://pypi.org/project/python-Levenshtein/> is unavailable. Install Levenhstein (e.g. `pip install python-Levenshtein`) to suppress this warning.\n",
      "  warnings.warn(msg)\n"
     ]
    }
   ],
   "source": [
    "#imports for keras/tensorflow to use gloVe with neural nets\n",
    "from gensim.models import Word2Vec\n",
    "from keras.preprocessing.sequence import pad_sequences\n",
    "from keras.layers import Input, Dense, LSTM, Embedding\n",
    "from keras.layers import Dropout, Activation, Bidirectional, GlobalMaxPool1D\n",
    "from keras.models import Sequential\n",
    "from keras import initializers, regularizers, constraints, optimizers, layers\n",
    "from keras.preprocessing import text, sequence\n",
    "from keras.utils import to_categorical\n",
    "from tensorflow import keras\n",
    "from tensorflow.keras import layers\n",
    "from keras.callbacks import EarlyStopping, ModelCheckpoint"
   ]
  },
  {
   "cell_type": "code",
   "execution_count": 50,
   "metadata": {},
   "outputs": [],
   "source": [
    "glove = {}\n",
    "with open('data/glove.6B.50d.txt', 'rb') as f:\n",
    "    for line in f:\n",
    "        parts = line.split()\n",
    "        word = parts[0].decode('utf-8')\n",
    "        if word in total_vocab:\n",
    "            vector = np.array(parts[1:], dtype=np.float32)\n",
    "            glove[word] = vector"
   ]
  },
  {
   "cell_type": "markdown",
   "metadata": {},
   "source": [
    "GloVe has vectorized the words in my data set:"
   ]
  },
  {
   "cell_type": "code",
   "execution_count": 51,
   "metadata": {
    "scrolled": true
   },
   "outputs": [
    {
     "data": {
      "text/plain": [
       "array([-0.54213  , -0.40598  , -0.57972  ,  0.68902  , -1.2828   ,\n",
       "       -1.4274   , -0.3113   , -0.37996  ,  0.85759  ,  0.74349  ,\n",
       "       -0.27944  , -1.2856   ,  0.30916  ,  0.10983  ,  0.76612  ,\n",
       "        0.052707 , -0.045862 ,  0.97209  , -0.388    ,  0.0061045,\n",
       "        0.36166  ,  0.063978 ,  0.60576  ,  1.1596   , -0.22204  ,\n",
       "        0.55524  , -1.1646   , -0.11687  , -1.2104   , -0.90578  ,\n",
       "        0.36391  ,  0.20946  , -0.19362  , -0.99614  , -0.18209  ,\n",
       "       -0.13782  ,  0.2144   , -0.038234 , -0.29907  , -0.39556  ,\n",
       "       -0.61547  ,  0.1485   , -1.0864   , -0.42129  , -0.42307  ,\n",
       "        0.51809  ,  1.0751   , -0.30472  , -1.4201   ,  1.007    ],\n",
       "      dtype=float32)"
      ]
     },
     "execution_count": 51,
     "metadata": {},
     "output_type": "execute_result"
    }
   ],
   "source": [
    "glove['sxsw']"
   ]
  },
  {
   "cell_type": "markdown",
   "metadata": {},
   "source": [
    "Now I'm going to define a class to create mean word embeddings:"
   ]
  },
  {
   "cell_type": "code",
   "execution_count": 52,
   "metadata": {},
   "outputs": [],
   "source": [
    "class W2vVectorizer(object):\n",
    "    \n",
    "    def __init__(self, w2v):\n",
    "        # Takes in a dictionary of words and vectors as input\n",
    "        self.w2v = w2v\n",
    "        if len(w2v) == 0:\n",
    "            self.dimensions = 0\n",
    "        else:\n",
    "            self.dimensions = len(w2v[next(iter(glove))])\n",
    "    \n",
    "    # adding a 'fit' method so I can use in a pipeline\n",
    "    def fit(self, X, y):\n",
    "        return self\n",
    "            \n",
    "    def transform(self, X):\n",
    "        return np.array([\n",
    "            np.mean([self.w2v[w] for w in words if w in self.w2v]\n",
    "                   or [np.zeros(self.dimensions)], axis=0) for words in X])"
   ]
  },
  {
   "cell_type": "markdown",
   "metadata": {},
   "source": [
    "Here I'm going to use Keras' preprocessing tools to tokenize each example, convert them to sequences, and then pad the sequences so they're all the same length."
   ]
  },
  {
   "cell_type": "code",
   "execution_count": 53,
   "metadata": {},
   "outputs": [],
   "source": [
    "tokenizer = text.Tokenizer(num_words=10000)\n",
    "tokenizer.fit_on_texts(list(X_train))\n",
    "X_train_tokenized = tokenizer.texts_to_sequences(X_train)\n",
    "X_test_tokenized = tokenizer.texts_to_sequences(X_test)\n",
    "X_train_token = sequence.pad_sequences(X_train_tokenized, maxlen=100)\n",
    "X_test_token = sequence.pad_sequences(X_test_tokenized, maxlen=100)"
   ]
  },
  {
   "cell_type": "code",
   "execution_count": 54,
   "metadata": {},
   "outputs": [
    {
     "data": {
      "text/plain": [
       "(6819, 100)"
      ]
     },
     "execution_count": 54,
     "metadata": {},
     "output_type": "execute_result"
    }
   ],
   "source": [
    "X_train_token.shape"
   ]
  },
  {
   "cell_type": "markdown",
   "metadata": {},
   "source": [
    "I'll also use keras to encode my y for 3 classes."
   ]
  },
  {
   "cell_type": "code",
   "execution_count": 55,
   "metadata": {},
   "outputs": [],
   "source": [
    "# num_classes = 3\n",
    "\n",
    "# # convert class vectors to class matrices\n",
    "# y_train_cat = keras.utils.to_categorical(y_train, num_classes)\n",
    "# y_test_cat = keras.utils.to_categorical(y_test, num_classes)"
   ]
  },
  {
   "cell_type": "code",
   "execution_count": 56,
   "metadata": {},
   "outputs": [
    {
     "data": {
      "text/plain": [
       "(6819, 3)"
      ]
     },
     "execution_count": 56,
     "metadata": {},
     "output_type": "execute_result"
    }
   ],
   "source": [
    "y_train_enc = pd.get_dummies(y_train).values\n",
    "y_test_enc = pd.get_dummies(y_test).values\n",
    "y_train_enc.shape"
   ]
  },
  {
   "cell_type": "markdown",
   "metadata": {},
   "source": [
    "Both variables appear to be the right dimesions. Time to try a neural net. I'm going to build a sequential model, starting with an embedding layer of 10000 words, which is the number of words in the tokenizer. I'm setting the embedding size as 100 which is the max length parameter I used above.\n",
    "\n",
    "I am then adding two layers, an LSTM and dense layers. To keep it simple, I'm going to run this for 3 epochs. "
   ]
  },
  {
   "cell_type": "markdown",
   "metadata": {},
   "source": [
    "My model will evaluate on accuracy, and use the selected loss function and optimizer. "
   ]
  },
  {
   "cell_type": "code",
   "execution_count": 57,
   "metadata": {},
   "outputs": [],
   "source": [
    "np.random.seed(10)\n",
    "model1 = Sequential()"
   ]
  },
  {
   "cell_type": "code",
   "execution_count": 58,
   "metadata": {},
   "outputs": [],
   "source": [
    "embedding_size = 100\n",
    "model1.add(Embedding(10000, embedding_size))\n",
    "model1.add(LSTM(25, return_sequences=True))\n",
    "model1.add(GlobalMaxPool1D())\n",
    "model1.add(Dense(50, activation='relu'))\n",
    "model1.add(Dense(3, activation='relu'))"
   ]
  },
  {
   "cell_type": "code",
   "execution_count": 59,
   "metadata": {
    "scrolled": true
   },
   "outputs": [
    {
     "name": "stdout",
     "output_type": "stream",
     "text": [
      "Model: \"sequential\"\n",
      "_________________________________________________________________\n",
      "Layer (type)                 Output Shape              Param #   \n",
      "=================================================================\n",
      "embedding (Embedding)        (None, None, 100)         1000000   \n",
      "_________________________________________________________________\n",
      "lstm (LSTM)                  (None, None, 25)          12600     \n",
      "_________________________________________________________________\n",
      "global_max_pooling1d (Global (None, 25)                0         \n",
      "_________________________________________________________________\n",
      "dense (Dense)                (None, 50)                1300      \n",
      "_________________________________________________________________\n",
      "dense_1 (Dense)              (None, 3)                 153       \n",
      "=================================================================\n",
      "Total params: 1,014,053\n",
      "Trainable params: 1,014,053\n",
      "Non-trainable params: 0\n",
      "_________________________________________________________________\n"
     ]
    }
   ],
   "source": [
    "model1.compile(loss='categorical_crossentropy', \n",
    "              optimizer='adam', \n",
    "              metrics=['accuracy'])\n",
    "\n",
    "model1.summary()"
   ]
  },
  {
   "cell_type": "code",
   "execution_count": 60,
   "metadata": {},
   "outputs": [
    {
     "name": "stdout",
     "output_type": "stream",
     "text": [
      "Epoch 1/3\n",
      "192/192 [==============================] - 24s 97ms/step - loss: 6.3417 - accuracy: 0.6066 - val_loss: 6.5229 - val_accuracy: 0.5953\n",
      "Epoch 2/3\n",
      "192/192 [==============================] - 17s 90ms/step - loss: 6.3367 - accuracy: 0.6069 - val_loss: 6.5229 - val_accuracy: 0.5953\n",
      "Epoch 3/3\n",
      "192/192 [==============================] - 17s 89ms/step - loss: 6.1676 - accuracy: 0.6174 - val_loss: 6.5229 - val_accuracy: 0.5953\n"
     ]
    }
   ],
   "source": [
    "model_val = model1.fit(X_train_token, y_train_enc, epochs=3, batch_size=32, validation_split=0.1)"
   ]
  },
  {
   "cell_type": "markdown",
   "metadata": {},
   "source": [
    "Within the three iterations, this model didn't learn much."
   ]
  },
  {
   "cell_type": "code",
   "execution_count": 65,
   "metadata": {
    "scrolled": true
   },
   "outputs": [],
   "source": [
    "def evaluate_nn(model, X_train, X_test, y_train, y_test):\n",
    "    results_train = model.evaluate(X_train_token, y_train_enc)\n",
    "    results_test = model.evaluate(X_test_token, y_test_enc)\n",
    "\n",
    "    print('----------')\n",
    "    print(f'Training Loss: {results_train[0]:.3} \\nTraining Accuracy: {results_train[1]:.3}')\n",
    "    print('----------')\n",
    "    print(f'Test Loss: {results_test[0]:.3} \\nTest Accuracy: {results_test[1]:.3}')"
   ]
  },
  {
   "cell_type": "code",
   "execution_count": 68,
   "metadata": {},
   "outputs": [
    {
     "name": "stdout",
     "output_type": "stream",
     "text": [
      "214/214 [==============================] - 5s 21ms/step - loss: 6.3442 - accuracy: 0.6064\n",
      "72/72 [==============================] - 2s 22ms/step - loss: 6.1267 - accuracy: 0.6199\n",
      "----------\n",
      "Training Loss: 6.34 \n",
      "Training Accuracy: 0.606\n",
      "----------\n",
      "Test Loss: 6.13 \n",
      "Test Accuracy: 0.62\n"
     ]
    }
   ],
   "source": [
    "evaluate_nn(model1, X_train_token, X_test_token, y_train_enc, y_test_enc)"
   ]
  },
  {
   "cell_type": "markdown",
   "metadata": {},
   "source": [
    "In an attempt to add regularization parameters, I'm going to add dropout layers to hopefully make the model less sensitive to variance. I'll also add more epochs to allow it to learn."
   ]
  },
  {
   "cell_type": "code",
   "execution_count": 72,
   "metadata": {},
   "outputs": [],
   "source": [
    "np.random.seed(10)\n",
    "model2 = Sequential()\n",
    "\n",
    "model2.add(Embedding(10000, embedding_size))\n",
    "model2.add(LSTM(25, return_sequences=True))\n",
    "model2.add(GlobalMaxPool1D())\n",
    "model2.add(Dropout(0.5))\n",
    "model2.add(Dense(50, activation='relu'))\n",
    "model2.add(Dropout(0.5))\n",
    "model2.add(Dense(3, activation='softmax'))"
   ]
  },
  {
   "cell_type": "code",
   "execution_count": 73,
   "metadata": {},
   "outputs": [],
   "source": [
    "model2.compile(loss='categorical_crossentropy', \n",
    "              optimizer='adam', \n",
    "              metrics=['accuracy'])"
   ]
  },
  {
   "cell_type": "code",
   "execution_count": 74,
   "metadata": {
    "scrolled": true
   },
   "outputs": [
    {
     "name": "stdout",
     "output_type": "stream",
     "text": [
      "Model: \"sequential_3\"\n",
      "_________________________________________________________________\n",
      "Layer (type)                 Output Shape              Param #   \n",
      "=================================================================\n",
      "embedding_1 (Embedding)      (None, None, 100)         1000000   \n",
      "_________________________________________________________________\n",
      "lstm_1 (LSTM)                (None, None, 25)          12600     \n",
      "_________________________________________________________________\n",
      "global_max_pooling1d_1 (Glob (None, 25)                0         \n",
      "_________________________________________________________________\n",
      "dropout (Dropout)            (None, 25)                0         \n",
      "_________________________________________________________________\n",
      "dense_2 (Dense)              (None, 50)                1300      \n",
      "_________________________________________________________________\n",
      "dropout_1 (Dropout)          (None, 50)                0         \n",
      "_________________________________________________________________\n",
      "dense_3 (Dense)              (None, 3)                 153       \n",
      "=================================================================\n",
      "Total params: 1,014,053\n",
      "Trainable params: 1,014,053\n",
      "Non-trainable params: 0\n",
      "_________________________________________________________________\n"
     ]
    }
   ],
   "source": [
    "model2.summary()"
   ]
  },
  {
   "cell_type": "code",
   "execution_count": 75,
   "metadata": {},
   "outputs": [
    {
     "name": "stdout",
     "output_type": "stream",
     "text": [
      "Epoch 1/6\n",
      "214/214 [==============================] - 24s 90ms/step - loss: 0.9415 - accuracy: 0.5375\n",
      "Epoch 2/6\n",
      "214/214 [==============================] - 18s 86ms/step - loss: 0.8334 - accuracy: 0.6181\n",
      "Epoch 3/6\n",
      "214/214 [==============================] - 19s 90ms/step - loss: 0.7163 - accuracy: 0.68691s - l - ETA: 0s - loss: 0.7164 - accuracy: 0.68\n",
      "Epoch 4/6\n",
      "214/214 [==============================] - 19s 90ms/step - loss: 0.5933 - accuracy: 0.7625\n",
      "Epoch 5/6\n",
      "214/214 [==============================] - 19s 89ms/step - loss: 0.4681 - accuracy: 0.8222\n",
      "Epoch 6/6\n",
      "214/214 [==============================] - 20s 92ms/step - loss: 0.3913 - accuracy: 0.84861s - los\n"
     ]
    }
   ],
   "source": [
    "model2_val = model2.fit(X_train_token, y_train_enc, epochs=6, batch_size=32)"
   ]
  },
  {
   "cell_type": "code",
   "execution_count": 76,
   "metadata": {},
   "outputs": [
    {
     "name": "stdout",
     "output_type": "stream",
     "text": [
      "214/214 [==============================] - 7s 25ms/step - loss: 0.2511 - accuracy: 0.9078 0s - loss: 0.2512 - accuracy: 0.90\n",
      "72/72 [==============================] - 2s 23ms/step - loss: 0.8573 - accuracy: 0.6960\n",
      "----------\n",
      "Training Loss: 0.251 \n",
      "Training Accuracy: 0.908\n",
      "----------\n",
      "Test Loss: 0.857 \n",
      "Test Accuracy: 0.696\n"
     ]
    }
   ],
   "source": [
    "evaluate_nn(model2, X_train_token, X_test_token, y_train_enc, y_test_enc)"
   ]
  },
  {
   "cell_type": "markdown",
   "metadata": {},
   "source": [
    "The accuracy score improved pretty quickly, but it appears that the neural net is still really struggling with the test set. "
   ]
  },
  {
   "cell_type": "code",
   "execution_count": 79,
   "metadata": {},
   "outputs": [
    {
     "data": {
      "text/plain": [
       "dict_keys(['loss', 'accuracy'])"
      ]
     },
     "execution_count": 79,
     "metadata": {},
     "output_type": "execute_result"
    }
   ],
   "source": [
    "model2_val.history.keys()"
   ]
  },
  {
   "cell_type": "code",
   "execution_count": 77,
   "metadata": {},
   "outputs": [
    {
     "ename": "KeyError",
     "evalue": "'val_accuracy'",
     "output_type": "error",
     "traceback": [
      "\u001b[1;31m---------------------------------------------------------------------------\u001b[0m",
      "\u001b[1;31mKeyError\u001b[0m                                  Traceback (most recent call last)",
      "\u001b[1;32m<ipython-input-77-77e04a965230>\u001b[0m in \u001b[0;36m<module>\u001b[1;34m\u001b[0m\n\u001b[0;32m      5\u001b[0m \u001b[1;33m\u001b[0m\u001b[0m\n\u001b[0;32m      6\u001b[0m \u001b[0macc_values\u001b[0m \u001b[1;33m=\u001b[0m \u001b[0mbaseline_model_val_dict\u001b[0m\u001b[1;33m[\u001b[0m\u001b[1;34m'accuracy'\u001b[0m\u001b[1;33m]\u001b[0m\u001b[1;33m\u001b[0m\u001b[1;33m\u001b[0m\u001b[0m\n\u001b[1;32m----> 7\u001b[1;33m \u001b[0mval_acc\u001b[0m \u001b[1;33m=\u001b[0m \u001b[0mbaseline_model_val_dict\u001b[0m\u001b[1;33m[\u001b[0m\u001b[1;34m'val_accuracy'\u001b[0m\u001b[1;33m]\u001b[0m\u001b[1;33m\u001b[0m\u001b[1;33m\u001b[0m\u001b[0m\n\u001b[0m\u001b[0;32m      8\u001b[0m \u001b[1;33m\u001b[0m\u001b[0m\n\u001b[0;32m      9\u001b[0m \u001b[0mepochs\u001b[0m \u001b[1;33m=\u001b[0m \u001b[0mrange\u001b[0m\u001b[1;33m(\u001b[0m\u001b[1;36m1\u001b[0m\u001b[1;33m,\u001b[0m \u001b[0mlen\u001b[0m\u001b[1;33m(\u001b[0m\u001b[0mloss_values\u001b[0m\u001b[1;33m)\u001b[0m \u001b[1;33m+\u001b[0m \u001b[1;36m1\u001b[0m\u001b[1;33m)\u001b[0m\u001b[1;33m\u001b[0m\u001b[1;33m\u001b[0m\u001b[0m\n",
      "\u001b[1;31mKeyError\u001b[0m: 'val_accuracy'"
     ]
    },
    {
     "data": {
      "image/png": "[encoded data removed]",
      "text/plain": [
       "<Figure size 720x432 with 1 Axes>"
      ]
     },
     "metadata": {
      "needs_background": "light"
     },
     "output_type": "display_data"
    }
   ],
   "source": [
    "# Access the history attribute and store the dictionary\n",
    "baseline_model_val_dict = model2_val.history\n",
    "\n",
    "fig, ax = plt.subplots(figsize=(10, 6))\n",
    "\n",
    "acc_values = baseline_model_val_dict['accuracy']\n",
    "val_acc = baseline_model_val_dict['val_accuracy']\n",
    "\n",
    "epochs = range(1, len(loss_values) + 1)\n",
    "ax.plot(epochs, loss_values, label='Training accuracy')\n",
    "ax.plot(epochs, val_loss_values, label='Validation accuracy')\n",
    "\n",
    "ax.set_title('Training & validation accuracy')\n",
    "ax.set_xlabel('Epochs')\n",
    "ax.set_ylabel('Accuracy')\n",
    "ax.legend();"
   ]
  },
  {
   "cell_type": "markdown",
   "metadata": {},
   "source": [
    "There are still many options I can tap into to improve performance. As a next step, I'm going to apply, L2 regularization and run many more epochs. I'll also add early stopping so I don't have an unnecessary amount of runtime. "
   ]
  },
  {
   "cell_type": "code",
   "execution_count": 80,
   "metadata": {},
   "outputs": [],
   "source": [
    "early_stopping = [EarlyStopping(monitor='accuracy', patience=10)]"
   ]
  },
  {
   "cell_type": "code",
   "execution_count": 81,
   "metadata": {},
   "outputs": [],
   "source": [
    "np.random.seed(10)\n",
    "l2_model = Sequential()\n",
    "\n",
    "l2_model.add(Embedding(10000, embedding_size))\n",
    "l2_model.add(LSTM(25, return_sequences=True))\n",
    "l2_model.add(GlobalMaxPool1D())\n",
    "l2_model.add(Dropout(0.5))\n",
    "l2_model.add(Dense(50, activation='relu', kernel_regularizer=regularizers.l2(0.005)))\n",
    "l2_model.add(Dropout(0.5))\n",
    "l2_model.add(Dense(3, activation='softmax'))"
   ]
  },
  {
   "cell_type": "code",
   "execution_count": 82,
   "metadata": {},
   "outputs": [],
   "source": [
    "l2_model.compile(loss='categorical_crossentropy', \n",
    "              optimizer='adam', \n",
    "              metrics=['accuracy'])"
   ]
  },
  {
   "cell_type": "code",
   "execution_count": 83,
   "metadata": {},
   "outputs": [
    {
     "name": "stdout",
     "output_type": "stream",
     "text": [
      "Epoch 1/150\n",
      "27/27 [==============================] - 12s 222ms/step - loss: 1.1959 - accuracy: 0.5379\n",
      "Epoch 2/150\n",
      "27/27 [==============================] - 6s 230ms/step - loss: 1.0231 - accuracy: 0.5685\n",
      "Epoch 3/150\n",
      "27/27 [==============================] - 6s 228ms/step - loss: 0.9758 - accuracy: 0.5816\n",
      "Epoch 4/150\n",
      "27/27 [==============================] - 5s 198ms/step - loss: 0.9371 - accuracy: 0.5949\n",
      "Epoch 5/150\n",
      "27/27 [==============================] - 6s 222ms/step - loss: 0.8953 - accuracy: 0.6153\n",
      "Epoch 6/150\n",
      "27/27 [==============================] - 6s 207ms/step - loss: 0.8181 - accuracy: 0.6663\n",
      "Epoch 7/150\n",
      "27/27 [==============================] - 6s 219ms/step - loss: 0.7002 - accuracy: 0.7517\n",
      "Epoch 8/150\n",
      "27/27 [==============================] - 6s 213ms/step - loss: 0.6076 - accuracy: 0.7963\n",
      "Epoch 9/150\n",
      "27/27 [==============================] - 6s 219ms/step - loss: 0.5217 - accuracy: 0.8230\n",
      "Epoch 10/150\n",
      "27/27 [==============================] - 6s 216ms/step - loss: 0.4693 - accuracy: 0.8365\n",
      "Epoch 11/150\n",
      "27/27 [==============================] - 6s 222ms/step - loss: 0.4311 - accuracy: 0.8408\n",
      "Epoch 12/150\n",
      "27/27 [==============================] - 6s 214ms/step - loss: 0.4057 - accuracy: 0.8503\n",
      "Epoch 13/150\n",
      "27/27 [==============================] - 6s 217ms/step - loss: 0.3569 - accuracy: 0.8630\n",
      "Epoch 14/150\n",
      "27/27 [==============================] - 6s 215ms/step - loss: 0.3295 - accuracy: 0.8788\n",
      "Epoch 15/150\n",
      "27/27 [==============================] - 6s 211ms/step - loss: 0.3110 - accuracy: 0.8891\n",
      "Epoch 16/150\n",
      "27/27 [==============================] - 6s 215ms/step - loss: 0.2956 - accuracy: 0.8953\n",
      "Epoch 17/150\n",
      "27/27 [==============================] - 6s 220ms/step - loss: 0.2753 - accuracy: 0.9000\n",
      "Epoch 18/150\n",
      "27/27 [==============================] - 6s 214ms/step - loss: 0.2568 - accuracy: 0.9098\n",
      "Epoch 19/150\n",
      "27/27 [==============================] - 6s 214ms/step - loss: 0.2446 - accuracy: 0.9141\n",
      "Epoch 20/150\n",
      "27/27 [==============================] - 6s 211ms/step - loss: 0.2424 - accuracy: 0.9122\n",
      "Epoch 21/150\n",
      "27/27 [==============================] - 6s 215ms/step - loss: 0.2205 - accuracy: 0.9245\n",
      "Epoch 22/150\n",
      "27/27 [==============================] - 6s 214ms/step - loss: 0.2311 - accuracy: 0.9128\n",
      "Epoch 23/150\n",
      "27/27 [==============================] - 6s 212ms/step - loss: 0.2070 - accuracy: 0.9249\n",
      "Epoch 24/150\n",
      "27/27 [==============================] - 5s 198ms/step - loss: 0.2166 - accuracy: 0.9246\n",
      "Epoch 25/150\n",
      "27/27 [==============================] - 5s 204ms/step - loss: 0.2039 - accuracy: 0.9241\n",
      "Epoch 26/150\n",
      "27/27 [==============================] - 5s 197ms/step - loss: 0.2211 - accuracy: 0.9263\n",
      "Epoch 27/150\n",
      "27/27 [==============================] - 5s 195ms/step - loss: 0.2087 - accuracy: 0.9203\n",
      "Epoch 28/150\n",
      "27/27 [==============================] - 5s 201ms/step - loss: 0.1927 - accuracy: 0.9313\n",
      "Epoch 29/150\n",
      "27/27 [==============================] - 6s 206ms/step - loss: 0.1872 - accuracy: 0.9320\n",
      "Epoch 30/150\n",
      "27/27 [==============================] - 5s 199ms/step - loss: 0.1851 - accuracy: 0.9338\n",
      "Epoch 31/150\n",
      "27/27 [==============================] - 5s 201ms/step - loss: 0.1827 - accuracy: 0.9323\n",
      "Epoch 32/150\n",
      "27/27 [==============================] - 5s 202ms/step - loss: 0.1726 - accuracy: 0.9353\n",
      "Epoch 33/150\n",
      "27/27 [==============================] - 6s 211ms/step - loss: 0.1674 - accuracy: 0.9365\n",
      "Epoch 34/150\n",
      "27/27 [==============================] - 5s 202ms/step - loss: 0.1650 - accuracy: 0.9452\n",
      "Epoch 35/150\n",
      "27/27 [==============================] - 6s 209ms/step - loss: 0.1565 - accuracy: 0.9430\n",
      "Epoch 36/150\n",
      "27/27 [==============================] - 5s 200ms/step - loss: 0.1587 - accuracy: 0.9363\n",
      "Epoch 37/150\n",
      "27/27 [==============================] - 6s 206ms/step - loss: 0.1585 - accuracy: 0.9391\n",
      "Epoch 38/150\n",
      "27/27 [==============================] - 6s 206ms/step - loss: 0.1500 - accuracy: 0.9465\n",
      "Epoch 39/150\n",
      "27/27 [==============================] - 6s 205ms/step - loss: 0.1552 - accuracy: 0.9385\n",
      "Epoch 40/150\n",
      "27/27 [==============================] - 6s 208ms/step - loss: 0.1459 - accuracy: 0.9472\n",
      "Epoch 41/150\n",
      "27/27 [==============================] - 5s 204ms/step - loss: 0.1560 - accuracy: 0.9417\n",
      "Epoch 42/150\n",
      "27/27 [==============================] - 5s 202ms/step - loss: 0.1539 - accuracy: 0.9418\n",
      "Epoch 43/150\n",
      "27/27 [==============================] - 5s 202ms/step - loss: 0.1454 - accuracy: 0.9492\n",
      "Epoch 44/150\n",
      "27/27 [==============================] - 6s 211ms/step - loss: 0.1458 - accuracy: 0.94231s - loss: 0.1442 - \n",
      "Epoch 45/150\n",
      "27/27 [==============================] - 6s 210ms/step - loss: 0.1535 - accuracy: 0.9470\n",
      "Epoch 46/150\n",
      "27/27 [==============================] - 6s 207ms/step - loss: 0.1471 - accuracy: 0.9439\n",
      "Epoch 47/150\n",
      "27/27 [==============================] - 6s 209ms/step - loss: 0.1521 - accuracy: 0.9444\n",
      "Epoch 48/150\n",
      "27/27 [==============================] - 6s 204ms/step - loss: 0.1413 - accuracy: 0.9480\n",
      "Epoch 49/150\n",
      "27/27 [==============================] - 5s 199ms/step - loss: 0.1349 - accuracy: 0.9499\n",
      "Epoch 50/150\n",
      "27/27 [==============================] - 6s 205ms/step - loss: 0.1419 - accuracy: 0.9423\n",
      "Epoch 51/150\n",
      "27/27 [==============================] - 6s 205ms/step - loss: 0.1385 - accuracy: 0.9526\n",
      "Epoch 52/150\n",
      "27/27 [==============================] - 6s 204ms/step - loss: 0.1357 - accuracy: 0.9489\n",
      "Epoch 53/150\n",
      "27/27 [==============================] - 6s 225ms/step - loss: 0.1389 - accuracy: 0.9445\n",
      "Epoch 54/150\n",
      "27/27 [==============================] - 7s 251ms/step - loss: 0.1439 - accuracy: 0.9433\n",
      "Epoch 55/150\n",
      "27/27 [==============================] - 6s 232ms/step - loss: 0.1437 - accuracy: 0.9504\n",
      "Epoch 56/150\n",
      "27/27 [==============================] - 6s 220ms/step - loss: 0.1443 - accuracy: 0.9485\n",
      "Epoch 57/150\n",
      "27/27 [==============================] - 6s 225ms/step - loss: 0.1418 - accuracy: 0.9470\n",
      "Epoch 58/150\n",
      "27/27 [==============================] - 6s 222ms/step - loss: 0.1352 - accuracy: 0.9448\n",
      "Epoch 59/150\n",
      "27/27 [==============================] - 6s 219ms/step - loss: 0.1320 - accuracy: 0.9485\n",
      "Epoch 60/150\n",
      "27/27 [==============================] - 6s 221ms/step - loss: 0.1368 - accuracy: 0.9491\n",
      "Epoch 61/150\n",
      "27/27 [==============================] - 6s 221ms/step - loss: 0.1279 - accuracy: 0.9513\n",
      "Epoch 62/150\n",
      "27/27 [==============================] - 6s 227ms/step - loss: 0.1241 - accuracy: 0.9524\n",
      "Epoch 63/150\n",
      "27/27 [==============================] - 6s 205ms/step - loss: 0.1275 - accuracy: 0.9483\n",
      "Epoch 64/150\n",
      "27/27 [==============================] - 6s 229ms/step - loss: 0.1144 - accuracy: 0.9556\n",
      "Epoch 65/150\n",
      "27/27 [==============================] - 6s 222ms/step - loss: 0.1197 - accuracy: 0.9522\n",
      "Epoch 66/150\n",
      "27/27 [==============================] - 6s 221ms/step - loss: 0.1326 - accuracy: 0.9470\n",
      "Epoch 67/150\n",
      "27/27 [==============================] - 6s 224ms/step - loss: 0.1341 - accuracy: 0.9518\n",
      "Epoch 68/150\n",
      "27/27 [==============================] - 6s 221ms/step - loss: 0.1273 - accuracy: 0.9544\n",
      "Epoch 69/150\n",
      "27/27 [==============================] - 6s 223ms/step - loss: 0.1182 - accuracy: 0.9580\n",
      "Epoch 70/150\n",
      "27/27 [==============================] - 6s 214ms/step - loss: 0.1289 - accuracy: 0.9561\n",
      "Epoch 71/150\n",
      "27/27 [==============================] - 6s 212ms/step - loss: 0.1351 - accuracy: 0.9471\n",
      "Epoch 72/150\n",
      "27/27 [==============================] - 6s 219ms/step - loss: 0.1355 - accuracy: 0.9503\n",
      "Epoch 73/150\n",
      "27/27 [==============================] - 6s 241ms/step - loss: 0.1285 - accuracy: 0.9539\n",
      "Epoch 74/150\n",
      "27/27 [==============================] - 6s 212ms/step - loss: 0.1227 - accuracy: 0.9579\n",
      "Epoch 75/150\n",
      "27/27 [==============================] - 6s 207ms/step - loss: 0.1255 - accuracy: 0.9504\n",
      "Epoch 76/150\n",
      "27/27 [==============================] - 6s 220ms/step - loss: 0.1249 - accuracy: 0.9517\n",
      "Epoch 77/150\n",
      "27/27 [==============================] - 5s 203ms/step - loss: 0.1131 - accuracy: 0.9611\n",
      "Epoch 78/150\n",
      "27/27 [==============================] - 6s 207ms/step - loss: 0.1174 - accuracy: 0.9575\n",
      "Epoch 79/150\n",
      "27/27 [==============================] - 5s 196ms/step - loss: 0.1151 - accuracy: 0.9615\n",
      "Epoch 80/150\n",
      "27/27 [==============================] - 5s 204ms/step - loss: 0.1175 - accuracy: 0.9598\n",
      "Epoch 81/150\n",
      "27/27 [==============================] - 5s 203ms/step - loss: 0.1138 - accuracy: 0.9616\n",
      "Epoch 82/150\n",
      "27/27 [==============================] - 6s 208ms/step - loss: 0.1173 - accuracy: 0.9595\n",
      "Epoch 83/150\n",
      "27/27 [==============================] - 5s 200ms/step - loss: 0.1120 - accuracy: 0.9613\n",
      "Epoch 84/150\n",
      "27/27 [==============================] - 5s 204ms/step - loss: 0.1057 - accuracy: 0.9632\n",
      "Epoch 85/150\n",
      "27/27 [==============================] - 7s 251ms/step - loss: 0.1058 - accuracy: 0.9645\n",
      "Epoch 86/150\n",
      "27/27 [==============================] - 6s 207ms/step - loss: 0.1131 - accuracy: 0.9604\n",
      "Epoch 87/150\n",
      "27/27 [==============================] - 7s 262ms/step - loss: 0.1228 - accuracy: 0.9613\n",
      "Epoch 88/150\n",
      "27/27 [==============================] - 7s 245ms/step - loss: 0.1028 - accuracy: 0.9625\n",
      "Epoch 89/150\n",
      "27/27 [==============================] - 8s 287ms/step - loss: 0.1115 - accuracy: 0.9600\n",
      "Epoch 90/150\n",
      "27/27 [==============================] - 7s 244ms/step - loss: 0.1012 - accuracy: 0.9675\n",
      "Epoch 91/150\n",
      "27/27 [==============================] - 7s 264ms/step - loss: 0.1088 - accuracy: 0.9626\n",
      "Epoch 92/150\n",
      "27/27 [==============================] - 6s 225ms/step - loss: 0.1011 - accuracy: 0.9649\n",
      "Epoch 93/150\n",
      "27/27 [==============================] - 6s 221ms/step - loss: 0.0947 - accuracy: 0.9701\n",
      "Epoch 94/150\n",
      "27/27 [==============================] - 6s 235ms/step - loss: 0.1014 - accuracy: 0.9677\n",
      "Epoch 95/150\n",
      "27/27 [==============================] - 6s 211ms/step - loss: 0.1022 - accuracy: 0.9669\n",
      "Epoch 96/150\n",
      "27/27 [==============================] - 6s 236ms/step - loss: 0.0944 - accuracy: 0.9698\n",
      "Epoch 97/150\n",
      "27/27 [==============================] - 6s 226ms/step - loss: 0.1067 - accuracy: 0.9649\n",
      "Epoch 98/150\n",
      "27/27 [==============================] - 6s 218ms/step - loss: 0.1109 - accuracy: 0.9661\n",
      "Epoch 99/150\n",
      "27/27 [==============================] - 6s 236ms/step - loss: 0.0980 - accuracy: 0.9669\n",
      "Epoch 100/150\n",
      "27/27 [==============================] - 6s 218ms/step - loss: 0.0902 - accuracy: 0.9719\n",
      "Epoch 101/150\n",
      "27/27 [==============================] - 5s 204ms/step - loss: 0.0876 - accuracy: 0.9702\n",
      "Epoch 102/150\n",
      "27/27 [==============================] - 6s 237ms/step - loss: 0.0882 - accuracy: 0.9697\n",
      "Epoch 103/150\n",
      "27/27 [==============================] - 6s 239ms/step - loss: 0.1072 - accuracy: 0.9613\n",
      "Epoch 104/150\n",
      "27/27 [==============================] - 6s 224ms/step - loss: 0.0888 - accuracy: 0.9689\n",
      "Epoch 105/150\n",
      "27/27 [==============================] - 6s 219ms/step - loss: 0.1086 - accuracy: 0.9650\n",
      "Epoch 106/150\n",
      "27/27 [==============================] - 6s 215ms/step - loss: 0.0901 - accuracy: 0.9691\n",
      "Epoch 107/150\n",
      "27/27 [==============================] - 5s 180ms/step - loss: 0.0860 - accuracy: 0.9720\n",
      "Epoch 108/150\n",
      "27/27 [==============================] - 6s 220ms/step - loss: 0.0911 - accuracy: 0.9719\n",
      "Epoch 109/150\n",
      "27/27 [==============================] - 6s 222ms/step - loss: 0.0894 - accuracy: 0.97092s - loss:\n",
      "Epoch 110/150\n",
      "27/27 [==============================] - 6s 212ms/step - loss: 0.0838 - accuracy: 0.9709\n",
      "Epoch 111/150\n",
      "27/27 [==============================] - 6s 230ms/step - loss: 0.0817 - accuracy: 0.9724\n",
      "Epoch 112/150\n",
      "27/27 [==============================] - 6s 209ms/step - loss: 0.0816 - accuracy: 0.9726\n",
      "Epoch 113/150\n",
      "27/27 [==============================] - 6s 215ms/step - loss: 0.0879 - accuracy: 0.9712\n",
      "Epoch 114/150\n",
      "27/27 [==============================] - 7s 241ms/step - loss: 0.1287 - accuracy: 0.9540\n",
      "Epoch 115/150\n",
      "27/27 [==============================] - 6s 232ms/step - loss: 0.0981 - accuracy: 0.9708\n",
      "Epoch 116/150\n",
      "27/27 [==============================] - 6s 213ms/step - loss: 0.0937 - accuracy: 0.9680\n",
      "Epoch 117/150\n",
      "27/27 [==============================] - 6s 223ms/step - loss: 0.0880 - accuracy: 0.9726\n",
      "Epoch 118/150\n",
      "27/27 [==============================] - 7s 258ms/step - loss: 0.0818 - accuracy: 0.9734\n",
      "Epoch 119/150\n",
      "27/27 [==============================] - 7s 235ms/step - loss: 0.0796 - accuracy: 0.9733\n",
      "Epoch 120/150\n",
      "27/27 [==============================] - 6s 229ms/step - loss: 0.0797 - accuracy: 0.9776\n",
      "Epoch 121/150\n",
      "27/27 [==============================] - 7s 253ms/step - loss: 0.0831 - accuracy: 0.9708\n",
      "Epoch 122/150\n",
      "27/27 [==============================] - 6s 231ms/step - loss: 0.0822 - accuracy: 0.9706\n",
      "Epoch 123/150\n",
      "27/27 [==============================] - 7s 251ms/step - loss: 0.0751 - accuracy: 0.9758\n",
      "Epoch 124/150\n",
      "27/27 [==============================] - 7s 245ms/step - loss: 0.0777 - accuracy: 0.9718\n",
      "Epoch 125/150\n",
      "27/27 [==============================] - 6s 223ms/step - loss: 0.0714 - accuracy: 0.9766\n",
      "Epoch 126/150\n",
      "27/27 [==============================] - 7s 244ms/step - loss: 0.0667 - accuracy: 0.9794\n",
      "Epoch 127/150\n",
      "27/27 [==============================] - 6s 209ms/step - loss: 0.0702 - accuracy: 0.9781\n",
      "Epoch 128/150\n",
      "27/27 [==============================] - 6s 241ms/step - loss: 0.0664 - accuracy: 0.9776\n",
      "Epoch 129/150\n",
      "27/27 [==============================] - 8s 280ms/step - loss: 0.0735 - accuracy: 0.9753\n",
      "Epoch 130/150\n",
      "27/27 [==============================] - 7s 248ms/step - loss: 0.0693 - accuracy: 0.9773\n",
      "Epoch 131/150\n",
      "27/27 [==============================] - 6s 236ms/step - loss: 0.0648 - accuracy: 0.9782\n",
      "Epoch 132/150\n",
      "27/27 [==============================] - 6s 239ms/step - loss: 0.0705 - accuracy: 0.9780\n",
      "Epoch 133/150\n",
      "27/27 [==============================] - 6s 230ms/step - loss: 0.0887 - accuracy: 0.9675\n",
      "Epoch 134/150\n",
      "27/27 [==============================] - 6s 216ms/step - loss: 0.0826 - accuracy: 0.9725\n",
      "Epoch 135/150\n",
      "27/27 [==============================] - 6s 219ms/step - loss: 0.0712 - accuracy: 0.9768\n",
      "Epoch 136/150\n",
      "27/27 [==============================] - 6s 214ms/step - loss: 0.0621 - accuracy: 0.9811\n",
      "Epoch 137/150\n",
      "27/27 [==============================] - 6s 224ms/step - loss: 0.0679 - accuracy: 0.9784\n",
      "Epoch 138/150\n",
      "27/27 [==============================] - 6s 219ms/step - loss: 0.0680 - accuracy: 0.9800\n",
      "Epoch 139/150\n",
      "27/27 [==============================] - 6s 212ms/step - loss: 0.0596 - accuracy: 0.9799\n",
      "Epoch 140/150\n",
      "27/27 [==============================] - 6s 232ms/step - loss: 0.0652 - accuracy: 0.9785\n",
      "Epoch 141/150\n",
      "27/27 [==============================] - 6s 231ms/step - loss: 0.0611 - accuracy: 0.9806\n",
      "Epoch 142/150\n",
      "27/27 [==============================] - 6s 238ms/step - loss: 0.0571 - accuracy: 0.9807\n",
      "Epoch 143/150\n",
      "27/27 [==============================] - 6s 223ms/step - loss: 0.0689 - accuracy: 0.9787\n",
      "Epoch 144/150\n",
      "27/27 [==============================] - 6s 215ms/step - loss: 0.0878 - accuracy: 0.9746\n",
      "Epoch 145/150\n",
      "27/27 [==============================] - 6s 228ms/step - loss: 0.0809 - accuracy: 0.9762\n",
      "Epoch 146/150\n",
      "27/27 [==============================] - 6s 225ms/step - loss: 0.0678 - accuracy: 0.9813\n",
      "Epoch 147/150\n",
      "27/27 [==============================] - 6s 227ms/step - loss: 0.0676 - accuracy: 0.9767\n",
      "Epoch 148/150\n",
      "27/27 [==============================] - 6s 222ms/step - loss: 0.0605 - accuracy: 0.9811\n",
      "Epoch 149/150\n",
      "27/27 [==============================] - 7s 244ms/step - loss: 0.0604 - accuracy: 0.9807\n",
      "Epoch 150/150\n",
      "27/27 [==============================] - 6s 233ms/step - loss: 0.0638 - accuracy: 0.9815\n"
     ]
    }
   ],
   "source": [
    "l2_model_val = l2_model.fit(X_train_token, y_train_enc, \n",
    "                            epochs=150, \n",
    "                            batch_size=256, \n",
    "                            callbacks=early_stopping)\n",
    "\n"
   ]
  },
  {
   "cell_type": "code",
   "execution_count": 84,
   "metadata": {},
   "outputs": [
    {
     "name": "stdout",
     "output_type": "stream",
     "text": [
      "214/214 [==============================] - 6s 18ms/step - loss: 0.0408 - accuracy: 0.9878 1s - loss: 0.0452 - accu - ETA: 1s - loss: 0.0441 - accu - E\n",
      "72/72 [==============================] - 1s 20ms/step - loss: 2.5417 - accuracy: 0.6533\n",
      "----------\n",
      "Training Loss: 0.0408 \n",
      "Training Accuracy: 0.988\n",
      "----------\n",
      "Test Loss: 2.54 \n",
      "Test Accuracy: 0.653\n"
     ]
    }
   ],
   "source": [
    "evaluate_nn(l2_model, X_train_token, X_test_token, y_train_enc, y_test_enc)"
   ]
  },
  {
   "cell_type": "markdown",
   "metadata": {},
   "source": [
    "Using L1 regularization"
   ]
  },
  {
   "cell_type": "code",
   "execution_count": 85,
   "metadata": {},
   "outputs": [],
   "source": [
    "np.random.seed(10)\n",
    "l1_model = Sequential()\n",
    "\n",
    "l1_model.add(Embedding(10000, embedding_size))\n",
    "l1_model.add(LSTM(25, return_sequences=True))\n",
    "l1_model.add(GlobalMaxPool1D())\n",
    "l1_model.add(Dropout(0.5))\n",
    "l1_model.add(Dense(50, activation='relu', kernel_regularizer=regularizers.l1(0.005)))\n",
    "l1_model.add(Dropout(0.5))\n",
    "l1_model.add(Dense(3, activation='softmax'))"
   ]
  },
  {
   "cell_type": "code",
   "execution_count": 86,
   "metadata": {},
   "outputs": [],
   "source": [
    "l1_model.compile(loss='categorical_crossentropy', \n",
    "              optimizer='adam', \n",
    "              metrics=['accuracy'])"
   ]
  },
  {
   "cell_type": "code",
   "execution_count": 87,
   "metadata": {},
   "outputs": [
    {
     "name": "stdout",
     "output_type": "stream",
     "text": [
      "Epoch 1/150\n",
      "27/27 [==============================] - 5s 190ms/step - loss: 0.0588 - accuracy: 0.98210s - loss: 0.0591 - accuracy: \n",
      "Epoch 2/150\n",
      "27/27 [==============================] - 5s 195ms/step - loss: 0.0599 - accuracy: 0.98060s - loss: 0.0593 - accuracy: 0.\n",
      "Epoch 3/150\n",
      "27/27 [==============================] - 5s 201ms/step - loss: 0.0637 - accuracy: 0.9795\n",
      "Epoch 4/150\n",
      "27/27 [==============================] - 5s 199ms/step - loss: 0.0600 - accuracy: 0.9787\n",
      "Epoch 5/150\n",
      "27/27 [==============================] - 5s 198ms/step - loss: 0.0646 - accuracy: 0.9792\n",
      "Epoch 6/150\n",
      "27/27 [==============================] - 5s 200ms/step - loss: 0.0592 - accuracy: 0.9827\n",
      "Epoch 7/150\n",
      "27/27 [==============================] - 5s 198ms/step - loss: 0.0635 - accuracy: 0.9787\n",
      "Epoch 8/150\n",
      "27/27 [==============================] - 5s 194ms/step - loss: 0.0581 - accuracy: 0.9833\n",
      "Epoch 9/150\n",
      "27/27 [==============================] - 5s 204ms/step - loss: 0.0577 - accuracy: 0.9811\n",
      "Epoch 10/150\n",
      "27/27 [==============================] - 5s 203ms/step - loss: 0.0643 - accuracy: 0.9824\n",
      "Epoch 11/150\n",
      "27/27 [==============================] - 5s 197ms/step - loss: 0.0650 - accuracy: 0.9793\n",
      "Epoch 12/150\n",
      "27/27 [==============================] - 5s 203ms/step - loss: 0.0810 - accuracy: 0.9736\n",
      "Epoch 13/150\n",
      "27/27 [==============================] - 6s 206ms/step - loss: 0.0809 - accuracy: 0.9771\n",
      "Epoch 14/150\n",
      "27/27 [==============================] - 6s 227ms/step - loss: 0.0763 - accuracy: 0.9789\n",
      "Epoch 15/150\n",
      "27/27 [==============================] - 5s 193ms/step - loss: 0.0891 - accuracy: 0.97362s - loss:\n",
      "Epoch 16/150\n",
      "27/27 [==============================] - 5s 205ms/step - loss: 0.0768 - accuracy: 0.9776\n",
      "Epoch 17/150\n",
      "27/27 [==============================] - 5s 198ms/step - loss: 0.0682 - accuracy: 0.97812s - loss:\n",
      "Epoch 18/150\n",
      "27/27 [==============================] - 6s 209ms/step - loss: 0.0698 - accuracy: 0.9793\n"
     ]
    }
   ],
   "source": [
    "l1_model_val = l2_model.fit(X_train_token, y_train_enc, \n",
    "                            epochs=150, \n",
    "                            batch_size=256, \n",
    "                            callbacks=early_stopping)"
   ]
  },
  {
   "cell_type": "code",
   "execution_count": 88,
   "metadata": {},
   "outputs": [
    {
     "name": "stdout",
     "output_type": "stream",
     "text": [
      "214/214 [==============================] - 5s 17ms/step - loss: 1.9857 - accuracy: 0.6112\n",
      "72/72 [==============================] - 1s 16ms/step - loss: 1.9854 - accuracy: 0.6199\n",
      "----------\n",
      "Training Loss: 1.99 \n",
      "Training Accuracy: 0.606\n",
      "----------\n",
      "Test Loss: 1.99 \n",
      "Test Accuracy: 0.62\n"
     ]
    }
   ],
   "source": [
    "evaluate_nn(l1_model, X_train_token, X_test_token, y_train_enc, y_test_enc)"
   ]
  },
  {
   "cell_type": "code",
   "execution_count": null,
   "metadata": {},
   "outputs": [],
   "source": []
  },
  {
   "cell_type": "code",
   "execution_count": null,
   "metadata": {},
   "outputs": [],
   "source": []
  },
  {
   "cell_type": "code",
   "execution_count": null,
   "metadata": {},
   "outputs": [],
   "source": []
  },
  {
   "cell_type": "markdown",
   "metadata": {},
   "source": [
    "### Word2Vec"
   ]
  },
  {
   "cell_type": "code",
   "execution_count": null,
   "metadata": {},
   "outputs": [],
   "source": [
    "data = raw_data['clean_tweet'].map(word_tokenize)"
   ]
  },
  {
   "cell_type": "code",
   "execution_count": null,
   "metadata": {
    "scrolled": false
   },
   "outputs": [],
   "source": [
    "data[:5]"
   ]
  },
  {
   "cell_type": "code",
   "execution_count": null,
   "metadata": {
    "scrolled": true
   },
   "outputs": [],
   "source": [
    "processed_data[:5]"
   ]
  },
  {
   "cell_type": "code",
   "execution_count": null,
   "metadata": {
    "scrolled": true
   },
   "outputs": [],
   "source": [
    "model = Word2Vec(data, window=5, min_count=1, workers=4)"
   ]
  },
  {
   "cell_type": "code",
   "execution_count": null,
   "metadata": {},
   "outputs": [],
   "source": [
    "model.train(data, total_examples=model.corpus_count, epochs=10)"
   ]
  },
  {
   "cell_type": "code",
   "execution_count": null,
   "metadata": {},
   "outputs": [],
   "source": [
    "wv = model.wv"
   ]
  },
  {
   "cell_type": "code",
   "execution_count": null,
   "metadata": {},
   "outputs": [],
   "source": [
    "wv['apple']"
   ]
  },
  {
   "cell_type": "code",
   "execution_count": null,
   "metadata": {},
   "outputs": [],
   "source": [
    "wv.most_similar('apple')\n"
   ]
  },
  {
   "cell_type": "code",
   "execution_count": null,
   "metadata": {},
   "outputs": [],
   "source": []
  },
  {
   "cell_type": "code",
   "execution_count": null,
   "metadata": {},
   "outputs": [],
   "source": []
  },
  {
   "cell_type": "code",
   "execution_count": null,
   "metadata": {},
   "outputs": [],
   "source": []
  },
  {
   "cell_type": "code",
   "execution_count": null,
   "metadata": {},
   "outputs": [],
   "source": []
  },
  {
   "cell_type": "code",
   "execution_count": null,
   "metadata": {},
   "outputs": [],
   "source": []
  },
  {
   "cell_type": "code",
   "execution_count": null,
   "metadata": {},
   "outputs": [],
   "source": []
  },
  {
   "cell_type": "code",
   "execution_count": null,
   "metadata": {},
   "outputs": [],
   "source": []
  },
  {
   "cell_type": "code",
   "execution_count": null,
   "metadata": {},
   "outputs": [],
   "source": []
  },
  {
   "cell_type": "code",
   "execution_count": null,
   "metadata": {},
   "outputs": [],
   "source": []
  },
  {
   "cell_type": "code",
   "execution_count": null,
   "metadata": {},
   "outputs": [],
   "source": []
  },
  {
   "cell_type": "code",
   "execution_count": null,
   "metadata": {},
   "outputs": [],
   "source": []
  },
  {
   "cell_type": "code",
   "execution_count": null,
   "metadata": {},
   "outputs": [],
   "source": []
  }
 ],
 "metadata": {
  "kernelspec": {
   "display_name": "learn-env",
   "language": "python",
   "name": "learn-env"
  },
  "language_info": {
   "codemirror_mode": {
    "name": "ipython",
    "version": 3
   },
   "file_extension": ".py",
   "mimetype": "text/x-python",
   "name": "python",
   "nbconvert_exporter": "python",
   "pygments_lexer": "ipython3",
   "version": "3.6.9"
  }
 },
 "nbformat": 4,
 "nbformat_minor": 4
}
